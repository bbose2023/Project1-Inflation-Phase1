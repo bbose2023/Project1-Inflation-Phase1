{
 "cells": [
  {
   "cell_type": "code",
   "execution_count": 1,
   "id": "de585159-5d93-4f16-b522-b2f3799845aa",
   "metadata": {},
   "outputs": [],
   "source": [
    "import import_ipynb\n"
   ]
  },
  {
   "cell_type": "code",
   "execution_count": 2,
   "id": "77bd2b44-cf6d-412e-9425-a4e5ed811bff",
   "metadata": {},
   "outputs": [
    {
     "ename": "ModuleNotFoundError",
     "evalue": "No module named 'house_price'",
     "output_type": "error",
     "traceback": [
      "\u001b[1;31m---------------------------------------------------------------------------\u001b[0m",
      "\u001b[1;31mModuleNotFoundError\u001b[0m                       Traceback (most recent call last)",
      "Cell \u001b[1;32mIn[2], line 1\u001b[0m\n\u001b[1;32m----> 1\u001b[0m \u001b[38;5;28;01mfrom\u001b[39;00m \u001b[38;5;21;01mhouse_price\u001b[39;00m \u001b[38;5;28;01mimport\u001b[39;00m read_house_index_file\n\u001b[0;32m      2\u001b[0m read_house_index_file()\n",
      "\u001b[1;31mModuleNotFoundError\u001b[0m: No module named 'house_price'"
     ]
    }
   ],
   "source": [
    "from house_price import read_house_index_file\n",
    "read_house_index_file()"
   ]
  },
  {
   "cell_type": "code",
   "execution_count": null,
   "id": "9949ddf6-cbe8-40f4-9898-82f837d0c4f4",
   "metadata": {},
   "outputs": [],
   "source": []
  }
 ],
 "metadata": {
  "kernelspec": {
   "display_name": "Python 3 (ipykernel)",
   "language": "python",
   "name": "python3"
  },
  "language_info": {
   "codemirror_mode": {
    "name": "ipython",
    "version": 3
   },
   "file_extension": ".py",
   "mimetype": "text/x-python",
   "name": "python",
   "nbconvert_exporter": "python",
   "pygments_lexer": "ipython3",
   "version": "3.10.14"
  }
 },
 "nbformat": 4,
 "nbformat_minor": 5
}
