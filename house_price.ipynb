{
 "cells": [
  {
   "cell_type": "code",
   "execution_count": 2,
   "id": "0e7d9528-90e4-4e2a-828e-345fb62e9180",
   "metadata": {},
   "outputs": [],
   "source": [
    "import matplotlib.pyplot as plt\n",
    "import numpy as np\n",
    "import pandas as pd\n",
    "import seaborn as sns\n",
    "import geopandas as gpd\n",
    "import scipy.stats as st\n",
    "from scipy.stats import linregress\n",
    "from matplotlib.pyplot import figure\n",
    "import plotly.graph_objects as go"
   ]
  },
  {
   "cell_type": "code",
   "execution_count": 98,
   "id": "a7167ccb-f50d-466b-b35e-61717e8a7830",
   "metadata": {},
   "outputs": [
    {
     "data": {
      "text/html": [
       "<div>\n",
       "<style scoped>\n",
       "    .dataframe tbody tr th:only-of-type {\n",
       "        vertical-align: middle;\n",
       "    }\n",
       "\n",
       "    .dataframe tbody tr th {\n",
       "        vertical-align: top;\n",
       "    }\n",
       "\n",
       "    .dataframe thead th {\n",
       "        text-align: right;\n",
       "    }\n",
       "</style>\n",
       "<table border=\"1\" class=\"dataframe\">\n",
       "  <thead>\n",
       "    <tr style=\"text-align: right;\">\n",
       "      <th></th>\n",
       "      <th>no</th>\n",
       "      <th>state Name</th>\n",
       "      <th>place_id</th>\n",
       "      <th>Region</th>\n",
       "      <th>Division</th>\n",
       "    </tr>\n",
       "  </thead>\n",
       "  <tbody>\n",
       "    <tr>\n",
       "      <th>0</th>\n",
       "      <td>2</td>\n",
       "      <td>Alaska</td>\n",
       "      <td>AK</td>\n",
       "      <td>West</td>\n",
       "      <td>Pacific</td>\n",
       "    </tr>\n",
       "    <tr>\n",
       "      <th>1</th>\n",
       "      <td>3</td>\n",
       "      <td>Alabama</td>\n",
       "      <td>AL</td>\n",
       "      <td>South</td>\n",
       "      <td>East South Central</td>\n",
       "    </tr>\n",
       "    <tr>\n",
       "      <th>2</th>\n",
       "      <td>4</td>\n",
       "      <td>Arkansas</td>\n",
       "      <td>AR</td>\n",
       "      <td>South</td>\n",
       "      <td>West South Central</td>\n",
       "    </tr>\n",
       "    <tr>\n",
       "      <th>3</th>\n",
       "      <td>5</td>\n",
       "      <td>Arizona</td>\n",
       "      <td>AZ</td>\n",
       "      <td>West</td>\n",
       "      <td>Mountain</td>\n",
       "    </tr>\n",
       "    <tr>\n",
       "      <th>4</th>\n",
       "      <td>6</td>\n",
       "      <td>California</td>\n",
       "      <td>CA</td>\n",
       "      <td>West</td>\n",
       "      <td>Pacific</td>\n",
       "    </tr>\n",
       "  </tbody>\n",
       "</table>\n",
       "</div>"
      ],
      "text/plain": [
       "   no  state Name place_id Region            Division\n",
       "0   2      Alaska       AK   West             Pacific\n",
       "1   3     Alabama       AL  South  East South Central\n",
       "2   4    Arkansas       AR  South  West South Central\n",
       "3   5     Arizona       AZ   West            Mountain\n",
       "4   6  California       CA   West             Pacific"
      ]
     },
     "execution_count": 98,
     "metadata": {},
     "output_type": "execute_result"
    }
   ],
   "source": [
    "\n",
    "# File to Load \n",
    "house_price_data_to_load=\"Resources/house_price_index.csv\"\n",
    "state_region_data_to_load=\"Resources/state_region.csv\"\n",
    "    \n",
    "# Read School and Student Data File and store into Pandas DataFrames\n",
    "house_price_data_df = pd.read_csv(house_price_data_to_load)\n",
    "state_region_data_df=pd.read_csv(state_region_data_to_load)\n",
    "    \n",
    "#state_region_data_df.head()\n",
    "#house_price_data_df.head(12)\n",
    "state_region_data_df.head()\n"
   ]
  },
  {
   "cell_type": "code",
   "execution_count": 4,
   "id": "16019a58-04aa-4689-9683-47b80e202e74",
   "metadata": {},
   "outputs": [
    {
     "data": {
      "text/html": [
       "<div>\n",
       "<style scoped>\n",
       "    .dataframe tbody tr th:only-of-type {\n",
       "        vertical-align: middle;\n",
       "    }\n",
       "\n",
       "    .dataframe tbody tr th {\n",
       "        vertical-align: top;\n",
       "    }\n",
       "\n",
       "    .dataframe thead th {\n",
       "        text-align: right;\n",
       "    }\n",
       "</style>\n",
       "<table border=\"1\" class=\"dataframe\">\n",
       "  <thead>\n",
       "    <tr style=\"text-align: right;\">\n",
       "      <th></th>\n",
       "      <th>place_id</th>\n",
       "      <th>year</th>\n",
       "      <th>index_nsa</th>\n",
       "    </tr>\n",
       "  </thead>\n",
       "  <tbody>\n",
       "    <tr>\n",
       "      <th>0</th>\n",
       "      <td>AK</td>\n",
       "      <td>2014</td>\n",
       "      <td>242.003125</td>\n",
       "    </tr>\n",
       "    <tr>\n",
       "      <th>1</th>\n",
       "      <td>AK</td>\n",
       "      <td>2015</td>\n",
       "      <td>250.695000</td>\n",
       "    </tr>\n",
       "    <tr>\n",
       "      <th>2</th>\n",
       "      <td>AK</td>\n",
       "      <td>2016</td>\n",
       "      <td>256.083750</td>\n",
       "    </tr>\n",
       "    <tr>\n",
       "      <th>3</th>\n",
       "      <td>AK</td>\n",
       "      <td>2017</td>\n",
       "      <td>259.456250</td>\n",
       "    </tr>\n",
       "    <tr>\n",
       "      <th>4</th>\n",
       "      <td>AK</td>\n",
       "      <td>2018</td>\n",
       "      <td>263.603125</td>\n",
       "    </tr>\n",
       "    <tr>\n",
       "      <th>5</th>\n",
       "      <td>AK</td>\n",
       "      <td>2019</td>\n",
       "      <td>270.712500</td>\n",
       "    </tr>\n",
       "    <tr>\n",
       "      <th>6</th>\n",
       "      <td>AK</td>\n",
       "      <td>2020</td>\n",
       "      <td>281.758125</td>\n",
       "    </tr>\n",
       "    <tr>\n",
       "      <th>7</th>\n",
       "      <td>AK</td>\n",
       "      <td>2021</td>\n",
       "      <td>308.745000</td>\n",
       "    </tr>\n",
       "    <tr>\n",
       "      <th>8</th>\n",
       "      <td>AK</td>\n",
       "      <td>2022</td>\n",
       "      <td>344.183750</td>\n",
       "    </tr>\n",
       "    <tr>\n",
       "      <th>9</th>\n",
       "      <td>AK</td>\n",
       "      <td>2023</td>\n",
       "      <td>362.205625</td>\n",
       "    </tr>\n",
       "    <tr>\n",
       "      <th>10</th>\n",
       "      <td>AK</td>\n",
       "      <td>2024</td>\n",
       "      <td>373.077500</td>\n",
       "    </tr>\n",
       "    <tr>\n",
       "      <th>11</th>\n",
       "      <td>AL</td>\n",
       "      <td>2014</td>\n",
       "      <td>197.109375</td>\n",
       "    </tr>\n",
       "  </tbody>\n",
       "</table>\n",
       "</div>"
      ],
      "text/plain": [
       "   place_id  year   index_nsa\n",
       "0        AK  2014  242.003125\n",
       "1        AK  2015  250.695000\n",
       "2        AK  2016  256.083750\n",
       "3        AK  2017  259.456250\n",
       "4        AK  2018  263.603125\n",
       "5        AK  2019  270.712500\n",
       "6        AK  2020  281.758125\n",
       "7        AK  2021  308.745000\n",
       "8        AK  2022  344.183750\n",
       "9        AK  2023  362.205625\n",
       "10       AK  2024  373.077500\n",
       "11       AL  2014  197.109375"
      ]
     },
     "execution_count": 4,
     "metadata": {},
     "output_type": "execute_result"
    }
   ],
   "source": [
    "#state_house_price_df = house_data_df[(house_data_df[\"level\"] == \"state\")]\n",
    "state_house_price_df = house_price_data_df.loc[house_price_data_df['level'] == 'State']\n",
    "#this is the main raw dataset\n",
    "state_yr_house_price_df = state_house_price_df.loc[house_price_data_df['year'] >= 2014]\n",
    "#Show HPI growth by year - overall\n",
    "#state_yr_house_price_df\n",
    "#my_years = [x for x in range(2014,2025)] \n",
    "state_yr_house_price_df_plot1 =  state_yr_house_price_df.groupby(['place_id','year'],as_index=False)['index_nsa'].mean()\n",
    "#state_yr_house_price_df['national_yearly_index'] = state_yr_house_price_df.groupby(['place_id','year'],as_index=False)['index_nsa'].mean()\n",
    "#print(len(state_yr_house_price_df_plot1))\n",
    "#print(len(my_years))\n",
    "state_yr_house_price_df_plot1.head(12)\n",
    "#state_yr_house_price_df['national_yearly_index'] = state_yr_house_price_df_plot1.index_nsa.transform('mean')\n",
    "#df['First Volume/Day'] = g['Volume/Day'].transform('first')\n",
    "#state_yr_house_price_df_plot1\n",
    "#print(state_yr_house_price_df.shape)\n",
    "#state_yr_house_price_df_plot1.head(22)"
   ]
  },
  {
   "cell_type": "code",
   "execution_count": 5,
   "id": "8537f210-bbbc-4f19-a3b6-82d5315640d0",
   "metadata": {},
   "outputs": [
    {
     "data": {
      "text/html": [
       "<div>\n",
       "<style scoped>\n",
       "    .dataframe tbody tr th:only-of-type {\n",
       "        vertical-align: middle;\n",
       "    }\n",
       "\n",
       "    .dataframe tbody tr th {\n",
       "        vertical-align: top;\n",
       "    }\n",
       "\n",
       "    .dataframe thead th {\n",
       "        text-align: right;\n",
       "    }\n",
       "</style>\n",
       "<table border=\"1\" class=\"dataframe\">\n",
       "  <thead>\n",
       "    <tr style=\"text-align: right;\">\n",
       "      <th></th>\n",
       "      <th>year</th>\n",
       "      <th>index_nsa</th>\n",
       "    </tr>\n",
       "  </thead>\n",
       "  <tbody>\n",
       "    <tr>\n",
       "      <th>0</th>\n",
       "      <td>2014</td>\n",
       "      <td>243.368493</td>\n",
       "    </tr>\n",
       "    <tr>\n",
       "      <th>1</th>\n",
       "      <td>2015</td>\n",
       "      <td>254.415617</td>\n",
       "    </tr>\n",
       "    <tr>\n",
       "      <th>2</th>\n",
       "      <td>2016</td>\n",
       "      <td>266.169355</td>\n",
       "    </tr>\n",
       "    <tr>\n",
       "      <th>3</th>\n",
       "      <td>2017</td>\n",
       "      <td>279.542827</td>\n",
       "    </tr>\n",
       "    <tr>\n",
       "      <th>4</th>\n",
       "      <td>2018</td>\n",
       "      <td>294.731797</td>\n",
       "    </tr>\n",
       "    <tr>\n",
       "      <th>5</th>\n",
       "      <td>2019</td>\n",
       "      <td>309.193460</td>\n",
       "    </tr>\n",
       "    <tr>\n",
       "      <th>6</th>\n",
       "      <td>2020</td>\n",
       "      <td>329.137247</td>\n",
       "    </tr>\n",
       "    <tr>\n",
       "      <th>7</th>\n",
       "      <td>2021</td>\n",
       "      <td>378.164673</td>\n",
       "    </tr>\n",
       "    <tr>\n",
       "      <th>8</th>\n",
       "      <td>2022</td>\n",
       "      <td>433.614105</td>\n",
       "    </tr>\n",
       "    <tr>\n",
       "      <th>9</th>\n",
       "      <td>2023</td>\n",
       "      <td>457.218354</td>\n",
       "    </tr>\n",
       "    <tr>\n",
       "      <th>10</th>\n",
       "      <td>2024</td>\n",
       "      <td>470.383268</td>\n",
       "    </tr>\n",
       "  </tbody>\n",
       "</table>\n",
       "</div>"
      ],
      "text/plain": [
       "    year   index_nsa\n",
       "0   2014  243.368493\n",
       "1   2015  254.415617\n",
       "2   2016  266.169355\n",
       "3   2017  279.542827\n",
       "4   2018  294.731797\n",
       "5   2019  309.193460\n",
       "6   2020  329.137247\n",
       "7   2021  378.164673\n",
       "8   2022  433.614105\n",
       "9   2023  457.218354\n",
       "10  2024  470.383268"
      ]
     },
     "execution_count": 5,
     "metadata": {},
     "output_type": "execute_result"
    }
   ],
   "source": [
    "yr_house_price_df_plot =  state_yr_house_price_df_plot1.groupby(['year'],as_index=False)['index_nsa'].mean()\n",
    "yr_house_price_df_plot"
   ]
  },
  {
   "cell_type": "code",
   "execution_count": 6,
   "id": "2d745d73-8922-4413-be78-40cc061a6e03",
   "metadata": {},
   "outputs": [
    {
     "data": {
      "image/png": "[encoded data removed]",
      "text/plain": [
       "<Figure size 1000x600 with 1 Axes>"
      ]
     },
     "metadata": {},
     "output_type": "display_data"
    }
   ],
   "source": [
    "x_axis = yr_house_price_df_plot.year\n",
    "#print(x_axis)\n",
    "y_axis= yr_house_price_df_plot.index_nsa\n",
    "#print(y_axis)\n",
    "plt.figure(figsize=(10, 6)) \n",
    "\n",
    "plot_pyplot =plt.bar(x_axis,y_axis, color='orchid',alpha=0.6, align='center')\n",
    "\n",
    "# Add labels and title\n",
    "plt.xlabel('year')\n",
    "plt.ylabel('price index')\n",
    "plt.xticks(rotation='vertical')\n",
    "plt.title('House price index increase per year')\n",
    "\n",
    "# Display the plot\n",
    "plt.show()\n"
   ]
  },
  {
   "cell_type": "code",
   "execution_count": 7,
   "id": "cf84e6fa-fa7e-4856-a355-75744d8b1abb",
   "metadata": {
    "scrolled": true
   },
   "outputs": [
    {
     "data": {
      "text/html": [
       "<div>\n",
       "<style scoped>\n",
       "    .dataframe tbody tr th:only-of-type {\n",
       "        vertical-align: middle;\n",
       "    }\n",
       "\n",
       "    .dataframe tbody tr th {\n",
       "        vertical-align: top;\n",
       "    }\n",
       "\n",
       "    .dataframe thead th {\n",
       "        text-align: right;\n",
       "    }\n",
       "</style>\n",
       "<table border=\"1\" class=\"dataframe\">\n",
       "  <thead>\n",
       "    <tr style=\"text-align: right;\">\n",
       "      <th></th>\n",
       "      <th>place_id</th>\n",
       "      <th>year</th>\n",
       "      <th>index_nsa</th>\n",
       "      <th>no</th>\n",
       "      <th>state Name</th>\n",
       "      <th>Region</th>\n",
       "      <th>Division</th>\n",
       "    </tr>\n",
       "  </thead>\n",
       "  <tbody>\n",
       "    <tr>\n",
       "      <th>0</th>\n",
       "      <td>AK</td>\n",
       "      <td>2014</td>\n",
       "      <td>242.003125</td>\n",
       "      <td>2</td>\n",
       "      <td>Alaska</td>\n",
       "      <td>West</td>\n",
       "      <td>Pacific</td>\n",
       "    </tr>\n",
       "    <tr>\n",
       "      <th>1</th>\n",
       "      <td>AK</td>\n",
       "      <td>2015</td>\n",
       "      <td>250.695000</td>\n",
       "      <td>2</td>\n",
       "      <td>Alaska</td>\n",
       "      <td>West</td>\n",
       "      <td>Pacific</td>\n",
       "    </tr>\n",
       "    <tr>\n",
       "      <th>2</th>\n",
       "      <td>AK</td>\n",
       "      <td>2016</td>\n",
       "      <td>256.083750</td>\n",
       "      <td>2</td>\n",
       "      <td>Alaska</td>\n",
       "      <td>West</td>\n",
       "      <td>Pacific</td>\n",
       "    </tr>\n",
       "    <tr>\n",
       "      <th>3</th>\n",
       "      <td>AK</td>\n",
       "      <td>2017</td>\n",
       "      <td>259.456250</td>\n",
       "      <td>2</td>\n",
       "      <td>Alaska</td>\n",
       "      <td>West</td>\n",
       "      <td>Pacific</td>\n",
       "    </tr>\n",
       "    <tr>\n",
       "      <th>4</th>\n",
       "      <td>AK</td>\n",
       "      <td>2018</td>\n",
       "      <td>263.603125</td>\n",
       "      <td>2</td>\n",
       "      <td>Alaska</td>\n",
       "      <td>West</td>\n",
       "      <td>Pacific</td>\n",
       "    </tr>\n",
       "    <tr>\n",
       "      <th>5</th>\n",
       "      <td>AK</td>\n",
       "      <td>2019</td>\n",
       "      <td>270.712500</td>\n",
       "      <td>2</td>\n",
       "      <td>Alaska</td>\n",
       "      <td>West</td>\n",
       "      <td>Pacific</td>\n",
       "    </tr>\n",
       "    <tr>\n",
       "      <th>6</th>\n",
       "      <td>AK</td>\n",
       "      <td>2020</td>\n",
       "      <td>281.758125</td>\n",
       "      <td>2</td>\n",
       "      <td>Alaska</td>\n",
       "      <td>West</td>\n",
       "      <td>Pacific</td>\n",
       "    </tr>\n",
       "    <tr>\n",
       "      <th>7</th>\n",
       "      <td>AK</td>\n",
       "      <td>2021</td>\n",
       "      <td>308.745000</td>\n",
       "      <td>2</td>\n",
       "      <td>Alaska</td>\n",
       "      <td>West</td>\n",
       "      <td>Pacific</td>\n",
       "    </tr>\n",
       "    <tr>\n",
       "      <th>8</th>\n",
       "      <td>AK</td>\n",
       "      <td>2022</td>\n",
       "      <td>344.183750</td>\n",
       "      <td>2</td>\n",
       "      <td>Alaska</td>\n",
       "      <td>West</td>\n",
       "      <td>Pacific</td>\n",
       "    </tr>\n",
       "    <tr>\n",
       "      <th>9</th>\n",
       "      <td>AK</td>\n",
       "      <td>2023</td>\n",
       "      <td>362.205625</td>\n",
       "      <td>2</td>\n",
       "      <td>Alaska</td>\n",
       "      <td>West</td>\n",
       "      <td>Pacific</td>\n",
       "    </tr>\n",
       "    <tr>\n",
       "      <th>10</th>\n",
       "      <td>AK</td>\n",
       "      <td>2024</td>\n",
       "      <td>373.077500</td>\n",
       "      <td>2</td>\n",
       "      <td>Alaska</td>\n",
       "      <td>West</td>\n",
       "      <td>Pacific</td>\n",
       "    </tr>\n",
       "    <tr>\n",
       "      <th>11</th>\n",
       "      <td>AL</td>\n",
       "      <td>2014</td>\n",
       "      <td>197.109375</td>\n",
       "      <td>3</td>\n",
       "      <td>Alabama</td>\n",
       "      <td>South</td>\n",
       "      <td>East South Central</td>\n",
       "    </tr>\n",
       "    <tr>\n",
       "      <th>12</th>\n",
       "      <td>AL</td>\n",
       "      <td>2015</td>\n",
       "      <td>202.094375</td>\n",
       "      <td>3</td>\n",
       "      <td>Alabama</td>\n",
       "      <td>South</td>\n",
       "      <td>East South Central</td>\n",
       "    </tr>\n",
       "    <tr>\n",
       "      <th>13</th>\n",
       "      <td>AL</td>\n",
       "      <td>2016</td>\n",
       "      <td>207.863750</td>\n",
       "      <td>3</td>\n",
       "      <td>Alabama</td>\n",
       "      <td>South</td>\n",
       "      <td>East South Central</td>\n",
       "    </tr>\n",
       "    <tr>\n",
       "      <th>14</th>\n",
       "      <td>AL</td>\n",
       "      <td>2017</td>\n",
       "      <td>214.631250</td>\n",
       "      <td>3</td>\n",
       "      <td>Alabama</td>\n",
       "      <td>South</td>\n",
       "      <td>East South Central</td>\n",
       "    </tr>\n",
       "    <tr>\n",
       "      <th>15</th>\n",
       "      <td>AL</td>\n",
       "      <td>2018</td>\n",
       "      <td>223.669375</td>\n",
       "      <td>3</td>\n",
       "      <td>Alabama</td>\n",
       "      <td>South</td>\n",
       "      <td>East South Central</td>\n",
       "    </tr>\n",
       "    <tr>\n",
       "      <th>16</th>\n",
       "      <td>AL</td>\n",
       "      <td>2019</td>\n",
       "      <td>234.804375</td>\n",
       "      <td>3</td>\n",
       "      <td>Alabama</td>\n",
       "      <td>South</td>\n",
       "      <td>East South Central</td>\n",
       "    </tr>\n",
       "    <tr>\n",
       "      <th>17</th>\n",
       "      <td>AL</td>\n",
       "      <td>2020</td>\n",
       "      <td>249.974375</td>\n",
       "      <td>3</td>\n",
       "      <td>Alabama</td>\n",
       "      <td>South</td>\n",
       "      <td>East South Central</td>\n",
       "    </tr>\n",
       "    <tr>\n",
       "      <th>18</th>\n",
       "      <td>AL</td>\n",
       "      <td>2021</td>\n",
       "      <td>283.626875</td>\n",
       "      <td>3</td>\n",
       "      <td>Alabama</td>\n",
       "      <td>South</td>\n",
       "      <td>East South Central</td>\n",
       "    </tr>\n",
       "    <tr>\n",
       "      <th>19</th>\n",
       "      <td>AL</td>\n",
       "      <td>2022</td>\n",
       "      <td>326.778750</td>\n",
       "      <td>3</td>\n",
       "      <td>Alabama</td>\n",
       "      <td>South</td>\n",
       "      <td>East South Central</td>\n",
       "    </tr>\n",
       "    <tr>\n",
       "      <th>20</th>\n",
       "      <td>AL</td>\n",
       "      <td>2023</td>\n",
       "      <td>348.524375</td>\n",
       "      <td>3</td>\n",
       "      <td>Alabama</td>\n",
       "      <td>South</td>\n",
       "      <td>East South Central</td>\n",
       "    </tr>\n",
       "    <tr>\n",
       "      <th>21</th>\n",
       "      <td>AL</td>\n",
       "      <td>2024</td>\n",
       "      <td>354.600000</td>\n",
       "      <td>3</td>\n",
       "      <td>Alabama</td>\n",
       "      <td>South</td>\n",
       "      <td>East South Central</td>\n",
       "    </tr>\n",
       "  </tbody>\n",
       "</table>\n",
       "</div>"
      ],
      "text/plain": [
       "   place_id  year   index_nsa  no state Name Region            Division\n",
       "0        AK  2014  242.003125   2     Alaska   West             Pacific\n",
       "1        AK  2015  250.695000   2     Alaska   West             Pacific\n",
       "2        AK  2016  256.083750   2     Alaska   West             Pacific\n",
       "3        AK  2017  259.456250   2     Alaska   West             Pacific\n",
       "4        AK  2018  263.603125   2     Alaska   West             Pacific\n",
       "5        AK  2019  270.712500   2     Alaska   West             Pacific\n",
       "6        AK  2020  281.758125   2     Alaska   West             Pacific\n",
       "7        AK  2021  308.745000   2     Alaska   West             Pacific\n",
       "8        AK  2022  344.183750   2     Alaska   West             Pacific\n",
       "9        AK  2023  362.205625   2     Alaska   West             Pacific\n",
       "10       AK  2024  373.077500   2     Alaska   West             Pacific\n",
       "11       AL  2014  197.109375   3    Alabama  South  East South Central\n",
       "12       AL  2015  202.094375   3    Alabama  South  East South Central\n",
       "13       AL  2016  207.863750   3    Alabama  South  East South Central\n",
       "14       AL  2017  214.631250   3    Alabama  South  East South Central\n",
       "15       AL  2018  223.669375   3    Alabama  South  East South Central\n",
       "16       AL  2019  234.804375   3    Alabama  South  East South Central\n",
       "17       AL  2020  249.974375   3    Alabama  South  East South Central\n",
       "18       AL  2021  283.626875   3    Alabama  South  East South Central\n",
       "19       AL  2022  326.778750   3    Alabama  South  East South Central\n",
       "20       AL  2023  348.524375   3    Alabama  South  East South Central\n",
       "21       AL  2024  354.600000   3    Alabama  South  East South Central"
      ]
     },
     "execution_count": 7,
     "metadata": {},
     "output_type": "execute_result"
    }
   ],
   "source": [
    "# Combine the data into a single DataFrame\n",
    "state_yr_house_price_df.set_index('place_id')\n",
    "state_yr_house_price_df.head()\n",
    "\n",
    "Combined_data = state_yr_house_price_df_plot1.merge(state_region_data_df, on='place_id', how='right')\n",
    "#Combined_data = Combined_data[['Region','place_id','year','index_nsa']]\n",
    "#Combined_data \n",
    "region_yr_house_price_df =  Combined_data.groupby(['Region','year'],as_index=False)['index_nsa'].mean()\n",
    "region_yr_house_price_df.head(22)\n",
    "# Display the data table for preview\n",
    "Combined_data.head(22)"
   ]
  },
  {
   "cell_type": "code",
   "execution_count": 8,
   "id": "cba4e758-355c-4a1c-b565-35b1e073049b",
   "metadata": {},
   "outputs": [
    {
     "data": {
      "image/png": "[encoded data removed]",
      "text/plain": [
       "<Figure size 640x480 with 1 Axes>"
      ]
     },
     "metadata": {},
     "output_type": "display_data"
    },
    {
     "data": {
      "text/plain": [
       "<Figure size 1000x600 with 0 Axes>"
      ]
     },
     "metadata": {},
     "output_type": "display_data"
    }
   ],
   "source": [
    "sns.lineplot(x='year', y='index_nsa', hue='Region', data = region_yr_house_price_df)\n",
    "plt.title('Regionwise House price index  per year')\n",
    "plt.figure(figsize=(10, 6))\n",
    "plt.style.use('Solarize_Light2')\n",
    "#plt.title('Regionwise House price index  per year')\n",
    "plt.show()"
   ]
  },
  {
   "cell_type": "code",
   "execution_count": 9,
   "id": "98ee25bf-993c-449f-b19d-755840d6ca8b",
   "metadata": {},
   "outputs": [
    {
     "data": {
      "text/plain": [
       "['Solarize_Light2',\n",
       " '_classic_test_patch',\n",
       " '_mpl-gallery',\n",
       " '_mpl-gallery-nogrid',\n",
       " 'bmh',\n",
       " 'classic',\n",
       " 'dark_background',\n",
       " 'fast',\n",
       " 'fivethirtyeight',\n",
       " 'ggplot',\n",
       " 'grayscale',\n",
       " 'seaborn-v0_8',\n",
       " 'seaborn-v0_8-bright',\n",
       " 'seaborn-v0_8-colorblind',\n",
       " 'seaborn-v0_8-dark',\n",
       " 'seaborn-v0_8-dark-palette',\n",
       " 'seaborn-v0_8-darkgrid',\n",
       " 'seaborn-v0_8-deep',\n",
       " 'seaborn-v0_8-muted',\n",
       " 'seaborn-v0_8-notebook',\n",
       " 'seaborn-v0_8-paper',\n",
       " 'seaborn-v0_8-pastel',\n",
       " 'seaborn-v0_8-poster',\n",
       " 'seaborn-v0_8-talk',\n",
       " 'seaborn-v0_8-ticks',\n",
       " 'seaborn-v0_8-white',\n",
       " 'seaborn-v0_8-whitegrid',\n",
       " 'tableau-colorblind10']"
      ]
     },
     "execution_count": 9,
     "metadata": {},
     "output_type": "execute_result"
    }
   ],
   "source": [
    "plt.style.available\n"
   ]
  },
  {
   "cell_type": "code",
   "execution_count": 10,
   "id": "34087c98-db0b-46c9-885b-893ca7bba57c",
   "metadata": {},
   "outputs": [
    {
     "data": {
      "text/html": [
       "<div>\n",
       "<style scoped>\n",
       "    .dataframe tbody tr th:only-of-type {\n",
       "        vertical-align: middle;\n",
       "    }\n",
       "\n",
       "    .dataframe tbody tr th {\n",
       "        vertical-align: top;\n",
       "    }\n",
       "\n",
       "    .dataframe thead th {\n",
       "        text-align: right;\n",
       "    }\n",
       "</style>\n",
       "<table border=\"1\" class=\"dataframe\">\n",
       "  <thead>\n",
       "    <tr style=\"text-align: right;\">\n",
       "      <th></th>\n",
       "      <th>GEOID</th>\n",
       "      <th>place_id</th>\n",
       "      <th>NAME</th>\n",
       "      <th>geometry</th>\n",
       "    </tr>\n",
       "  </thead>\n",
       "  <tbody>\n",
       "    <tr>\n",
       "      <th>0</th>\n",
       "      <td>31</td>\n",
       "      <td>NE</td>\n",
       "      <td>Nebraska</td>\n",
       "      <td>POLYGON ((-104.05351 41.15726, -104.05267 41.2...</td>\n",
       "    </tr>\n",
       "    <tr>\n",
       "      <th>1</th>\n",
       "      <td>53</td>\n",
       "      <td>WA</td>\n",
       "      <td>Washington</td>\n",
       "      <td>MULTIPOLYGON (((-122.32834 48.02134, -122.3217...</td>\n",
       "    </tr>\n",
       "    <tr>\n",
       "      <th>2</th>\n",
       "      <td>35</td>\n",
       "      <td>NM</td>\n",
       "      <td>New Mexico</td>\n",
       "      <td>POLYGON ((-109.05017 31.48000, -109.04984 31.4...</td>\n",
       "    </tr>\n",
       "    <tr>\n",
       "      <th>3</th>\n",
       "      <td>46</td>\n",
       "      <td>SD</td>\n",
       "      <td>South Dakota</td>\n",
       "      <td>POLYGON ((-104.05770 44.99743, -104.05021 44.9...</td>\n",
       "    </tr>\n",
       "    <tr>\n",
       "      <th>4</th>\n",
       "      <td>48</td>\n",
       "      <td>TX</td>\n",
       "      <td>Texas</td>\n",
       "      <td>POLYGON ((-106.64548 31.89867, -106.64084 31.9...</td>\n",
       "    </tr>\n",
       "    <tr>\n",
       "      <th>5</th>\n",
       "      <td>06</td>\n",
       "      <td>CA</td>\n",
       "      <td>California</td>\n",
       "      <td>MULTIPOLYGON (((-118.60337 33.47810, -118.5987...</td>\n",
       "    </tr>\n",
       "    <tr>\n",
       "      <th>6</th>\n",
       "      <td>21</td>\n",
       "      <td>KY</td>\n",
       "      <td>Kentucky</td>\n",
       "      <td>MULTIPOLYGON (((-89.40565 36.52817, -89.39869 ...</td>\n",
       "    </tr>\n",
       "    <tr>\n",
       "      <th>7</th>\n",
       "      <td>39</td>\n",
       "      <td>OH</td>\n",
       "      <td>Ohio</td>\n",
       "      <td>MULTIPOLYGON (((-82.73571 41.60336, -82.71880 ...</td>\n",
       "    </tr>\n",
       "    <tr>\n",
       "      <th>8</th>\n",
       "      <td>01</td>\n",
       "      <td>AL</td>\n",
       "      <td>Alabama</td>\n",
       "      <td>MULTIPOLYGON (((-88.04374 30.51742, -88.03661 ...</td>\n",
       "    </tr>\n",
       "    <tr>\n",
       "      <th>9</th>\n",
       "      <td>13</td>\n",
       "      <td>GA</td>\n",
       "      <td>Georgia</td>\n",
       "      <td>POLYGON ((-85.60516 34.98468, -85.55259 34.984...</td>\n",
       "    </tr>\n",
       "  </tbody>\n",
       "</table>\n",
       "</div>"
      ],
      "text/plain": [
       "  GEOID place_id          NAME  \\\n",
       "0    31       NE      Nebraska   \n",
       "1    53       WA    Washington   \n",
       "2    35       NM    New Mexico   \n",
       "3    46       SD  South Dakota   \n",
       "4    48       TX         Texas   \n",
       "5    06       CA    California   \n",
       "6    21       KY      Kentucky   \n",
       "7    39       OH          Ohio   \n",
       "8    01       AL       Alabama   \n",
       "9    13       GA       Georgia   \n",
       "\n",
       "                                            geometry  \n",
       "0  POLYGON ((-104.05351 41.15726, -104.05267 41.2...  \n",
       "1  MULTIPOLYGON (((-122.32834 48.02134, -122.3217...  \n",
       "2  POLYGON ((-109.05017 31.48000, -109.04984 31.4...  \n",
       "3  POLYGON ((-104.05770 44.99743, -104.05021 44.9...  \n",
       "4  POLYGON ((-106.64548 31.89867, -106.64084 31.9...  \n",
       "5  MULTIPOLYGON (((-118.60337 33.47810, -118.5987...  \n",
       "6  MULTIPOLYGON (((-89.40565 36.52817, -89.39869 ...  \n",
       "7  MULTIPOLYGON (((-82.73571 41.60336, -82.71880 ...  \n",
       "8  MULTIPOLYGON (((-88.04374 30.51742, -88.03661 ...  \n",
       "9  POLYGON ((-85.60516 34.98468, -85.55259 34.984...  "
      ]
     },
     "execution_count": 10,
     "metadata": {},
     "output_type": "execute_result"
    }
   ],
   "source": [
    "# Setting the path to the shapefile\n",
    "SHAPEFILE = r\"C:\\Users\\manas\\OneDrive\\Documents\\BOOTCAMP\\heatmap\\1\\cb_2018_us_state_5m.shp\"\n",
    "# Read shapefile using Geopandas\n",
    "geo_df=gpd.read_file(SHAPEFILE)\n",
    "geo_df = gpd.read_file(SHAPEFILE)[['GEOID', 'STUSPS', 'NAME','geometry']]\n",
    "# Rename columns.\n",
    "geo_df=geo_df.rename(columns={\"STUSPS\":\"place_id\"})\n",
    "geo_df.head(10)"
   ]
  },
  {
   "cell_type": "code",
   "execution_count": 11,
   "id": "af8f95bc-c84e-4a15-b4b6-48b66a4c6ea3",
   "metadata": {},
   "outputs": [],
   "source": [
    "# Drop row for 'Antarctica'. It takes a lot of space in the map and is not of much use\n",
    "geo_df = geo_df.drop(geo_df.loc[geo_df['NAME'] == 'Puerto Rico'].index)\n",
    "geo_df = geo_df.drop(geo_df.loc[geo_df['NAME'] == 'American Samoa'].index)\n",
    "geo_df = geo_df.drop(geo_df.loc[geo_df['NAME'] == 'Commonwealth of the Northern Mariana Islands'].index)\n",
    "geo_df = geo_df.drop(geo_df.loc[geo_df['NAME'] == 'Guam'].index)\n",
    "geo_df = geo_df.drop(geo_df.loc[geo_df['NAME'] == 'United States Virgin Islands'].index)\n",
    "geo_df = geo_df.drop(geo_df.loc[geo_df['NAME'] == 'Alaska'].index)\n",
    "geo_df = geo_df.drop(geo_df.loc[geo_df['NAME'] == 'Hawaii'].index)\n",
    "# Print the map\n",
    "#geo_df.plot(figsize=(200, 200), linewidth=1, color='lightblue')"
   ]
  },
  {
   "cell_type": "code",
   "execution_count": 12,
   "id": "2e93e3bf-0662-4d87-897e-336ac284b809",
   "metadata": {},
   "outputs": [
    {
     "data": {
      "text/html": [
       "<div>\n",
       "<style scoped>\n",
       "    .dataframe tbody tr th:only-of-type {\n",
       "        vertical-align: middle;\n",
       "    }\n",
       "\n",
       "    .dataframe tbody tr th {\n",
       "        vertical-align: top;\n",
       "    }\n",
       "\n",
       "    .dataframe thead th {\n",
       "        text-align: right;\n",
       "    }\n",
       "</style>\n",
       "<table border=\"1\" class=\"dataframe\">\n",
       "  <thead>\n",
       "    <tr style=\"text-align: right;\">\n",
       "      <th></th>\n",
       "      <th>place_id</th>\n",
       "      <th>Region</th>\n",
       "      <th>year</th>\n",
       "      <th>index_nsa</th>\n",
       "    </tr>\n",
       "  </thead>\n",
       "  <tbody>\n",
       "    <tr>\n",
       "      <th>0</th>\n",
       "      <td>AK</td>\n",
       "      <td>West</td>\n",
       "      <td>2023</td>\n",
       "      <td>362.205625</td>\n",
       "    </tr>\n",
       "    <tr>\n",
       "      <th>1</th>\n",
       "      <td>AL</td>\n",
       "      <td>South</td>\n",
       "      <td>2023</td>\n",
       "      <td>348.524375</td>\n",
       "    </tr>\n",
       "    <tr>\n",
       "      <th>2</th>\n",
       "      <td>AR</td>\n",
       "      <td>South</td>\n",
       "      <td>2023</td>\n",
       "      <td>350.158125</td>\n",
       "    </tr>\n",
       "    <tr>\n",
       "      <th>3</th>\n",
       "      <td>AZ</td>\n",
       "      <td>West</td>\n",
       "      <td>2023</td>\n",
       "      <td>536.976250</td>\n",
       "    </tr>\n",
       "    <tr>\n",
       "      <th>4</th>\n",
       "      <td>CA</td>\n",
       "      <td>West</td>\n",
       "      <td>2023</td>\n",
       "      <td>519.832500</td>\n",
       "    </tr>\n",
       "    <tr>\n",
       "      <th>5</th>\n",
       "      <td>CO</td>\n",
       "      <td>West</td>\n",
       "      <td>2023</td>\n",
       "      <td>652.588750</td>\n",
       "    </tr>\n",
       "    <tr>\n",
       "      <th>6</th>\n",
       "      <td>CT</td>\n",
       "      <td>Northeast</td>\n",
       "      <td>2023</td>\n",
       "      <td>352.063125</td>\n",
       "    </tr>\n",
       "    <tr>\n",
       "      <th>7</th>\n",
       "      <td>DC</td>\n",
       "      <td>South</td>\n",
       "      <td>2023</td>\n",
       "      <td>747.378333</td>\n",
       "    </tr>\n",
       "    <tr>\n",
       "      <th>8</th>\n",
       "      <td>DE</td>\n",
       "      <td>South</td>\n",
       "      <td>2023</td>\n",
       "      <td>428.367500</td>\n",
       "    </tr>\n",
       "    <tr>\n",
       "      <th>9</th>\n",
       "      <td>FL</td>\n",
       "      <td>South</td>\n",
       "      <td>2023</td>\n",
       "      <td>587.133125</td>\n",
       "    </tr>\n",
       "  </tbody>\n",
       "</table>\n",
       "</div>"
      ],
      "text/plain": [
       "  place_id     Region  year   index_nsa\n",
       "0       AK       West  2023  362.205625\n",
       "1       AL      South  2023  348.524375\n",
       "2       AR      South  2023  350.158125\n",
       "3       AZ       West  2023  536.976250\n",
       "4       CA       West  2023  519.832500\n",
       "5       CO       West  2023  652.588750\n",
       "6       CT  Northeast  2023  352.063125\n",
       "7       DC      South  2023  747.378333\n",
       "8       DE      South  2023  428.367500\n",
       "9       FL      South  2023  587.133125"
      ]
     },
     "execution_count": 12,
     "metadata": {},
     "output_type": "execute_result"
    }
   ],
   "source": [
    "combined_heat_map_data= Combined_data[Combined_data['year'] == 2023]\n",
    "combined_heat_map_data= combined_heat_map_data[['place_id','Region','year','index_nsa']]\n",
    "combined_heat_map_data=combined_heat_map_data.drop_duplicates()\n",
    "combined_heat_map_data = combined_heat_map_data.reset_index(drop=True)\n",
    "combined_heat_map_data.head(10)"
   ]
  },
  {
   "cell_type": "code",
   "execution_count": 13,
   "id": "7542cb67-c923-48d5-a8f9-622bfcb42959",
   "metadata": {
    "scrolled": true
   },
   "outputs": [
    {
     "data": {
      "text/html": [
       "<div>\n",
       "<style scoped>\n",
       "    .dataframe tbody tr th:only-of-type {\n",
       "        vertical-align: middle;\n",
       "    }\n",
       "\n",
       "    .dataframe tbody tr th {\n",
       "        vertical-align: top;\n",
       "    }\n",
       "\n",
       "    .dataframe thead th {\n",
       "        text-align: right;\n",
       "    }\n",
       "</style>\n",
       "<table border=\"1\" class=\"dataframe\">\n",
       "  <thead>\n",
       "    <tr style=\"text-align: right;\">\n",
       "      <th></th>\n",
       "      <th>GEOID</th>\n",
       "      <th>place_id</th>\n",
       "      <th>NAME</th>\n",
       "      <th>geometry</th>\n",
       "      <th>Region</th>\n",
       "      <th>year</th>\n",
       "      <th>index_nsa</th>\n",
       "    </tr>\n",
       "  </thead>\n",
       "  <tbody>\n",
       "    <tr>\n",
       "      <th>0</th>\n",
       "      <td>31</td>\n",
       "      <td>NE</td>\n",
       "      <td>Nebraska</td>\n",
       "      <td>POLYGON ((-104.05351 41.15726, -104.05267 41.2...</td>\n",
       "      <td>Midwest</td>\n",
       "      <td>2023</td>\n",
       "      <td>398.535625</td>\n",
       "    </tr>\n",
       "    <tr>\n",
       "      <th>1</th>\n",
       "      <td>53</td>\n",
       "      <td>WA</td>\n",
       "      <td>Washington</td>\n",
       "      <td>MULTIPOLYGON (((-122.32834 48.02134, -122.3217...</td>\n",
       "      <td>West</td>\n",
       "      <td>2023</td>\n",
       "      <td>629.311875</td>\n",
       "    </tr>\n",
       "    <tr>\n",
       "      <th>2</th>\n",
       "      <td>35</td>\n",
       "      <td>NM</td>\n",
       "      <td>New Mexico</td>\n",
       "      <td>POLYGON ((-109.05017 31.48000, -109.04984 31.4...</td>\n",
       "      <td>West</td>\n",
       "      <td>2023</td>\n",
       "      <td>388.200625</td>\n",
       "    </tr>\n",
       "    <tr>\n",
       "      <th>3</th>\n",
       "      <td>46</td>\n",
       "      <td>SD</td>\n",
       "      <td>South Dakota</td>\n",
       "      <td>POLYGON ((-104.05770 44.99743, -104.05021 44.9...</td>\n",
       "      <td>Midwest</td>\n",
       "      <td>2023</td>\n",
       "      <td>486.631250</td>\n",
       "    </tr>\n",
       "    <tr>\n",
       "      <th>4</th>\n",
       "      <td>48</td>\n",
       "      <td>TX</td>\n",
       "      <td>Texas</td>\n",
       "      <td>POLYGON ((-106.64548 31.89867, -106.64084 31.9...</td>\n",
       "      <td>South</td>\n",
       "      <td>2023</td>\n",
       "      <td>442.343125</td>\n",
       "    </tr>\n",
       "    <tr>\n",
       "      <th>5</th>\n",
       "      <td>06</td>\n",
       "      <td>CA</td>\n",
       "      <td>California</td>\n",
       "      <td>MULTIPOLYGON (((-118.60337 33.47810, -118.5987...</td>\n",
       "      <td>West</td>\n",
       "      <td>2023</td>\n",
       "      <td>519.832500</td>\n",
       "    </tr>\n",
       "    <tr>\n",
       "      <th>6</th>\n",
       "      <td>21</td>\n",
       "      <td>KY</td>\n",
       "      <td>Kentucky</td>\n",
       "      <td>MULTIPOLYGON (((-89.40565 36.52817, -89.39869 ...</td>\n",
       "      <td>South</td>\n",
       "      <td>2023</td>\n",
       "      <td>372.313750</td>\n",
       "    </tr>\n",
       "    <tr>\n",
       "      <th>7</th>\n",
       "      <td>39</td>\n",
       "      <td>OH</td>\n",
       "      <td>Ohio</td>\n",
       "      <td>MULTIPOLYGON (((-82.73571 41.60336, -82.71880 ...</td>\n",
       "      <td>Midwest</td>\n",
       "      <td>2023</td>\n",
       "      <td>329.526875</td>\n",
       "    </tr>\n",
       "    <tr>\n",
       "      <th>8</th>\n",
       "      <td>01</td>\n",
       "      <td>AL</td>\n",
       "      <td>Alabama</td>\n",
       "      <td>MULTIPOLYGON (((-88.04374 30.51742, -88.03661 ...</td>\n",
       "      <td>South</td>\n",
       "      <td>2023</td>\n",
       "      <td>348.524375</td>\n",
       "    </tr>\n",
       "    <tr>\n",
       "      <th>9</th>\n",
       "      <td>13</td>\n",
       "      <td>GA</td>\n",
       "      <td>Georgia</td>\n",
       "      <td>POLYGON ((-85.60516 34.98468, -85.55259 34.984...</td>\n",
       "      <td>South</td>\n",
       "      <td>2023</td>\n",
       "      <td>426.908750</td>\n",
       "    </tr>\n",
       "    <tr>\n",
       "      <th>10</th>\n",
       "      <td>55</td>\n",
       "      <td>WI</td>\n",
       "      <td>Wisconsin</td>\n",
       "      <td>MULTIPOLYGON (((-86.95620 45.35201, -86.95339 ...</td>\n",
       "      <td>Midwest</td>\n",
       "      <td>2023</td>\n",
       "      <td>416.113125</td>\n",
       "    </tr>\n",
       "    <tr>\n",
       "      <th>11</th>\n",
       "      <td>41</td>\n",
       "      <td>OR</td>\n",
       "      <td>Oregon</td>\n",
       "      <td>POLYGON ((-124.55244 42.84057, -124.50014 42.9...</td>\n",
       "      <td>West</td>\n",
       "      <td>2023</td>\n",
       "      <td>620.478125</td>\n",
       "    </tr>\n",
       "    <tr>\n",
       "      <th>12</th>\n",
       "      <td>42</td>\n",
       "      <td>PA</td>\n",
       "      <td>Pennsylvania</td>\n",
       "      <td>POLYGON ((-80.51989 40.90666, -80.51909 40.921...</td>\n",
       "      <td>Northeast</td>\n",
       "      <td>2023</td>\n",
       "      <td>390.671250</td>\n",
       "    </tr>\n",
       "    <tr>\n",
       "      <th>13</th>\n",
       "      <td>28</td>\n",
       "      <td>MS</td>\n",
       "      <td>Mississippi</td>\n",
       "      <td>MULTIPOLYGON (((-88.51067 30.21702, -88.49238 ...</td>\n",
       "      <td>South</td>\n",
       "      <td>2023</td>\n",
       "      <td>307.416875</td>\n",
       "    </tr>\n",
       "    <tr>\n",
       "      <th>14</th>\n",
       "      <td>29</td>\n",
       "      <td>MO</td>\n",
       "      <td>Missouri</td>\n",
       "      <td>POLYGON ((-95.77355 40.57820, -95.76853 40.583...</td>\n",
       "      <td>Midwest</td>\n",
       "      <td>2023</td>\n",
       "      <td>372.503750</td>\n",
       "    </tr>\n",
       "    <tr>\n",
       "      <th>15</th>\n",
       "      <td>37</td>\n",
       "      <td>NC</td>\n",
       "      <td>North Carolina</td>\n",
       "      <td>MULTIPOLYGON (((-75.72681 35.93584, -75.71827 ...</td>\n",
       "      <td>South</td>\n",
       "      <td>2023</td>\n",
       "      <td>445.008125</td>\n",
       "    </tr>\n",
       "    <tr>\n",
       "      <th>16</th>\n",
       "      <td>40</td>\n",
       "      <td>OK</td>\n",
       "      <td>Oklahoma</td>\n",
       "      <td>POLYGON ((-103.00257 36.52659, -103.00219 36.6...</td>\n",
       "      <td>South</td>\n",
       "      <td>2023</td>\n",
       "      <td>342.002500</td>\n",
       "    </tr>\n",
       "    <tr>\n",
       "      <th>17</th>\n",
       "      <td>54</td>\n",
       "      <td>WV</td>\n",
       "      <td>West Virginia</td>\n",
       "      <td>POLYGON ((-82.64300 38.16956, -82.63905 38.171...</td>\n",
       "      <td>South</td>\n",
       "      <td>2023</td>\n",
       "      <td>306.901875</td>\n",
       "    </tr>\n",
       "    <tr>\n",
       "      <th>18</th>\n",
       "      <td>36</td>\n",
       "      <td>NY</td>\n",
       "      <td>New York</td>\n",
       "      <td>MULTIPOLYGON (((-72.03496 41.25546, -72.02944 ...</td>\n",
       "      <td>Northeast</td>\n",
       "      <td>2023</td>\n",
       "      <td>501.982500</td>\n",
       "    </tr>\n",
       "    <tr>\n",
       "      <th>19</th>\n",
       "      <td>18</td>\n",
       "      <td>IN</td>\n",
       "      <td>Indiana</td>\n",
       "      <td>POLYGON ((-88.09566 37.90581, -88.08624 37.905...</td>\n",
       "      <td>Midwest</td>\n",
       "      <td>2023</td>\n",
       "      <td>347.393125</td>\n",
       "    </tr>\n",
       "    <tr>\n",
       "      <th>20</th>\n",
       "      <td>20</td>\n",
       "      <td>KS</td>\n",
       "      <td>Kansas</td>\n",
       "      <td>POLYGON ((-102.05174 40.00308, -101.91670 40.0...</td>\n",
       "      <td>Midwest</td>\n",
       "      <td>2023</td>\n",
       "      <td>367.190000</td>\n",
       "    </tr>\n",
       "    <tr>\n",
       "      <th>21</th>\n",
       "      <td>16</td>\n",
       "      <td>ID</td>\n",
       "      <td>Idaho</td>\n",
       "      <td>POLYGON ((-117.24267 44.39655, -117.23484 44.3...</td>\n",
       "      <td>West</td>\n",
       "      <td>2023</td>\n",
       "      <td>605.135625</td>\n",
       "    </tr>\n",
       "    <tr>\n",
       "      <th>22</th>\n",
       "      <td>32</td>\n",
       "      <td>NV</td>\n",
       "      <td>Nevada</td>\n",
       "      <td>POLYGON ((-120.00574 39.22866, -120.00526 39.2...</td>\n",
       "      <td>West</td>\n",
       "      <td>2023</td>\n",
       "      <td>427.355625</td>\n",
       "    </tr>\n",
       "    <tr>\n",
       "      <th>23</th>\n",
       "      <td>50</td>\n",
       "      <td>VT</td>\n",
       "      <td>Vermont</td>\n",
       "      <td>POLYGON ((-73.43774 44.04501, -73.43199 44.063...</td>\n",
       "      <td>Northeast</td>\n",
       "      <td>2023</td>\n",
       "      <td>459.363125</td>\n",
       "    </tr>\n",
       "    <tr>\n",
       "      <th>24</th>\n",
       "      <td>30</td>\n",
       "      <td>MT</td>\n",
       "      <td>Montana</td>\n",
       "      <td>POLYGON ((-116.04905 48.48102, -116.04905 48.5...</td>\n",
       "      <td>West</td>\n",
       "      <td>2023</td>\n",
       "      <td>653.357500</td>\n",
       "    </tr>\n",
       "    <tr>\n",
       "      <th>25</th>\n",
       "      <td>27</td>\n",
       "      <td>MN</td>\n",
       "      <td>Minnesota</td>\n",
       "      <td>POLYGON ((-97.23921 48.96868, -97.23802 48.975...</td>\n",
       "      <td>Midwest</td>\n",
       "      <td>2023</td>\n",
       "      <td>426.270000</td>\n",
       "    </tr>\n",
       "    <tr>\n",
       "      <th>26</th>\n",
       "      <td>38</td>\n",
       "      <td>ND</td>\n",
       "      <td>North Dakota</td>\n",
       "      <td>POLYGON ((-104.04865 48.86573, -104.04882 48.8...</td>\n",
       "      <td>Midwest</td>\n",
       "      <td>2023</td>\n",
       "      <td>415.736875</td>\n",
       "    </tr>\n",
       "    <tr>\n",
       "      <th>27</th>\n",
       "      <td>04</td>\n",
       "      <td>AZ</td>\n",
       "      <td>Arizona</td>\n",
       "      <td>POLYGON ((-114.79968 32.59362, -114.80939 32.6...</td>\n",
       "      <td>West</td>\n",
       "      <td>2023</td>\n",
       "      <td>536.976250</td>\n",
       "    </tr>\n",
       "    <tr>\n",
       "      <th>28</th>\n",
       "      <td>10</td>\n",
       "      <td>DE</td>\n",
       "      <td>Delaware</td>\n",
       "      <td>MULTIPOLYGON (((-75.57080 39.62677, -75.55945 ...</td>\n",
       "      <td>South</td>\n",
       "      <td>2023</td>\n",
       "      <td>428.367500</td>\n",
       "    </tr>\n",
       "    <tr>\n",
       "      <th>29</th>\n",
       "      <td>44</td>\n",
       "      <td>RI</td>\n",
       "      <td>Rhode Island</td>\n",
       "      <td>MULTIPOLYGON (((-71.36152 41.46483, -71.34707 ...</td>\n",
       "      <td>Northeast</td>\n",
       "      <td>2023</td>\n",
       "      <td>544.007500</td>\n",
       "    </tr>\n",
       "    <tr>\n",
       "      <th>30</th>\n",
       "      <td>08</td>\n",
       "      <td>CO</td>\n",
       "      <td>Colorado</td>\n",
       "      <td>POLYGON ((-109.06025 38.59933, -109.05954 38.7...</td>\n",
       "      <td>West</td>\n",
       "      <td>2023</td>\n",
       "      <td>652.588750</td>\n",
       "    </tr>\n",
       "    <tr>\n",
       "      <th>31</th>\n",
       "      <td>49</td>\n",
       "      <td>UT</td>\n",
       "      <td>Utah</td>\n",
       "      <td>POLYGON ((-114.05296 37.59278, -114.05247 37.6...</td>\n",
       "      <td>West</td>\n",
       "      <td>2023</td>\n",
       "      <td>658.590625</td>\n",
       "    </tr>\n",
       "    <tr>\n",
       "      <th>32</th>\n",
       "      <td>51</td>\n",
       "      <td>VA</td>\n",
       "      <td>Virginia</td>\n",
       "      <td>MULTIPOLYGON (((-75.99966 37.84820, -75.99686 ...</td>\n",
       "      <td>South</td>\n",
       "      <td>2023</td>\n",
       "      <td>431.048125</td>\n",
       "    </tr>\n",
       "    <tr>\n",
       "      <th>33</th>\n",
       "      <td>56</td>\n",
       "      <td>WY</td>\n",
       "      <td>Wyoming</td>\n",
       "      <td>POLYGON ((-111.05689 44.86666, -111.05563 44.9...</td>\n",
       "      <td>West</td>\n",
       "      <td>2023</td>\n",
       "      <td>465.208750</td>\n",
       "    </tr>\n",
       "    <tr>\n",
       "      <th>34</th>\n",
       "      <td>22</td>\n",
       "      <td>LA</td>\n",
       "      <td>Louisiana</td>\n",
       "      <td>MULTIPOLYGON (((-88.88145 30.05320, -88.87048 ...</td>\n",
       "      <td>South</td>\n",
       "      <td>2023</td>\n",
       "      <td>329.037500</td>\n",
       "    </tr>\n",
       "    <tr>\n",
       "      <th>35</th>\n",
       "      <td>26</td>\n",
       "      <td>MI</td>\n",
       "      <td>Michigan</td>\n",
       "      <td>MULTIPOLYGON (((-84.00966 46.10133, -83.98768 ...</td>\n",
       "      <td>Midwest</td>\n",
       "      <td>2023</td>\n",
       "      <td>372.991250</td>\n",
       "    </tr>\n",
       "    <tr>\n",
       "      <th>36</th>\n",
       "      <td>25</td>\n",
       "      <td>MA</td>\n",
       "      <td>Massachusetts</td>\n",
       "      <td>MULTIPOLYGON (((-70.27553 41.31046, -70.26063 ...</td>\n",
       "      <td>Northeast</td>\n",
       "      <td>2023</td>\n",
       "      <td>682.606875</td>\n",
       "    </tr>\n",
       "    <tr>\n",
       "      <th>37</th>\n",
       "      <td>12</td>\n",
       "      <td>FL</td>\n",
       "      <td>Florida</td>\n",
       "      <td>MULTIPOLYGON (((-80.75164 24.85725, -80.72906 ...</td>\n",
       "      <td>South</td>\n",
       "      <td>2023</td>\n",
       "      <td>587.133125</td>\n",
       "    </tr>\n",
       "    <tr>\n",
       "      <th>38</th>\n",
       "      <td>09</td>\n",
       "      <td>CT</td>\n",
       "      <td>Connecticut</td>\n",
       "      <td>POLYGON ((-73.72777 41.10070, -73.69595 41.115...</td>\n",
       "      <td>Northeast</td>\n",
       "      <td>2023</td>\n",
       "      <td>352.063125</td>\n",
       "    </tr>\n",
       "    <tr>\n",
       "      <th>39</th>\n",
       "      <td>34</td>\n",
       "      <td>NJ</td>\n",
       "      <td>New Jersey</td>\n",
       "      <td>POLYGON ((-75.55910 39.62906, -75.55945 39.629...</td>\n",
       "      <td>Northeast</td>\n",
       "      <td>2023</td>\n",
       "      <td>501.735833</td>\n",
       "    </tr>\n",
       "    <tr>\n",
       "      <th>40</th>\n",
       "      <td>24</td>\n",
       "      <td>MD</td>\n",
       "      <td>Maryland</td>\n",
       "      <td>MULTIPOLYGON (((-76.04940 37.99031, -76.04881 ...</td>\n",
       "      <td>South</td>\n",
       "      <td>2023</td>\n",
       "      <td>410.612500</td>\n",
       "    </tr>\n",
       "    <tr>\n",
       "      <th>41</th>\n",
       "      <td>45</td>\n",
       "      <td>SC</td>\n",
       "      <td>South Carolina</td>\n",
       "      <td>POLYGON ((-83.35324 34.72865, -83.34883 34.737...</td>\n",
       "      <td>South</td>\n",
       "      <td>2023</td>\n",
       "      <td>437.370000</td>\n",
       "    </tr>\n",
       "    <tr>\n",
       "      <th>42</th>\n",
       "      <td>23</td>\n",
       "      <td>ME</td>\n",
       "      <td>Maine</td>\n",
       "      <td>MULTIPOLYGON (((-68.37659 44.11376, -68.37538 ...</td>\n",
       "      <td>Northeast</td>\n",
       "      <td>2023</td>\n",
       "      <td>529.658750</td>\n",
       "    </tr>\n",
       "    <tr>\n",
       "      <th>43</th>\n",
       "      <td>33</td>\n",
       "      <td>NH</td>\n",
       "      <td>New Hampshire</td>\n",
       "      <td>POLYGON ((-72.55725 42.85302, -72.55423 42.860...</td>\n",
       "      <td>Northeast</td>\n",
       "      <td>2023</td>\n",
       "      <td>500.857500</td>\n",
       "    </tr>\n",
       "    <tr>\n",
       "      <th>44</th>\n",
       "      <td>11</td>\n",
       "      <td>DC</td>\n",
       "      <td>District of Columbia</td>\n",
       "      <td>POLYGON ((-77.11976 38.93434, -77.10450 38.946...</td>\n",
       "      <td>South</td>\n",
       "      <td>2023</td>\n",
       "      <td>747.378333</td>\n",
       "    </tr>\n",
       "    <tr>\n",
       "      <th>45</th>\n",
       "      <td>19</td>\n",
       "      <td>IA</td>\n",
       "      <td>Iowa</td>\n",
       "      <td>POLYGON ((-96.63970 42.73707, -96.63589 42.741...</td>\n",
       "      <td>Midwest</td>\n",
       "      <td>2023</td>\n",
       "      <td>348.088750</td>\n",
       "    </tr>\n",
       "    <tr>\n",
       "      <th>46</th>\n",
       "      <td>05</td>\n",
       "      <td>AR</td>\n",
       "      <td>Arkansas</td>\n",
       "      <td>POLYGON ((-94.61792 36.49941, -94.55929 36.499...</td>\n",
       "      <td>South</td>\n",
       "      <td>2023</td>\n",
       "      <td>350.158125</td>\n",
       "    </tr>\n",
       "    <tr>\n",
       "      <th>47</th>\n",
       "      <td>47</td>\n",
       "      <td>TN</td>\n",
       "      <td>Tennessee</td>\n",
       "      <td>POLYGON ((-90.30988 35.00975, -90.30690 35.018...</td>\n",
       "      <td>South</td>\n",
       "      <td>2023</td>\n",
       "      <td>466.087500</td>\n",
       "    </tr>\n",
       "    <tr>\n",
       "      <th>48</th>\n",
       "      <td>17</td>\n",
       "      <td>IL</td>\n",
       "      <td>Illinois</td>\n",
       "      <td>POLYGON ((-91.51297 40.18106, -91.51107 40.188...</td>\n",
       "      <td>Midwest</td>\n",
       "      <td>2023</td>\n",
       "      <td>311.226250</td>\n",
       "    </tr>\n",
       "  </tbody>\n",
       "</table>\n",
       "</div>"
      ],
      "text/plain": [
       "   GEOID place_id                  NAME  \\\n",
       "0     31       NE              Nebraska   \n",
       "1     53       WA            Washington   \n",
       "2     35       NM            New Mexico   \n",
       "3     46       SD          South Dakota   \n",
       "4     48       TX                 Texas   \n",
       "5     06       CA            California   \n",
       "6     21       KY              Kentucky   \n",
       "7     39       OH                  Ohio   \n",
       "8     01       AL               Alabama   \n",
       "9     13       GA               Georgia   \n",
       "10    55       WI             Wisconsin   \n",
       "11    41       OR                Oregon   \n",
       "12    42       PA          Pennsylvania   \n",
       "13    28       MS           Mississippi   \n",
       "14    29       MO              Missouri   \n",
       "15    37       NC        North Carolina   \n",
       "16    40       OK              Oklahoma   \n",
       "17    54       WV         West Virginia   \n",
       "18    36       NY              New York   \n",
       "19    18       IN               Indiana   \n",
       "20    20       KS                Kansas   \n",
       "21    16       ID                 Idaho   \n",
       "22    32       NV                Nevada   \n",
       "23    50       VT               Vermont   \n",
       "24    30       MT               Montana   \n",
       "25    27       MN             Minnesota   \n",
       "26    38       ND          North Dakota   \n",
       "27    04       AZ               Arizona   \n",
       "28    10       DE              Delaware   \n",
       "29    44       RI          Rhode Island   \n",
       "30    08       CO              Colorado   \n",
       "31    49       UT                  Utah   \n",
       "32    51       VA              Virginia   \n",
       "33    56       WY               Wyoming   \n",
       "34    22       LA             Louisiana   \n",
       "35    26       MI              Michigan   \n",
       "36    25       MA         Massachusetts   \n",
       "37    12       FL               Florida   \n",
       "38    09       CT           Connecticut   \n",
       "39    34       NJ            New Jersey   \n",
       "40    24       MD              Maryland   \n",
       "41    45       SC        South Carolina   \n",
       "42    23       ME                 Maine   \n",
       "43    33       NH         New Hampshire   \n",
       "44    11       DC  District of Columbia   \n",
       "45    19       IA                  Iowa   \n",
       "46    05       AR              Arkansas   \n",
       "47    47       TN             Tennessee   \n",
       "48    17       IL              Illinois   \n",
       "\n",
       "                                             geometry     Region  year  \\\n",
       "0   POLYGON ((-104.05351 41.15726, -104.05267 41.2...    Midwest  2023   \n",
       "1   MULTIPOLYGON (((-122.32834 48.02134, -122.3217...       West  2023   \n",
       "2   POLYGON ((-109.05017 31.48000, -109.04984 31.4...       West  2023   \n",
       "3   POLYGON ((-104.05770 44.99743, -104.05021 44.9...    Midwest  2023   \n",
       "4   POLYGON ((-106.64548 31.89867, -106.64084 31.9...      South  2023   \n",
       "5   MULTIPOLYGON (((-118.60337 33.47810, -118.5987...       West  2023   \n",
       "6   MULTIPOLYGON (((-89.40565 36.52817, -89.39869 ...      South  2023   \n",
       "7   MULTIPOLYGON (((-82.73571 41.60336, -82.71880 ...    Midwest  2023   \n",
       "8   MULTIPOLYGON (((-88.04374 30.51742, -88.03661 ...      South  2023   \n",
       "9   POLYGON ((-85.60516 34.98468, -85.55259 34.984...      South  2023   \n",
       "10  MULTIPOLYGON (((-86.95620 45.35201, -86.95339 ...    Midwest  2023   \n",
       "11  POLYGON ((-124.55244 42.84057, -124.50014 42.9...       West  2023   \n",
       "12  POLYGON ((-80.51989 40.90666, -80.51909 40.921...  Northeast  2023   \n",
       "13  MULTIPOLYGON (((-88.51067 30.21702, -88.49238 ...      South  2023   \n",
       "14  POLYGON ((-95.77355 40.57820, -95.76853 40.583...    Midwest  2023   \n",
       "15  MULTIPOLYGON (((-75.72681 35.93584, -75.71827 ...      South  2023   \n",
       "16  POLYGON ((-103.00257 36.52659, -103.00219 36.6...      South  2023   \n",
       "17  POLYGON ((-82.64300 38.16956, -82.63905 38.171...      South  2023   \n",
       "18  MULTIPOLYGON (((-72.03496 41.25546, -72.02944 ...  Northeast  2023   \n",
       "19  POLYGON ((-88.09566 37.90581, -88.08624 37.905...    Midwest  2023   \n",
       "20  POLYGON ((-102.05174 40.00308, -101.91670 40.0...    Midwest  2023   \n",
       "21  POLYGON ((-117.24267 44.39655, -117.23484 44.3...       West  2023   \n",
       "22  POLYGON ((-120.00574 39.22866, -120.00526 39.2...       West  2023   \n",
       "23  POLYGON ((-73.43774 44.04501, -73.43199 44.063...  Northeast  2023   \n",
       "24  POLYGON ((-116.04905 48.48102, -116.04905 48.5...       West  2023   \n",
       "25  POLYGON ((-97.23921 48.96868, -97.23802 48.975...    Midwest  2023   \n",
       "26  POLYGON ((-104.04865 48.86573, -104.04882 48.8...    Midwest  2023   \n",
       "27  POLYGON ((-114.79968 32.59362, -114.80939 32.6...       West  2023   \n",
       "28  MULTIPOLYGON (((-75.57080 39.62677, -75.55945 ...      South  2023   \n",
       "29  MULTIPOLYGON (((-71.36152 41.46483, -71.34707 ...  Northeast  2023   \n",
       "30  POLYGON ((-109.06025 38.59933, -109.05954 38.7...       West  2023   \n",
       "31  POLYGON ((-114.05296 37.59278, -114.05247 37.6...       West  2023   \n",
       "32  MULTIPOLYGON (((-75.99966 37.84820, -75.99686 ...      South  2023   \n",
       "33  POLYGON ((-111.05689 44.86666, -111.05563 44.9...       West  2023   \n",
       "34  MULTIPOLYGON (((-88.88145 30.05320, -88.87048 ...      South  2023   \n",
       "35  MULTIPOLYGON (((-84.00966 46.10133, -83.98768 ...    Midwest  2023   \n",
       "36  MULTIPOLYGON (((-70.27553 41.31046, -70.26063 ...  Northeast  2023   \n",
       "37  MULTIPOLYGON (((-80.75164 24.85725, -80.72906 ...      South  2023   \n",
       "38  POLYGON ((-73.72777 41.10070, -73.69595 41.115...  Northeast  2023   \n",
       "39  POLYGON ((-75.55910 39.62906, -75.55945 39.629...  Northeast  2023   \n",
       "40  MULTIPOLYGON (((-76.04940 37.99031, -76.04881 ...      South  2023   \n",
       "41  POLYGON ((-83.35324 34.72865, -83.34883 34.737...      South  2023   \n",
       "42  MULTIPOLYGON (((-68.37659 44.11376, -68.37538 ...  Northeast  2023   \n",
       "43  POLYGON ((-72.55725 42.85302, -72.55423 42.860...  Northeast  2023   \n",
       "44  POLYGON ((-77.11976 38.93434, -77.10450 38.946...      South  2023   \n",
       "45  POLYGON ((-96.63970 42.73707, -96.63589 42.741...    Midwest  2023   \n",
       "46  POLYGON ((-94.61792 36.49941, -94.55929 36.499...      South  2023   \n",
       "47  POLYGON ((-90.30988 35.00975, -90.30690 35.018...      South  2023   \n",
       "48  POLYGON ((-91.51297 40.18106, -91.51107 40.188...    Midwest  2023   \n",
       "\n",
       "     index_nsa  \n",
       "0   398.535625  \n",
       "1   629.311875  \n",
       "2   388.200625  \n",
       "3   486.631250  \n",
       "4   442.343125  \n",
       "5   519.832500  \n",
       "6   372.313750  \n",
       "7   329.526875  \n",
       "8   348.524375  \n",
       "9   426.908750  \n",
       "10  416.113125  \n",
       "11  620.478125  \n",
       "12  390.671250  \n",
       "13  307.416875  \n",
       "14  372.503750  \n",
       "15  445.008125  \n",
       "16  342.002500  \n",
       "17  306.901875  \n",
       "18  501.982500  \n",
       "19  347.393125  \n",
       "20  367.190000  \n",
       "21  605.135625  \n",
       "22  427.355625  \n",
       "23  459.363125  \n",
       "24  653.357500  \n",
       "25  426.270000  \n",
       "26  415.736875  \n",
       "27  536.976250  \n",
       "28  428.367500  \n",
       "29  544.007500  \n",
       "30  652.588750  \n",
       "31  658.590625  \n",
       "32  431.048125  \n",
       "33  465.208750  \n",
       "34  329.037500  \n",
       "35  372.991250  \n",
       "36  682.606875  \n",
       "37  587.133125  \n",
       "38  352.063125  \n",
       "39  501.735833  \n",
       "40  410.612500  \n",
       "41  437.370000  \n",
       "42  529.658750  \n",
       "43  500.857500  \n",
       "44  747.378333  \n",
       "45  348.088750  \n",
       "46  350.158125  \n",
       "47  466.087500  \n",
       "48  311.226250  "
      ]
     },
     "execution_count": 13,
     "metadata": {},
     "output_type": "execute_result"
    }
   ],
   "source": [
    "merged_df = pd.merge(left=geo_df, right=combined_heat_map_data, how='left', on='place_id')\n",
    "df = merged_df.drop(['year'], axis=1)\n",
    "\n",
    "merged_df.head(50)"
   ]
  },
  {
   "cell_type": "code",
   "execution_count": 14,
   "id": "a61ee20f-107e-471d-84d4-99a02a435c91",
   "metadata": {},
   "outputs": [
    {
     "data": {
      "image/png": "[encoded data removed]",
      "text/plain": [
       "<Figure size 2000x800 with 2 Axes>"
      ]
     },
     "metadata": {},
     "output_type": "display_data"
    }
   ],
   "source": [
    "# Print the map\n",
    "# Set the range for the choropleth\n",
    "title = '2023 House price index'\n",
    "col = 'index_nsa'\n",
    "source = 'HPI = Current HPI by state'\n",
    "vmin = df[col].min()\n",
    "vmax = df[col].max()\n",
    "cmap = 'Oranges'\n",
    "# Create figure and axes for Matplotlib\n",
    "fig, ax = plt.subplots(1, figsize=(20, 8))\n",
    "# Remove the axis\n",
    "ax.axis('off')\n",
    "df.plot(column=col, ax=ax, edgecolor='0.8', linewidth=1, cmap=cmap)\n",
    "# Add a title\n",
    "ax.set_title(title, fontdict={'fontsize': '25', 'fontweight': '3'})\n",
    "# Create an annotation for the data source\n",
    "ax.annotate(source, xy=(0.1, .08), xycoords='figure fraction', horizontalalignment='left', \n",
    "          verticalalignment='bottom', fontsize=10)\n",
    "\n",
    "          \n",
    "# Create colorbar as a legend\n",
    "sm = plt.cm.ScalarMappable(norm=plt.Normalize(vmin=vmin, vmax=vmax), cmap=cmap)\n",
    "# Empty array for the data range\n",
    "sm._A = []\n",
    "# Add the colorbar to the figure\n",
    "cbaxes = fig.add_axes([0.15, 0.25, 0.01, 0.4])\n",
    "cbar = fig.colorbar(sm, cax=cbaxes)"
   ]
  },
  {
   "cell_type": "code",
   "execution_count": 15,
   "id": "4a26fa3d-ba65-4556-848b-5365c32cdfbe",
   "metadata": {},
   "outputs": [
    {
     "data": {
      "text/plain": [
       "year                     int64\n",
       "Estimate                 int64\n",
       "Margin of\\nerror1 (±)    int64\n",
       "dtype: object"
      ]
     },
     "execution_count": 15,
     "metadata": {},
     "output_type": "execute_result"
    }
   ],
   "source": [
    "# File to Load \n",
    "median_household_income_data_to_load=\"Resources/income_average.csv\"\n",
    "# Read School and Student Data File and store into Pandas DataFrames\n",
    "median_household_income_data_df = pd.read_csv(median_household_income_data_to_load)\n",
    "#median_household_income_data_df.head(50)\n",
    "Final_median_household_income_data_df = median_household_income_data_df[[\"Year\", \"Estimate\", \"Margin of\\nerror1 (±)\"]]\n",
    "Final_median_household_income_data_df=Final_median_household_income_data_df.rename(columns={\"Year\": \"year\"})\n",
    "Final_median_household_income_data_df.head(22)\n",
    "Final_median_household_income_data_df.dtypes\n",
    "# convert all DataFrame columns to the int64 dtype\n",
    "#Final_median_household_income_data_df = Final_median_household_income_data_df.astype(int)"
   ]
  },
  {
   "cell_type": "code",
   "execution_count": 16,
   "id": "7ef03fe1-2e37-4278-8010-2124c5fc9fe6",
   "metadata": {},
   "outputs": [
    {
     "data": {
      "text/html": [
       "<div>\n",
       "<style scoped>\n",
       "    .dataframe tbody tr th:only-of-type {\n",
       "        vertical-align: middle;\n",
       "    }\n",
       "\n",
       "    .dataframe tbody tr th {\n",
       "        vertical-align: top;\n",
       "    }\n",
       "\n",
       "    .dataframe thead th {\n",
       "        text-align: right;\n",
       "    }\n",
       "</style>\n",
       "<table border=\"1\" class=\"dataframe\">\n",
       "  <thead>\n",
       "    <tr style=\"text-align: right;\">\n",
       "      <th></th>\n",
       "      <th>year</th>\n",
       "      <th>index_nsa</th>\n",
       "      <th>Estimate</th>\n",
       "      <th>Margin of\\nerror1 (±)</th>\n",
       "    </tr>\n",
       "  </thead>\n",
       "  <tbody>\n",
       "    <tr>\n",
       "      <th>0</th>\n",
       "      <td>2022</td>\n",
       "      <td>433.614105</td>\n",
       "      <td>74580</td>\n",
       "      <td>968</td>\n",
       "    </tr>\n",
       "    <tr>\n",
       "      <th>1</th>\n",
       "      <td>2021</td>\n",
       "      <td>378.164673</td>\n",
       "      <td>70780</td>\n",
       "      <td>606</td>\n",
       "    </tr>\n",
       "    <tr>\n",
       "      <th>2</th>\n",
       "      <td>2020</td>\n",
       "      <td>329.137247</td>\n",
       "      <td>68010</td>\n",
       "      <td>880</td>\n",
       "    </tr>\n",
       "    <tr>\n",
       "      <th>3</th>\n",
       "      <td>2019</td>\n",
       "      <td>309.193460</td>\n",
       "      <td>68700</td>\n",
       "      <td>904</td>\n",
       "    </tr>\n",
       "    <tr>\n",
       "      <th>4</th>\n",
       "      <td>2018</td>\n",
       "      <td>294.731797</td>\n",
       "      <td>63180</td>\n",
       "      <td>691</td>\n",
       "    </tr>\n",
       "    <tr>\n",
       "      <th>5</th>\n",
       "      <td>2017</td>\n",
       "      <td>279.542827</td>\n",
       "      <td>61370</td>\n",
       "      <td>551</td>\n",
       "    </tr>\n",
       "    <tr>\n",
       "      <th>6</th>\n",
       "      <td>2016</td>\n",
       "      <td>266.169355</td>\n",
       "      <td>59040</td>\n",
       "      <td>718</td>\n",
       "    </tr>\n",
       "    <tr>\n",
       "      <th>7</th>\n",
       "      <td>2015</td>\n",
       "      <td>254.415617</td>\n",
       "      <td>56520</td>\n",
       "      <td>528</td>\n",
       "    </tr>\n",
       "    <tr>\n",
       "      <th>8</th>\n",
       "      <td>2014</td>\n",
       "      <td>243.368493</td>\n",
       "      <td>53660</td>\n",
       "      <td>645</td>\n",
       "    </tr>\n",
       "  </tbody>\n",
       "</table>\n",
       "</div>"
      ],
      "text/plain": [
       "   year   index_nsa  Estimate  Margin of\\nerror1 (±)\n",
       "0  2022  433.614105     74580                    968\n",
       "1  2021  378.164673     70780                    606\n",
       "2  2020  329.137247     68010                    880\n",
       "3  2019  309.193460     68700                    904\n",
       "4  2018  294.731797     63180                    691\n",
       "5  2017  279.542827     61370                    551\n",
       "6  2016  266.169355     59040                    718\n",
       "7  2015  254.415617     56520                    528\n",
       "8  2014  243.368493     53660                    645"
      ]
     },
     "execution_count": 16,
     "metadata": {},
     "output_type": "execute_result"
    }
   ],
   "source": [
    "final_data = yr_house_price_df_plot.merge(Final_median_household_income_data_df, on='year', how='right') \n",
    "final_data = final_data.drop(final_data.loc[final_data['year'] <= 2013].index)\n",
    "final_data.head(22)"
   ]
  },
  {
   "cell_type": "code",
   "execution_count": 17,
   "id": "bd8bceb5-b098-4869-b6ce-c9333cfdf4f4",
   "metadata": {},
   "outputs": [
    {
     "name": "stdout",
     "output_type": "stream",
     "text": [
      "The correlation between both factors is 0.94\n"
     ]
    },
    {
     "data": {
      "image/png": "[encoded data removed]",
      "text/plain": [
       "<Figure size 1000x600 with 1 Axes>"
      ]
     },
     "metadata": {},
     "output_type": "display_data"
    },
    {
     "name": "stdout",
     "output_type": "stream",
     "text": [
      "y = 105.41x + 31324.48\n"
     ]
    }
   ],
   "source": [
    "# Add the linear regression equation and line to plot\n",
    "\n",
    "x_values = final_data['index_nsa']\n",
    "y_values = final_data['Estimate']\n",
    "(slope, intercept, rvalue, pvalue, stderr) = linregress(x_values, y_values)\n",
    "regress_values = x_values * slope + intercept\n",
    "line_eq = \"y = \" + str(round(slope,2)) + \"x + \" + str(round(intercept,2))\n",
    "plt.figure(figsize=(10, 6)) \n",
    "correlation = st.pearsonr(x_values,y_values)\n",
    "plt.scatter(x_values,y_values)\n",
    "plt.plot(x_values,regress_values,\"r-\")\n",
    "plt.annotate(line_eq,(5.8,0.8),fontsize=15,color=\"red\")\n",
    "plt.title('The correlation between Income & house price index')\n",
    "plt.xlabel('price index')\n",
    "plt.ylabel('income')\n",
    "print(f\"The correlation between both factors is {round(correlation[0],2)}\")\n",
    "plt.show()\n",
    "print(line_eq)\n"
   ]
  },
  {
   "cell_type": "code",
   "execution_count": 18,
   "id": "d9c1c4f4-c6e9-4645-b993-ef9883cf063f",
   "metadata": {},
   "outputs": [
    {
     "data": {
      "text/html": [
       "<div>\n",
       "<style scoped>\n",
       "    .dataframe tbody tr th:only-of-type {\n",
       "        vertical-align: middle;\n",
       "    }\n",
       "\n",
       "    .dataframe tbody tr th {\n",
       "        vertical-align: top;\n",
       "    }\n",
       "\n",
       "    .dataframe thead th {\n",
       "        text-align: right;\n",
       "    }\n",
       "</style>\n",
       "<table border=\"1\" class=\"dataframe\">\n",
       "  <thead>\n",
       "    <tr style=\"text-align: right;\">\n",
       "      <th></th>\n",
       "      <th>year</th>\n",
       "      <th>index_nsa</th>\n",
       "      <th>index_percentage_change</th>\n",
       "    </tr>\n",
       "  </thead>\n",
       "  <tbody>\n",
       "    <tr>\n",
       "      <th>0</th>\n",
       "      <td>2014</td>\n",
       "      <td>243.368493</td>\n",
       "      <td>NaN</td>\n",
       "    </tr>\n",
       "    <tr>\n",
       "      <th>1</th>\n",
       "      <td>2015</td>\n",
       "      <td>254.415617</td>\n",
       "      <td>4.539258</td>\n",
       "    </tr>\n",
       "    <tr>\n",
       "      <th>2</th>\n",
       "      <td>2016</td>\n",
       "      <td>266.169355</td>\n",
       "      <td>4.619896</td>\n",
       "    </tr>\n",
       "    <tr>\n",
       "      <th>3</th>\n",
       "      <td>2017</td>\n",
       "      <td>279.542827</td>\n",
       "      <td>5.024422</td>\n",
       "    </tr>\n",
       "    <tr>\n",
       "      <th>4</th>\n",
       "      <td>2018</td>\n",
       "      <td>294.731797</td>\n",
       "      <td>5.433504</td>\n",
       "    </tr>\n",
       "    <tr>\n",
       "      <th>5</th>\n",
       "      <td>2019</td>\n",
       "      <td>309.193460</td>\n",
       "      <td>4.906720</td>\n",
       "    </tr>\n",
       "    <tr>\n",
       "      <th>6</th>\n",
       "      <td>2020</td>\n",
       "      <td>329.137247</td>\n",
       "      <td>6.450262</td>\n",
       "    </tr>\n",
       "    <tr>\n",
       "      <th>7</th>\n",
       "      <td>2021</td>\n",
       "      <td>378.164673</td>\n",
       "      <td>14.895739</td>\n",
       "    </tr>\n",
       "    <tr>\n",
       "      <th>8</th>\n",
       "      <td>2022</td>\n",
       "      <td>433.614105</td>\n",
       "      <td>14.662774</td>\n",
       "    </tr>\n",
       "    <tr>\n",
       "      <th>9</th>\n",
       "      <td>2023</td>\n",
       "      <td>457.218354</td>\n",
       "      <td>5.443607</td>\n",
       "    </tr>\n",
       "    <tr>\n",
       "      <th>10</th>\n",
       "      <td>2024</td>\n",
       "      <td>470.383268</td>\n",
       "      <td>2.879349</td>\n",
       "    </tr>\n",
       "  </tbody>\n",
       "</table>\n",
       "</div>"
      ],
      "text/plain": [
       "    year   index_nsa  index_percentage_change\n",
       "0   2014  243.368493                      NaN\n",
       "1   2015  254.415617                 4.539258\n",
       "2   2016  266.169355                 4.619896\n",
       "3   2017  279.542827                 5.024422\n",
       "4   2018  294.731797                 5.433504\n",
       "5   2019  309.193460                 4.906720\n",
       "6   2020  329.137247                 6.450262\n",
       "7   2021  378.164673                14.895739\n",
       "8   2022  433.614105                14.662774\n",
       "9   2023  457.218354                 5.443607\n",
       "10  2024  470.383268                 2.879349"
      ]
     },
     "execution_count": 18,
     "metadata": {},
     "output_type": "execute_result"
    }
   ],
   "source": [
    "#yr_house_price_df_plot.set_index('year')\n",
    "yr_house_price_df_plot1=yr_house_price_df_plot\n",
    "yr_house_price_df_plot1=yr_house_price_df_plot1.set_index('year')\n",
    "#yr_house_price_df_plot1\n",
    "yr_house_price_df_plot1['index_percentage_change'] = yr_house_price_df_plot1.index_nsa.pct_change(periods = 1)\n",
    "yr_house_price_df_plot1['index_percentage_change'] = yr_house_price_df_plot1['index_percentage_change']*100\n",
    "yr_house_price_df_plot1.reset_index()\n",
    "\n",
    "#df.close = df.close.pct_change(periods = 1)"
   ]
  },
  {
   "cell_type": "code",
   "execution_count": 19,
   "id": "eeeda164-e11c-46ea-8a71-ccdf3abee6d8",
   "metadata": {},
   "outputs": [
    {
     "data": {
      "text/html": [
       "<div>\n",
       "<style scoped>\n",
       "    .dataframe tbody tr th:only-of-type {\n",
       "        vertical-align: middle;\n",
       "    }\n",
       "\n",
       "    .dataframe tbody tr th {\n",
       "        vertical-align: top;\n",
       "    }\n",
       "\n",
       "    .dataframe thead th {\n",
       "        text-align: right;\n",
       "    }\n",
       "</style>\n",
       "<table border=\"1\" class=\"dataframe\">\n",
       "  <thead>\n",
       "    <tr style=\"text-align: right;\">\n",
       "      <th></th>\n",
       "      <th>year</th>\n",
       "      <th>index_nsa</th>\n",
       "      <th>index_percentage_change</th>\n",
       "      <th>Jan</th>\n",
       "      <th>Feb</th>\n",
       "      <th>Mar</th>\n",
       "      <th>Apr</th>\n",
       "      <th>May</th>\n",
       "      <th>Jun</th>\n",
       "      <th>Jul</th>\n",
       "      <th>Aug</th>\n",
       "      <th>Sep</th>\n",
       "      <th>Oct</th>\n",
       "      <th>Nov</th>\n",
       "      <th>Dec</th>\n",
       "      <th>Ave</th>\n",
       "    </tr>\n",
       "  </thead>\n",
       "  <tbody>\n",
       "    <tr>\n",
       "      <th>0</th>\n",
       "      <td>2014</td>\n",
       "      <td>243.368493</td>\n",
       "      <td>NaN</td>\n",
       "      <td>1.6</td>\n",
       "      <td>1.1</td>\n",
       "      <td>1.5</td>\n",
       "      <td>2.0</td>\n",
       "      <td>2.1</td>\n",
       "      <td>2.1</td>\n",
       "      <td>2.0</td>\n",
       "      <td>1.7</td>\n",
       "      <td>1.7</td>\n",
       "      <td>1.7</td>\n",
       "      <td>1.3</td>\n",
       "      <td>0.8</td>\n",
       "      <td>1.6</td>\n",
       "    </tr>\n",
       "    <tr>\n",
       "      <th>1</th>\n",
       "      <td>2015</td>\n",
       "      <td>254.415617</td>\n",
       "      <td>4.539258</td>\n",
       "      <td>-0.1</td>\n",
       "      <td>0.0</td>\n",
       "      <td>-0.1</td>\n",
       "      <td>-0.2</td>\n",
       "      <td>0.0</td>\n",
       "      <td>0.1</td>\n",
       "      <td>0.2</td>\n",
       "      <td>0.2</td>\n",
       "      <td>0.0</td>\n",
       "      <td>0.2</td>\n",
       "      <td>0.5</td>\n",
       "      <td>0.7</td>\n",
       "      <td>0.1</td>\n",
       "    </tr>\n",
       "    <tr>\n",
       "      <th>2</th>\n",
       "      <td>2016</td>\n",
       "      <td>266.169355</td>\n",
       "      <td>4.619896</td>\n",
       "      <td>1.4</td>\n",
       "      <td>1.0</td>\n",
       "      <td>0.9</td>\n",
       "      <td>1.1</td>\n",
       "      <td>1.0</td>\n",
       "      <td>1.0</td>\n",
       "      <td>0.8</td>\n",
       "      <td>1.1</td>\n",
       "      <td>1.5</td>\n",
       "      <td>1.6</td>\n",
       "      <td>1.7</td>\n",
       "      <td>2.1</td>\n",
       "      <td>1.3</td>\n",
       "    </tr>\n",
       "    <tr>\n",
       "      <th>3</th>\n",
       "      <td>2017</td>\n",
       "      <td>279.542827</td>\n",
       "      <td>5.024422</td>\n",
       "      <td>2.5</td>\n",
       "      <td>2.7</td>\n",
       "      <td>2.4</td>\n",
       "      <td>2.2</td>\n",
       "      <td>1.9</td>\n",
       "      <td>1.6</td>\n",
       "      <td>1.7</td>\n",
       "      <td>1.9</td>\n",
       "      <td>2.2</td>\n",
       "      <td>2.0</td>\n",
       "      <td>2.2</td>\n",
       "      <td>2.1</td>\n",
       "      <td>2.1</td>\n",
       "    </tr>\n",
       "    <tr>\n",
       "      <th>4</th>\n",
       "      <td>2018</td>\n",
       "      <td>294.731797</td>\n",
       "      <td>5.433504</td>\n",
       "      <td>2.1</td>\n",
       "      <td>2.2</td>\n",
       "      <td>2.4</td>\n",
       "      <td>2.5</td>\n",
       "      <td>2.8</td>\n",
       "      <td>2.9</td>\n",
       "      <td>2.9</td>\n",
       "      <td>2.7</td>\n",
       "      <td>2.3</td>\n",
       "      <td>2.5</td>\n",
       "      <td>2.2</td>\n",
       "      <td>1.9</td>\n",
       "      <td>2.4</td>\n",
       "    </tr>\n",
       "    <tr>\n",
       "      <th>5</th>\n",
       "      <td>2019</td>\n",
       "      <td>309.193460</td>\n",
       "      <td>4.906720</td>\n",
       "      <td>1.6</td>\n",
       "      <td>1.5</td>\n",
       "      <td>1.9</td>\n",
       "      <td>2.0</td>\n",
       "      <td>1.8</td>\n",
       "      <td>1.6</td>\n",
       "      <td>1.8</td>\n",
       "      <td>1.7</td>\n",
       "      <td>1.7</td>\n",
       "      <td>1.8</td>\n",
       "      <td>2.1</td>\n",
       "      <td>2.3</td>\n",
       "      <td>1.8</td>\n",
       "    </tr>\n",
       "    <tr>\n",
       "      <th>6</th>\n",
       "      <td>2020</td>\n",
       "      <td>329.137247</td>\n",
       "      <td>6.450262</td>\n",
       "      <td>2.5</td>\n",
       "      <td>2.3</td>\n",
       "      <td>1.5</td>\n",
       "      <td>0.3</td>\n",
       "      <td>0.1</td>\n",
       "      <td>0.6</td>\n",
       "      <td>1.0</td>\n",
       "      <td>1.3</td>\n",
       "      <td>1.4</td>\n",
       "      <td>1.2</td>\n",
       "      <td>1.2</td>\n",
       "      <td>1.4</td>\n",
       "      <td>1.2</td>\n",
       "    </tr>\n",
       "    <tr>\n",
       "      <th>7</th>\n",
       "      <td>2021</td>\n",
       "      <td>378.164673</td>\n",
       "      <td>14.895739</td>\n",
       "      <td>1.4</td>\n",
       "      <td>1.7</td>\n",
       "      <td>2.6</td>\n",
       "      <td>4.2</td>\n",
       "      <td>5.0</td>\n",
       "      <td>5.4</td>\n",
       "      <td>5.4</td>\n",
       "      <td>5.3</td>\n",
       "      <td>5.4</td>\n",
       "      <td>6.2</td>\n",
       "      <td>6.8</td>\n",
       "      <td>7.0</td>\n",
       "      <td>4.7</td>\n",
       "    </tr>\n",
       "    <tr>\n",
       "      <th>8</th>\n",
       "      <td>2022</td>\n",
       "      <td>433.614105</td>\n",
       "      <td>14.662774</td>\n",
       "      <td>7.5</td>\n",
       "      <td>7.9</td>\n",
       "      <td>8.5</td>\n",
       "      <td>8.3</td>\n",
       "      <td>8.6</td>\n",
       "      <td>9.1</td>\n",
       "      <td>8.5</td>\n",
       "      <td>8.3</td>\n",
       "      <td>8.2</td>\n",
       "      <td>7.7</td>\n",
       "      <td>7.1</td>\n",
       "      <td>6.5</td>\n",
       "      <td>8.0</td>\n",
       "    </tr>\n",
       "    <tr>\n",
       "      <th>9</th>\n",
       "      <td>2023</td>\n",
       "      <td>457.218354</td>\n",
       "      <td>5.443607</td>\n",
       "      <td>6.4</td>\n",
       "      <td>6.0</td>\n",
       "      <td>5.0</td>\n",
       "      <td>4.9</td>\n",
       "      <td>4.0</td>\n",
       "      <td>3.0</td>\n",
       "      <td>3.2</td>\n",
       "      <td>3.7</td>\n",
       "      <td>3.7</td>\n",
       "      <td>3.2</td>\n",
       "      <td>3.1</td>\n",
       "      <td>3.4</td>\n",
       "      <td>4.1</td>\n",
       "    </tr>\n",
       "    <tr>\n",
       "      <th>10</th>\n",
       "      <td>2024</td>\n",
       "      <td>470.383268</td>\n",
       "      <td>2.879349</td>\n",
       "      <td>NaN</td>\n",
       "      <td>NaN</td>\n",
       "      <td>NaN</td>\n",
       "      <td>NaN</td>\n",
       "      <td>NaN</td>\n",
       "      <td>NaN</td>\n",
       "      <td>NaN</td>\n",
       "      <td>NaN</td>\n",
       "      <td>NaN</td>\n",
       "      <td>NaN</td>\n",
       "      <td>NaN</td>\n",
       "      <td>NaN</td>\n",
       "      <td>NaN</td>\n",
       "    </tr>\n",
       "  </tbody>\n",
       "</table>\n",
       "</div>"
      ],
      "text/plain": [
       "    year   index_nsa  index_percentage_change  Jan  Feb  Mar  Apr  May  Jun  \\\n",
       "0   2014  243.368493                      NaN  1.6  1.1  1.5  2.0  2.1  2.1   \n",
       "1   2015  254.415617                 4.539258 -0.1  0.0 -0.1 -0.2  0.0  0.1   \n",
       "2   2016  266.169355                 4.619896  1.4  1.0  0.9  1.1  1.0  1.0   \n",
       "3   2017  279.542827                 5.024422  2.5  2.7  2.4  2.2  1.9  1.6   \n",
       "4   2018  294.731797                 5.433504  2.1  2.2  2.4  2.5  2.8  2.9   \n",
       "5   2019  309.193460                 4.906720  1.6  1.5  1.9  2.0  1.8  1.6   \n",
       "6   2020  329.137247                 6.450262  2.5  2.3  1.5  0.3  0.1  0.6   \n",
       "7   2021  378.164673                14.895739  1.4  1.7  2.6  4.2  5.0  5.4   \n",
       "8   2022  433.614105                14.662774  7.5  7.9  8.5  8.3  8.6  9.1   \n",
       "9   2023  457.218354                 5.443607  6.4  6.0  5.0  4.9  4.0  3.0   \n",
       "10  2024  470.383268                 2.879349  NaN  NaN  NaN  NaN  NaN  NaN   \n",
       "\n",
       "    Jul  Aug  Sep  Oct  Nov  Dec  Ave  \n",
       "0   2.0  1.7  1.7  1.7  1.3  0.8  1.6  \n",
       "1   0.2  0.2  0.0  0.2  0.5  0.7  0.1  \n",
       "2   0.8  1.1  1.5  1.6  1.7  2.1  1.3  \n",
       "3   1.7  1.9  2.2  2.0  2.2  2.1  2.1  \n",
       "4   2.9  2.7  2.3  2.5  2.2  1.9  2.4  \n",
       "5   1.8  1.7  1.7  1.8  2.1  2.3  1.8  \n",
       "6   1.0  1.3  1.4  1.2  1.2  1.4  1.2  \n",
       "7   5.4  5.3  5.4  6.2  6.8  7.0  4.7  \n",
       "8   8.5  8.3  8.2  7.7  7.1  6.5  8.0  \n",
       "9   3.2  3.7  3.7  3.2  3.1  3.4  4.1  \n",
       "10  NaN  NaN  NaN  NaN  NaN  NaN  NaN  "
      ]
     },
     "execution_count": 19,
     "metadata": {},
     "output_type": "execute_result"
    }
   ],
   "source": [
    "# File to Load \n",
    "inflation_rate_to_load=\"Resources/inflation_rate.csv\"\n",
    "\n",
    "# Read School and Student Data File and store into Pandas DataFrames\n",
    "inflation_rate_df = pd.read_csv(inflation_rate_to_load)\n",
    "sorted_df = inflation_rate_df.sort_values(by=['year'], ascending=True)\n",
    "#inflation_rate_df.sort_values('Year')\n",
    "Combined_data_1 = yr_house_price_df_plot1.merge(sorted_df, on='year', how='left')\n",
    "Combined_data_1.head(22)"
   ]
  },
  {
   "cell_type": "code",
   "execution_count": 58,
   "id": "1892d117-0e1c-41a0-bda0-3a0fe9002aa3",
   "metadata": {},
   "outputs": [
    {
     "name": "stdout",
     "output_type": "stream",
     "text": [
      "The correlation between both factors is 0.79\n"
     ]
    },
    {
     "data": {
      "image/png": "[encoded data removed]",
      "text/plain": [
       "<Figure size 1000x600 with 1 Axes>"
      ]
     },
     "metadata": {},
     "output_type": "display_data"
    }
   ],
   "source": [
    "\n",
    "Combined_data_1=Combined_data_1.drop(Combined_data_1.loc[Combined_data_1['year'] == '2024'].index)\n",
    "Combined_data_1.at[0,'index_percentage_change'] = 0\n",
    "x_values = Combined_data_1['index_percentage_change']\n",
    "y_values = Combined_data_1['Ave']\n",
    "(slope, intercept, rvalue, pvalue, stderr) = linregress(x_values, y_values)\n",
    "regress_values = x_values * slope + intercept\n",
    "line_eq = \"y = \" + str(round(slope,2)) + \"x + \" + str(round(intercept,2))\n",
    "plt.figure(figsize=(10, 6)) \n",
    "correlation = st.pearsonr(x_values,y_values)\n",
    "plt.scatter(x_values,y_values)\n",
    "plt.plot(x_values,regress_values,\"r-\")\n",
    "plt.annotate(line_eq,(5.8,0.8),fontsize=15,color=\"red\")\n",
    "plt.title('The correlation between HPI Infation vs CPI Inflation')\n",
    "plt.xlabel('House Price Index % Growth')\n",
    "plt.ylabel('CPI Inflation')\n",
    "print(f\"The correlation between both factors is {round(correlation[0],2)}\")\n",
    "plt.show()"
   ]
  },
  {
   "cell_type": "code",
   "execution_count": 115,
   "id": "542598ad-b0b8-4d14-8314-bd2e3ff2c89a",
   "metadata": {},
   "outputs": [
    {
     "data": {
      "image/png": "[encoded data removed]",
      "text/plain": [
       "<Figure size 640x480 with 1 Axes>"
      ]
     },
     "metadata": {},
     "output_type": "display_data"
    }
   ],
   "source": [
    "#Line graph for HPI growth and CPI Inflation\n",
    "HPI_CPI_plot=Combined_data_1[[\"year\",\"index_percentage_change\",\"Ave\"]]\n",
    "HPI_CPI_plot=HPI_CPI_plot.set_index('year')\n",
    "plot = HPI_CPI_plot.plot(title=\" HPI Inflation vs CPI Inflation\",marker='o')\n",
    "plt.xlabel('year')\n",
    "plt.ylabel('percentage %')\n",
    "plt.show()\n",
    "HPI_CPI_plot = HPI_CPI_plot.reset_index()"
   ]
  },
  {
   "cell_type": "code",
   "execution_count": 105,
   "id": "aca76d55-e7f7-40c9-83af-3a802c24462a",
   "metadata": {},
   "outputs": [
    {
     "data": {
      "application/vnd.plotly.v1+json": {
       "config": {
        "plotlyServerURL": "https://plot.ly"
       },
       "data": [
        {
         "hovertemplate": "Type=HPI<br>year=%{x}<br>ValuePct=%{y}<extra></extra>",
         "legendgroup": "HPI",
         "line": {
          "color": "#636efa",
          "dash": "solid"
         },
         "marker": {
          "symbol": "circle"
         },
         "mode": "lines",
         "name": "HPI",
         "orientation": "v",
         "showlegend": true,
         "type": "scatter",
         "x": [
          2014,
          2015,
          2016,
          2017,
          2018,
          2019,
          2020,
          2021,
          2022,
          2023
         ],
         "xaxis": "x",
         "y": [
          0,
          4.539258168898419,
          4.61989633008606,
          5.02442223056363,
          5.433503968693976,
          4.906719502265999,
          6.4502615180844325,
          14.895739378443817,
          14.662773998151879,
          5.4436073305625055
         ],
         "yaxis": "y"
        },
        {
         "hovertemplate": "Type=CPI<br>year=%{x}<br>ValuePct=%{y}<extra></extra>",
         "legendgroup": "CPI",
         "line": {
          "color": "#EF553B",
          "dash": "solid"
         },
         "marker": {
          "symbol": "circle"
         },
         "mode": "lines",
         "name": "CPI",
         "orientation": "v",
         "showlegend": true,
         "type": "scatter",
         "x": [
          2014,
          2015,
          2016,
          2017,
          2018,
          2019,
          2020,
          2021,
          2022,
          2023
         ],
         "xaxis": "x",
         "y": [
          1.6,
          0.1,
          1.3,
          2.1,
          2.4,
          1.8,
          1.2,
          4.7,
          8,
          4.1
         ],
         "yaxis": "y"
        }
       ],
       "layout": {
        "autosize": true,
        "legend": {
         "title": {
          "text": "Type"
         },
         "tracegroupgap": 0
        },
        "template": {
         "data": {
          "bar": [
           {
            "error_x": {
             "color": "#2a3f5f"
            },
            "error_y": {
             "color": "#2a3f5f"
            },
            "marker": {
             "line": {
              "color": "#E5ECF6",
              "width": 0.5
             },
             "pattern": {
              "fillmode": "overlay",
              "size": 10,
              "solidity": 0.2
             }
            },
            "type": "bar"
           }
          ],
          "barpolar": [
           {
            "marker": {
             "line": {
              "color": "#E5ECF6",
              "width": 0.5
             },
             "pattern": {
              "fillmode": "overlay",
              "size": 10,
              "solidity": 0.2
             }
            },
            "type": "barpolar"
           }
          ],
          "carpet": [
           {
            "aaxis": {
             "endlinecolor": "#2a3f5f",
             "gridcolor": "white",
             "linecolor": "white",
             "minorgridcolor": "white",
             "startlinecolor": "#2a3f5f"
            },
            "baxis": {
             "endlinecolor": "#2a3f5f",
             "gridcolor": "white",
             "linecolor": "white",
             "minorgridcolor": "white",
             "startlinecolor": "#2a3f5f"
            },
            "type": "carpet"
           }
          ],
          "choropleth": [
           {
            "colorbar": {
             "outlinewidth": 0,
             "ticks": ""
            },
            "type": "choropleth"
           }
          ],
          "contour": [
           {
            "colorbar": {
             "outlinewidth": 0,
             "ticks": ""
            },
            "colorscale": [
             [
              0,
              "#0d0887"
             ],
             [
              0.1111111111111111,
              "#46039f"
             ],
             [
              0.2222222222222222,
              "#7201a8"
             ],
             [
              0.3333333333333333,
              "#9c179e"
             ],
             [
              0.4444444444444444,
              "#bd3786"
             ],
             [
              0.5555555555555556,
              "#d8576b"
             ],
             [
              0.6666666666666666,
              "#ed7953"
             ],
             [
              0.7777777777777778,
              "#fb9f3a"
             ],
             [
              0.8888888888888888,
              "#fdca26"
             ],
             [
              1,
              "#f0f921"
             ]
            ],
            "type": "contour"
           }
          ],
          "contourcarpet": [
           {
            "colorbar": {
             "outlinewidth": 0,
             "ticks": ""
            },
            "type": "contourcarpet"
           }
          ],
          "heatmap": [
           {
            "colorbar": {
             "outlinewidth": 0,
             "ticks": ""
            },
            "colorscale": [
             [
              0,
              "#0d0887"
             ],
             [
              0.1111111111111111,
              "#46039f"
             ],
             [
              0.2222222222222222,
              "#7201a8"
             ],
             [
              0.3333333333333333,
              "#9c179e"
             ],
             [
              0.4444444444444444,
              "#bd3786"
             ],
             [
              0.5555555555555556,
              "#d8576b"
             ],
             [
              0.6666666666666666,
              "#ed7953"
             ],
             [
              0.7777777777777778,
              "#fb9f3a"
             ],
             [
              0.8888888888888888,
              "#fdca26"
             ],
             [
              1,
              "#f0f921"
             ]
            ],
            "type": "heatmap"
           }
          ],
          "heatmapgl": [
           {
            "colorbar": {
             "outlinewidth": 0,
             "ticks": ""
            },
            "colorscale": [
             [
              0,
              "#0d0887"
             ],
             [
              0.1111111111111111,
              "#46039f"
             ],
             [
              0.2222222222222222,
              "#7201a8"
             ],
             [
              0.3333333333333333,
              "#9c179e"
             ],
             [
              0.4444444444444444,
              "#bd3786"
             ],
             [
              0.5555555555555556,
              "#d8576b"
             ],
             [
              0.6666666666666666,
              "#ed7953"
             ],
             [
              0.7777777777777778,
              "#fb9f3a"
             ],
             [
              0.8888888888888888,
              "#fdca26"
             ],
             [
              1,
              "#f0f921"
             ]
            ],
            "type": "heatmapgl"
           }
          ],
          "histogram": [
           {
            "marker": {
             "pattern": {
              "fillmode": "overlay",
              "size": 10,
              "solidity": 0.2
             }
            },
            "type": "histogram"
           }
          ],
          "histogram2d": [
           {
            "colorbar": {
             "outlinewidth": 0,
             "ticks": ""
            },
            "colorscale": [
             [
              0,
              "#0d0887"
             ],
             [
              0.1111111111111111,
              "#46039f"
             ],
             [
              0.2222222222222222,
              "#7201a8"
             ],
             [
              0.3333333333333333,
              "#9c179e"
             ],
             [
              0.4444444444444444,
              "#bd3786"
             ],
             [
              0.5555555555555556,
              "#d8576b"
             ],
             [
              0.6666666666666666,
              "#ed7953"
             ],
             [
              0.7777777777777778,
              "#fb9f3a"
             ],
             [
              0.8888888888888888,
              "#fdca26"
             ],
             [
              1,
              "#f0f921"
             ]
            ],
            "type": "histogram2d"
           }
          ],
          "histogram2dcontour": [
           {
            "colorbar": {
             "outlinewidth": 0,
             "ticks": ""
            },
            "colorscale": [
             [
              0,
              "#0d0887"
             ],
             [
              0.1111111111111111,
              "#46039f"
             ],
             [
              0.2222222222222222,
              "#7201a8"
             ],
             [
              0.3333333333333333,
              "#9c179e"
             ],
             [
              0.4444444444444444,
              "#bd3786"
             ],
             [
              0.5555555555555556,
              "#d8576b"
             ],
             [
              0.6666666666666666,
              "#ed7953"
             ],
             [
              0.7777777777777778,
              "#fb9f3a"
             ],
             [
              0.8888888888888888,
              "#fdca26"
             ],
             [
              1,
              "#f0f921"
             ]
            ],
            "type": "histogram2dcontour"
           }
          ],
          "mesh3d": [
           {
            "colorbar": {
             "outlinewidth": 0,
             "ticks": ""
            },
            "type": "mesh3d"
           }
          ],
          "parcoords": [
           {
            "line": {
             "colorbar": {
              "outlinewidth": 0,
              "ticks": ""
             }
            },
            "type": "parcoords"
           }
          ],
          "pie": [
           {
            "automargin": true,
            "type": "pie"
           }
          ],
          "scatter": [
           {
            "fillpattern": {
             "fillmode": "overlay",
             "size": 10,
             "solidity": 0.2
            },
            "type": "scatter"
           }
          ],
          "scatter3d": [
           {
            "line": {
             "colorbar": {
              "outlinewidth": 0,
              "ticks": ""
             }
            },
            "marker": {
             "colorbar": {
              "outlinewidth": 0,
              "ticks": ""
             }
            },
            "type": "scatter3d"
           }
          ],
          "scattercarpet": [
           {
            "marker": {
             "colorbar": {
              "outlinewidth": 0,
              "ticks": ""
             }
            },
            "type": "scattercarpet"
           }
          ],
          "scattergeo": [
           {
            "marker": {
             "colorbar": {
              "outlinewidth": 0,
              "ticks": ""
             }
            },
            "type": "scattergeo"
           }
          ],
          "scattergl": [
           {
            "marker": {
             "colorbar": {
              "outlinewidth": 0,
              "ticks": ""
             }
            },
            "type": "scattergl"
           }
          ],
          "scattermapbox": [
           {
            "marker": {
             "colorbar": {
              "outlinewidth": 0,
              "ticks": ""
             }
            },
            "type": "scattermapbox"
           }
          ],
          "scatterpolar": [
           {
            "marker": {
             "colorbar": {
              "outlinewidth": 0,
              "ticks": ""
             }
            },
            "type": "scatterpolar"
           }
          ],
          "scatterpolargl": [
           {
            "marker": {
             "colorbar": {
              "outlinewidth": 0,
              "ticks": ""
             }
            },
            "type": "scatterpolargl"
           }
          ],
          "scatterternary": [
           {
            "marker": {
             "colorbar": {
              "outlinewidth": 0,
              "ticks": ""
             }
            },
            "type": "scatterternary"
           }
          ],
          "surface": [
           {
            "colorbar": {
             "outlinewidth": 0,
             "ticks": ""
            },
            "colorscale": [
             [
              0,
              "#0d0887"
             ],
             [
              0.1111111111111111,
              "#46039f"
             ],
             [
              0.2222222222222222,
              "#7201a8"
             ],
             [
              0.3333333333333333,
              "#9c179e"
             ],
             [
              0.4444444444444444,
              "#bd3786"
             ],
             [
              0.5555555555555556,
              "#d8576b"
             ],
             [
              0.6666666666666666,
              "#ed7953"
             ],
             [
              0.7777777777777778,
              "#fb9f3a"
             ],
             [
              0.8888888888888888,
              "#fdca26"
             ],
             [
              1,
              "#f0f921"
             ]
            ],
            "type": "surface"
           }
          ],
          "table": [
           {
            "cells": {
             "fill": {
              "color": "#EBF0F8"
             },
             "line": {
              "color": "white"
             }
            },
            "header": {
             "fill": {
              "color": "#C8D4E3"
             },
             "line": {
              "color": "white"
             }
            },
            "type": "table"
           }
          ]
         },
         "layout": {
          "annotationdefaults": {
           "arrowcolor": "#2a3f5f",
           "arrowhead": 0,
           "arrowwidth": 1
          },
          "autotypenumbers": "strict",
          "coloraxis": {
           "colorbar": {
            "outlinewidth": 0,
            "ticks": ""
           }
          },
          "colorscale": {
           "diverging": [
            [
             0,
             "#8e0152"
            ],
            [
             0.1,
             "#c51b7d"
            ],
            [
             0.2,
             "#de77ae"
            ],
            [
             0.3,
             "#f1b6da"
            ],
            [
             0.4,
             "#fde0ef"
            ],
            [
             0.5,
             "#f7f7f7"
            ],
            [
             0.6,
             "#e6f5d0"
            ],
            [
             0.7,
             "#b8e186"
            ],
            [
             0.8,
             "#7fbc41"
            ],
            [
             0.9,
             "#4d9221"
            ],
            [
             1,
             "#276419"
            ]
           ],
           "sequential": [
            [
             0,
             "#0d0887"
            ],
            [
             0.1111111111111111,
             "#46039f"
            ],
            [
             0.2222222222222222,
             "#7201a8"
            ],
            [
             0.3333333333333333,
             "#9c179e"
            ],
            [
             0.4444444444444444,
             "#bd3786"
            ],
            [
             0.5555555555555556,
             "#d8576b"
            ],
            [
             0.6666666666666666,
             "#ed7953"
            ],
            [
             0.7777777777777778,
             "#fb9f3a"
            ],
            [
             0.8888888888888888,
             "#fdca26"
            ],
            [
             1,
             "#f0f921"
            ]
           ],
           "sequentialminus": [
            [
             0,
             "#0d0887"
            ],
            [
             0.1111111111111111,
             "#46039f"
            ],
            [
             0.2222222222222222,
             "#7201a8"
            ],
            [
             0.3333333333333333,
             "#9c179e"
            ],
            [
             0.4444444444444444,
             "#bd3786"
            ],
            [
             0.5555555555555556,
             "#d8576b"
            ],
            [
             0.6666666666666666,
             "#ed7953"
            ],
            [
             0.7777777777777778,
             "#fb9f3a"
            ],
            [
             0.8888888888888888,
             "#fdca26"
            ],
            [
             1,
             "#f0f921"
            ]
           ]
          },
          "colorway": [
           "#636efa",
           "#EF553B",
           "#00cc96",
           "#ab63fa",
           "#FFA15A",
           "#19d3f3",
           "#FF6692",
           "#B6E880",
           "#FF97FF",
           "#FECB52"
          ],
          "font": {
           "color": "#2a3f5f"
          },
          "geo": {
           "bgcolor": "white",
           "lakecolor": "white",
           "landcolor": "#E5ECF6",
           "showlakes": true,
           "showland": true,
           "subunitcolor": "white"
          },
          "hoverlabel": {
           "align": "left"
          },
          "hovermode": "closest",
          "mapbox": {
           "style": "light"
          },
          "paper_bgcolor": "white",
          "plot_bgcolor": "#E5ECF6",
          "polar": {
           "angularaxis": {
            "gridcolor": "white",
            "linecolor": "white",
            "ticks": ""
           },
           "bgcolor": "#E5ECF6",
           "radialaxis": {
            "gridcolor": "white",
            "linecolor": "white",
            "ticks": ""
           }
          },
          "scene": {
           "xaxis": {
            "backgroundcolor": "#E5ECF6",
            "gridcolor": "white",
            "gridwidth": 2,
            "linecolor": "white",
            "showbackground": true,
            "ticks": "",
            "zerolinecolor": "white"
           },
           "yaxis": {
            "backgroundcolor": "#E5ECF6",
            "gridcolor": "white",
            "gridwidth": 2,
            "linecolor": "white",
            "showbackground": true,
            "ticks": "",
            "zerolinecolor": "white"
           },
           "zaxis": {
            "backgroundcolor": "#E5ECF6",
            "gridcolor": "white",
            "gridwidth": 2,
            "linecolor": "white",
            "showbackground": true,
            "ticks": "",
            "zerolinecolor": "white"
           }
          },
          "shapedefaults": {
           "line": {
            "color": "#2a3f5f"
           }
          },
          "ternary": {
           "aaxis": {
            "gridcolor": "white",
            "linecolor": "white",
            "ticks": ""
           },
           "baxis": {
            "gridcolor": "white",
            "linecolor": "white",
            "ticks": ""
           },
           "bgcolor": "#E5ECF6",
           "caxis": {
            "gridcolor": "white",
            "linecolor": "white",
            "ticks": ""
           }
          },
          "title": {
           "x": 0.05
          },
          "xaxis": {
           "automargin": true,
           "gridcolor": "white",
           "linecolor": "white",
           "ticks": "",
           "title": {
            "standoff": 15
           },
           "zerolinecolor": "white",
           "zerolinewidth": 2
          },
          "yaxis": {
           "automargin": true,
           "gridcolor": "white",
           "linecolor": "white",
           "ticks": "",
           "title": {
            "standoff": 15
           },
           "zerolinecolor": "white",
           "zerolinewidth": 2
          }
         }
        },
        "title": {
         "text": "HPI Inflation VS CPI Inflation"
        },
        "xaxis": {
         "anchor": "y",
         "autorange": true,
         "domain": [
          0,
          1
         ],
         "range": [
          2014,
          2023
         ],
         "title": {
          "text": "year"
         },
         "type": "linear"
        },
        "yaxis": {
         "anchor": "x",
         "autorange": true,
         "domain": [
          0,
          1
         ],
         "range": [
          -0.827541076580212,
          15.72328045502403
         ],
         "title": {
          "text": "ValuePct"
         },
         "type": "linear"
        }
       }
      },
      "image/png": "[encoded data removed]",
      "text/html": [
       "<div>                            <div id=\"59bf9833-6252-4201-947a-9c385bc2e496\" class=\"plotly-graph-div\" style=\"height:525px; width:100%;\"></div>            <script type=\"text/javascript\">                require([\"plotly\"], function(Plotly) {                    window.PLOTLYENV=window.PLOTLYENV || {};                                    if (document.getElementById(\"59bf9833-6252-4201-947a-9c385bc2e496\")) {                    Plotly.newPlot(                        \"59bf9833-6252-4201-947a-9c385bc2e496\",                        [{\"hovertemplate\":\"Type=HPI\\u003cbr\\u003eyear=%{x}\\u003cbr\\u003eValuePct=%{y}\\u003cextra\\u003e\\u003c\\u002fextra\\u003e\",\"legendgroup\":\"HPI\",\"line\":{\"color\":\"#636efa\",\"dash\":\"solid\"},\"marker\":{\"symbol\":\"circle\"},\"mode\":\"lines\",\"name\":\"HPI\",\"orientation\":\"v\",\"showlegend\":true,\"x\":[2014,2015,2016,2017,2018,2019,2020,2021,2022,2023],\"xaxis\":\"x\",\"y\":[0.0,4.539258168898419,4.61989633008606,5.02442223056363,5.433503968693976,4.906719502265999,6.4502615180844325,14.895739378443817,14.662773998151879,5.4436073305625055],\"yaxis\":\"y\",\"type\":\"scatter\"},{\"hovertemplate\":\"Type=CPI\\u003cbr\\u003eyear=%{x}\\u003cbr\\u003eValuePct=%{y}\\u003cextra\\u003e\\u003c\\u002fextra\\u003e\",\"legendgroup\":\"CPI\",\"line\":{\"color\":\"#EF553B\",\"dash\":\"solid\"},\"marker\":{\"symbol\":\"circle\"},\"mode\":\"lines\",\"name\":\"CPI\",\"orientation\":\"v\",\"showlegend\":true,\"x\":[2014,2015,2016,2017,2018,2019,2020,2021,2022,2023],\"xaxis\":\"x\",\"y\":[1.6,0.1,1.3,2.1,2.4,1.8,1.2,4.7,8.0,4.1],\"yaxis\":\"y\",\"type\":\"scatter\"}],                        {\"template\":{\"data\":{\"histogram2dcontour\":[{\"type\":\"histogram2dcontour\",\"colorbar\":{\"outlinewidth\":0,\"ticks\":\"\"},\"colorscale\":[[0.0,\"#0d0887\"],[0.1111111111111111,\"#46039f\"],[0.2222222222222222,\"#7201a8\"],[0.3333333333333333,\"#9c179e\"],[0.4444444444444444,\"#bd3786\"],[0.5555555555555556,\"#d8576b\"],[0.6666666666666666,\"#ed7953\"],[0.7777777777777778,\"#fb9f3a\"],[0.8888888888888888,\"#fdca26\"],[1.0,\"#f0f921\"]]}],\"choropleth\":[{\"type\":\"choropleth\",\"colorbar\":{\"outlinewidth\":0,\"ticks\":\"\"}}],\"histogram2d\":[{\"type\":\"histogram2d\",\"colorbar\":{\"outlinewidth\":0,\"ticks\":\"\"},\"colorscale\":[[0.0,\"#0d0887\"],[0.1111111111111111,\"#46039f\"],[0.2222222222222222,\"#7201a8\"],[0.3333333333333333,\"#9c179e\"],[0.4444444444444444,\"#bd3786\"],[0.5555555555555556,\"#d8576b\"],[0.6666666666666666,\"#ed7953\"],[0.7777777777777778,\"#fb9f3a\"],[0.8888888888888888,\"#fdca26\"],[1.0,\"#f0f921\"]]}],\"heatmap\":[{\"type\":\"heatmap\",\"colorbar\":{\"outlinewidth\":0,\"ticks\":\"\"},\"colorscale\":[[0.0,\"#0d0887\"],[0.1111111111111111,\"#46039f\"],[0.2222222222222222,\"#7201a8\"],[0.3333333333333333,\"#9c179e\"],[0.4444444444444444,\"#bd3786\"],[0.5555555555555556,\"#d8576b\"],[0.6666666666666666,\"#ed7953\"],[0.7777777777777778,\"#fb9f3a\"],[0.8888888888888888,\"#fdca26\"],[1.0,\"#f0f921\"]]}],\"heatmapgl\":[{\"type\":\"heatmapgl\",\"colorbar\":{\"outlinewidth\":0,\"ticks\":\"\"},\"colorscale\":[[0.0,\"#0d0887\"],[0.1111111111111111,\"#46039f\"],[0.2222222222222222,\"#7201a8\"],[0.3333333333333333,\"#9c179e\"],[0.4444444444444444,\"#bd3786\"],[0.5555555555555556,\"#d8576b\"],[0.6666666666666666,\"#ed7953\"],[0.7777777777777778,\"#fb9f3a\"],[0.8888888888888888,\"#fdca26\"],[1.0,\"#f0f921\"]]}],\"contourcarpet\":[{\"type\":\"contourcarpet\",\"colorbar\":{\"outlinewidth\":0,\"ticks\":\"\"}}],\"contour\":[{\"type\":\"contour\",\"colorbar\":{\"outlinewidth\":0,\"ticks\":\"\"},\"colorscale\":[[0.0,\"#0d0887\"],[0.1111111111111111,\"#46039f\"],[0.2222222222222222,\"#7201a8\"],[0.3333333333333333,\"#9c179e\"],[0.4444444444444444,\"#bd3786\"],[0.5555555555555556,\"#d8576b\"],[0.6666666666666666,\"#ed7953\"],[0.7777777777777778,\"#fb9f3a\"],[0.8888888888888888,\"#fdca26\"],[1.0,\"#f0f921\"]]}],\"surface\":[{\"type\":\"surface\",\"colorbar\":{\"outlinewidth\":0,\"ticks\":\"\"},\"colorscale\":[[0.0,\"#0d0887\"],[0.1111111111111111,\"#46039f\"],[0.2222222222222222,\"#7201a8\"],[0.3333333333333333,\"#9c179e\"],[0.4444444444444444,\"#bd3786\"],[0.5555555555555556,\"#d8576b\"],[0.6666666666666666,\"#ed7953\"],[0.7777777777777778,\"#fb9f3a\"],[0.8888888888888888,\"#fdca26\"],[1.0,\"#f0f921\"]]}],\"mesh3d\":[{\"type\":\"mesh3d\",\"colorbar\":{\"outlinewidth\":0,\"ticks\":\"\"}}],\"scatter\":[{\"fillpattern\":{\"fillmode\":\"overlay\",\"size\":10,\"solidity\":0.2},\"type\":\"scatter\"}],\"parcoords\":[{\"type\":\"parcoords\",\"line\":{\"colorbar\":{\"outlinewidth\":0,\"ticks\":\"\"}}}],\"scatterpolargl\":[{\"type\":\"scatterpolargl\",\"marker\":{\"colorbar\":{\"outlinewidth\":0,\"ticks\":\"\"}}}],\"bar\":[{\"error_x\":{\"color\":\"#2a3f5f\"},\"error_y\":{\"color\":\"#2a3f5f\"},\"marker\":{\"line\":{\"color\":\"#E5ECF6\",\"width\":0.5},\"pattern\":{\"fillmode\":\"overlay\",\"size\":10,\"solidity\":0.2}},\"type\":\"bar\"}],\"scattergeo\":[{\"type\":\"scattergeo\",\"marker\":{\"colorbar\":{\"outlinewidth\":0,\"ticks\":\"\"}}}],\"scatterpolar\":[{\"type\":\"scatterpolar\",\"marker\":{\"colorbar\":{\"outlinewidth\":0,\"ticks\":\"\"}}}],\"histogram\":[{\"marker\":{\"pattern\":{\"fillmode\":\"overlay\",\"size\":10,\"solidity\":0.2}},\"type\":\"histogram\"}],\"scattergl\":[{\"type\":\"scattergl\",\"marker\":{\"colorbar\":{\"outlinewidth\":0,\"ticks\":\"\"}}}],\"scatter3d\":[{\"type\":\"scatter3d\",\"line\":{\"colorbar\":{\"outlinewidth\":0,\"ticks\":\"\"}},\"marker\":{\"colorbar\":{\"outlinewidth\":0,\"ticks\":\"\"}}}],\"scattermapbox\":[{\"type\":\"scattermapbox\",\"marker\":{\"colorbar\":{\"outlinewidth\":0,\"ticks\":\"\"}}}],\"scatterternary\":[{\"type\":\"scatterternary\",\"marker\":{\"colorbar\":{\"outlinewidth\":0,\"ticks\":\"\"}}}],\"scattercarpet\":[{\"type\":\"scattercarpet\",\"marker\":{\"colorbar\":{\"outlinewidth\":0,\"ticks\":\"\"}}}],\"carpet\":[{\"aaxis\":{\"endlinecolor\":\"#2a3f5f\",\"gridcolor\":\"white\",\"linecolor\":\"white\",\"minorgridcolor\":\"white\",\"startlinecolor\":\"#2a3f5f\"},\"baxis\":{\"endlinecolor\":\"#2a3f5f\",\"gridcolor\":\"white\",\"linecolor\":\"white\",\"minorgridcolor\":\"white\",\"startlinecolor\":\"#2a3f5f\"},\"type\":\"carpet\"}],\"table\":[{\"cells\":{\"fill\":{\"color\":\"#EBF0F8\"},\"line\":{\"color\":\"white\"}},\"header\":{\"fill\":{\"color\":\"#C8D4E3\"},\"line\":{\"color\":\"white\"}},\"type\":\"table\"}],\"barpolar\":[{\"marker\":{\"line\":{\"color\":\"#E5ECF6\",\"width\":0.5},\"pattern\":{\"fillmode\":\"overlay\",\"size\":10,\"solidity\":0.2}},\"type\":\"barpolar\"}],\"pie\":[{\"automargin\":true,\"type\":\"pie\"}]},\"layout\":{\"autotypenumbers\":\"strict\",\"colorway\":[\"#636efa\",\"#EF553B\",\"#00cc96\",\"#ab63fa\",\"#FFA15A\",\"#19d3f3\",\"#FF6692\",\"#B6E880\",\"#FF97FF\",\"#FECB52\"],\"font\":{\"color\":\"#2a3f5f\"},\"hovermode\":\"closest\",\"hoverlabel\":{\"align\":\"left\"},\"paper_bgcolor\":\"white\",\"plot_bgcolor\":\"#E5ECF6\",\"polar\":{\"bgcolor\":\"#E5ECF6\",\"angularaxis\":{\"gridcolor\":\"white\",\"linecolor\":\"white\",\"ticks\":\"\"},\"radialaxis\":{\"gridcolor\":\"white\",\"linecolor\":\"white\",\"ticks\":\"\"}},\"ternary\":{\"bgcolor\":\"#E5ECF6\",\"aaxis\":{\"gridcolor\":\"white\",\"linecolor\":\"white\",\"ticks\":\"\"},\"baxis\":{\"gridcolor\":\"white\",\"linecolor\":\"white\",\"ticks\":\"\"},\"caxis\":{\"gridcolor\":\"white\",\"linecolor\":\"white\",\"ticks\":\"\"}},\"coloraxis\":{\"colorbar\":{\"outlinewidth\":0,\"ticks\":\"\"}},\"colorscale\":{\"sequential\":[[0.0,\"#0d0887\"],[0.1111111111111111,\"#46039f\"],[0.2222222222222222,\"#7201a8\"],[0.3333333333333333,\"#9c179e\"],[0.4444444444444444,\"#bd3786\"],[0.5555555555555556,\"#d8576b\"],[0.6666666666666666,\"#ed7953\"],[0.7777777777777778,\"#fb9f3a\"],[0.8888888888888888,\"#fdca26\"],[1.0,\"#f0f921\"]],\"sequentialminus\":[[0.0,\"#0d0887\"],[0.1111111111111111,\"#46039f\"],[0.2222222222222222,\"#7201a8\"],[0.3333333333333333,\"#9c179e\"],[0.4444444444444444,\"#bd3786\"],[0.5555555555555556,\"#d8576b\"],[0.6666666666666666,\"#ed7953\"],[0.7777777777777778,\"#fb9f3a\"],[0.8888888888888888,\"#fdca26\"],[1.0,\"#f0f921\"]],\"diverging\":[[0,\"#8e0152\"],[0.1,\"#c51b7d\"],[0.2,\"#de77ae\"],[0.3,\"#f1b6da\"],[0.4,\"#fde0ef\"],[0.5,\"#f7f7f7\"],[0.6,\"#e6f5d0\"],[0.7,\"#b8e186\"],[0.8,\"#7fbc41\"],[0.9,\"#4d9221\"],[1,\"#276419\"]]},\"xaxis\":{\"gridcolor\":\"white\",\"linecolor\":\"white\",\"ticks\":\"\",\"title\":{\"standoff\":15},\"zerolinecolor\":\"white\",\"automargin\":true,\"zerolinewidth\":2},\"yaxis\":{\"gridcolor\":\"white\",\"linecolor\":\"white\",\"ticks\":\"\",\"title\":{\"standoff\":15},\"zerolinecolor\":\"white\",\"automargin\":true,\"zerolinewidth\":2},\"scene\":{\"xaxis\":{\"backgroundcolor\":\"#E5ECF6\",\"gridcolor\":\"white\",\"linecolor\":\"white\",\"showbackground\":true,\"ticks\":\"\",\"zerolinecolor\":\"white\",\"gridwidth\":2},\"yaxis\":{\"backgroundcolor\":\"#E5ECF6\",\"gridcolor\":\"white\",\"linecolor\":\"white\",\"showbackground\":true,\"ticks\":\"\",\"zerolinecolor\":\"white\",\"gridwidth\":2},\"zaxis\":{\"backgroundcolor\":\"#E5ECF6\",\"gridcolor\":\"white\",\"linecolor\":\"white\",\"showbackground\":true,\"ticks\":\"\",\"zerolinecolor\":\"white\",\"gridwidth\":2}},\"shapedefaults\":{\"line\":{\"color\":\"#2a3f5f\"}},\"annotationdefaults\":{\"arrowcolor\":\"#2a3f5f\",\"arrowhead\":0,\"arrowwidth\":1},\"geo\":{\"bgcolor\":\"white\",\"landcolor\":\"#E5ECF6\",\"subunitcolor\":\"white\",\"showland\":true,\"showlakes\":true,\"lakecolor\":\"white\"},\"title\":{\"x\":0.05},\"mapbox\":{\"style\":\"light\"}}},\"xaxis\":{\"anchor\":\"y\",\"domain\":[0.0,1.0],\"title\":{\"text\":\"year\"}},\"yaxis\":{\"anchor\":\"x\",\"domain\":[0.0,1.0],\"title\":{\"text\":\"ValuePct\"}},\"legend\":{\"title\":{\"text\":\"Type\"},\"tracegroupgap\":0},\"title\":{\"text\":\"HPI Inflation VS CPI Inflation\"}},                        {\"responsive\": true}                    ).then(function(){\n",
       "                            \n",
       "var gd = document.getElementById('59bf9833-6252-4201-947a-9c385bc2e496');\n",
       "var x = new MutationObserver(function (mutations, observer) {{\n",
       "        var display = window.getComputedStyle(gd).display;\n",
       "        if (!display || display === 'none') {{\n",
       "            console.log([gd, 'removed!']);\n",
       "            Plotly.purge(gd);\n",
       "            observer.disconnect();\n",
       "        }}\n",
       "}});\n",
       "\n",
       "// Listen for the removal of the full notebook cells\n",
       "var notebookContainer = gd.closest('#notebook-container');\n",
       "if (notebookContainer) {{\n",
       "    x.observe(notebookContainer, {childList: true});\n",
       "}}\n",
       "\n",
       "// Listen for the clearing of the current output cell\n",
       "var outputEl = gd.closest('.output');\n",
       "if (outputEl) {{\n",
       "    x.observe(outputEl, {childList: true});\n",
       "}}\n",
       "\n",
       "                        })                };                });            </script>        </div>"
      ]
     },
     "metadata": {},
     "output_type": "display_data"
    }
   ],
   "source": [
    "import plotly.express as px\n",
    "\n",
    "HPI_CPI_plot = HPI_CPI_plot.rename(columns={\"index_percentage_change\": \"HPI\", \"Ave\": \"CPI\"})\n",
    "HPI_CPI_plot_piv = pd.melt(HPI_CPI_plot, \n",
    "            id_vars= 'year', \n",
    "            value_vars=list(HPI_CPI_plot.columns[1:]), \n",
    "            var_name= 'Type', \n",
    "            value_name= 'ValuePct')\n",
    "                          \n",
    "                          \n",
    "HPI_CPI_plot_piv\n",
    "fig = px.line(HPI_CPI_plot_piv, x=\"year\", y=\"ValuePct\", color='Type', title = 'HPI Inflation VS CPI Inflation')\n",
    "fig.show()"
   ]
  },
  {
   "cell_type": "code",
   "execution_count": 89,
   "id": "4a51b4b7-75f4-4650-a75c-d0cfa8f5dd28",
   "metadata": {},
   "outputs": [
    {
     "data": {
      "text/html": [
       "<div>\n",
       "<style scoped>\n",
       "    .dataframe tbody tr th:only-of-type {\n",
       "        vertical-align: middle;\n",
       "    }\n",
       "\n",
       "    .dataframe tbody tr th {\n",
       "        vertical-align: top;\n",
       "    }\n",
       "\n",
       "    .dataframe thead th {\n",
       "        text-align: right;\n",
       "    }\n",
       "</style>\n",
       "<table border=\"1\" class=\"dataframe\">\n",
       "  <thead>\n",
       "    <tr style=\"text-align: right;\">\n",
       "      <th></th>\n",
       "      <th>year</th>\n",
       "      <th>index_nsa</th>\n",
       "      <th>index_percentage_change</th>\n",
       "      <th>mortgage_rate</th>\n",
       "    </tr>\n",
       "  </thead>\n",
       "  <tbody>\n",
       "    <tr>\n",
       "      <th>0</th>\n",
       "      <td>2014</td>\n",
       "      <td>243.368493</td>\n",
       "      <td>NaN</td>\n",
       "      <td>4.021905</td>\n",
       "    </tr>\n",
       "    <tr>\n",
       "      <th>1</th>\n",
       "      <td>2015</td>\n",
       "      <td>254.415617</td>\n",
       "      <td>4.539258</td>\n",
       "      <td>3.850577</td>\n",
       "    </tr>\n",
       "    <tr>\n",
       "      <th>2</th>\n",
       "      <td>2016</td>\n",
       "      <td>266.169355</td>\n",
       "      <td>4.619896</td>\n",
       "      <td>3.654038</td>\n",
       "    </tr>\n",
       "    <tr>\n",
       "      <th>3</th>\n",
       "      <td>2017</td>\n",
       "      <td>279.542827</td>\n",
       "      <td>5.024422</td>\n",
       "      <td>3.989808</td>\n",
       "    </tr>\n",
       "    <tr>\n",
       "      <th>4</th>\n",
       "      <td>2018</td>\n",
       "      <td>294.731797</td>\n",
       "      <td>5.433504</td>\n",
       "      <td>4.544615</td>\n",
       "    </tr>\n",
       "    <tr>\n",
       "      <th>5</th>\n",
       "      <td>2019</td>\n",
       "      <td>309.193460</td>\n",
       "      <td>4.906720</td>\n",
       "      <td>3.935769</td>\n",
       "    </tr>\n",
       "    <tr>\n",
       "      <th>6</th>\n",
       "      <td>2020</td>\n",
       "      <td>329.137247</td>\n",
       "      <td>6.450262</td>\n",
       "      <td>3.111698</td>\n",
       "    </tr>\n",
       "    <tr>\n",
       "      <th>7</th>\n",
       "      <td>2021</td>\n",
       "      <td>378.164673</td>\n",
       "      <td>14.895739</td>\n",
       "      <td>2.957692</td>\n",
       "    </tr>\n",
       "    <tr>\n",
       "      <th>8</th>\n",
       "      <td>2022</td>\n",
       "      <td>433.614105</td>\n",
       "      <td>14.662774</td>\n",
       "      <td>5.344038</td>\n",
       "    </tr>\n",
       "    <tr>\n",
       "      <th>9</th>\n",
       "      <td>2023</td>\n",
       "      <td>457.218354</td>\n",
       "      <td>5.443607</td>\n",
       "      <td>6.806731</td>\n",
       "    </tr>\n",
       "    <tr>\n",
       "      <th>10</th>\n",
       "      <td>2024</td>\n",
       "      <td>470.383268</td>\n",
       "      <td>2.879349</td>\n",
       "      <td>6.851875</td>\n",
       "    </tr>\n",
       "  </tbody>\n",
       "</table>\n",
       "</div>"
      ],
      "text/plain": [
       "    year   index_nsa  index_percentage_change  mortgage_rate\n",
       "0   2014  243.368493                      NaN       4.021905\n",
       "1   2015  254.415617                 4.539258       3.850577\n",
       "2   2016  266.169355                 4.619896       3.654038\n",
       "3   2017  279.542827                 5.024422       3.989808\n",
       "4   2018  294.731797                 5.433504       4.544615\n",
       "5   2019  309.193460                 4.906720       3.935769\n",
       "6   2020  329.137247                 6.450262       3.111698\n",
       "7   2021  378.164673                14.895739       2.957692\n",
       "8   2022  433.614105                14.662774       5.344038\n",
       "9   2023  457.218354                 5.443607       6.806731\n",
       "10  2024  470.383268                 2.879349       6.851875"
      ]
     },
     "execution_count": 89,
     "metadata": {},
     "output_type": "execute_result"
    }
   ],
   "source": [
    "# File to Load \n",
    "mortgage_rate_to_load=\"Resources/MORTgage_rate.csv\"\n",
    "\n",
    "# Read School and Student Data File and store into Pandas DataFrames\n",
    "mortgage_rate_df = pd.read_csv(mortgage_rate_to_load)\n",
    "yr_mortgage_rate_df =  mortgage_rate_df.groupby(['year'],as_index=False)['mortgage_rate'].mean()\n",
    "Combined_data_2 = yr_house_price_df_plot1.merge(yr_mortgage_rate_df, on='year', how='left')\n",
    "Combined_data_2\n",
    "#yr_mortgage_rate_df.head(22)\n",
    "#mortgage_rate_df.head()"
   ]
  },
  {
   "cell_type": "code",
   "execution_count": 114,
   "id": "ca6c0ee3-46ce-4660-9dec-ee5aaad41f2b",
   "metadata": {},
   "outputs": [
    {
     "data": {
      "application/vnd.plotly.v1+json": {
       "config": {
        "plotlyServerURL": "https://plot.ly"
       },
       "data": [
        {
         "hovertemplate": "Type=Mortgage Rate<br>year=%{x}<br>ValuePct=%{y}<extra></extra>",
         "legendgroup": "Mortgage Rate",
         "line": {
          "color": "#636efa",
          "dash": "solid"
         },
         "marker": {
          "symbol": "circle"
         },
         "mode": "lines",
         "name": "Mortgage Rate",
         "orientation": "v",
         "showlegend": true,
         "type": "scatter",
         "x": [
          2014,
          2015,
          2016,
          2017,
          2018,
          2019,
          2020,
          2021,
          2022,
          2023,
          2024
         ],
         "xaxis": "x",
         "y": [
          4.021904761904762,
          3.8505769230769227,
          3.6540384615384616,
          3.9898076923076924,
          4.544615384615384,
          3.935769230769231,
          3.111698113207547,
          2.957692307692308,
          5.344038461538461,
          6.806730769230769,
          6.851875
         ],
         "yaxis": "y"
        },
        {
         "hovertemplate": "Type=HPI<br>year=%{x}<br>ValuePct=%{y}<extra></extra>",
         "legendgroup": "HPI",
         "line": {
          "color": "#EF553B",
          "dash": "solid"
         },
         "marker": {
          "symbol": "circle"
         },
         "mode": "lines",
         "name": "HPI",
         "orientation": "v",
         "showlegend": true,
         "type": "scatter",
         "x": [
          2014,
          2015,
          2016,
          2017,
          2018,
          2019,
          2020,
          2021,
          2022,
          2023,
          2024
         ],
         "xaxis": "x",
         "y": [
          0,
          4.539258168898419,
          4.61989633008606,
          5.02442223056363,
          5.433503968693976,
          4.906719502265999,
          6.4502615180844325,
          14.895739378443817,
          14.662773998151879,
          5.4436073305625055,
          null
         ],
         "yaxis": "y"
        },
        {
         "hovertemplate": "Type=CPI<br>year=%{x}<br>ValuePct=%{y}<extra></extra>",
         "legendgroup": "CPI",
         "line": {
          "color": "#00cc96",
          "dash": "solid"
         },
         "marker": {
          "symbol": "circle"
         },
         "mode": "lines",
         "name": "CPI",
         "orientation": "v",
         "showlegend": true,
         "type": "scatter",
         "x": [
          2014,
          2015,
          2016,
          2017,
          2018,
          2019,
          2020,
          2021,
          2022,
          2023,
          2024
         ],
         "xaxis": "x",
         "y": [
          1.6,
          0.1,
          1.3,
          2.1,
          2.4,
          1.8,
          1.2,
          4.7,
          8,
          4.1,
          null
         ],
         "yaxis": "y"
        }
       ],
       "layout": {
        "autosize": true,
        "legend": {
         "title": {
          "text": "Type"
         },
         "tracegroupgap": 0
        },
        "template": {
         "data": {
          "bar": [
           {
            "error_x": {
             "color": "#2a3f5f"
            },
            "error_y": {
             "color": "#2a3f5f"
            },
            "marker": {
             "line": {
              "color": "#E5ECF6",
              "width": 0.5
             },
             "pattern": {
              "fillmode": "overlay",
              "size": 10,
              "solidity": 0.2
             }
            },
            "type": "bar"
           }
          ],
          "barpolar": [
           {
            "marker": {
             "line": {
              "color": "#E5ECF6",
              "width": 0.5
             },
             "pattern": {
              "fillmode": "overlay",
              "size": 10,
              "solidity": 0.2
             }
            },
            "type": "barpolar"
           }
          ],
          "carpet": [
           {
            "aaxis": {
             "endlinecolor": "#2a3f5f",
             "gridcolor": "white",
             "linecolor": "white",
             "minorgridcolor": "white",
             "startlinecolor": "#2a3f5f"
            },
            "baxis": {
             "endlinecolor": "#2a3f5f",
             "gridcolor": "white",
             "linecolor": "white",
             "minorgridcolor": "white",
             "startlinecolor": "#2a3f5f"
            },
            "type": "carpet"
           }
          ],
          "choropleth": [
           {
            "colorbar": {
             "outlinewidth": 0,
             "ticks": ""
            },
            "type": "choropleth"
           }
          ],
          "contour": [
           {
            "colorbar": {
             "outlinewidth": 0,
             "ticks": ""
            },
            "colorscale": [
             [
              0,
              "#0d0887"
             ],
             [
              0.1111111111111111,
              "#46039f"
             ],
             [
              0.2222222222222222,
              "#7201a8"
             ],
             [
              0.3333333333333333,
              "#9c179e"
             ],
             [
              0.4444444444444444,
              "#bd3786"
             ],
             [
              0.5555555555555556,
              "#d8576b"
             ],
             [
              0.6666666666666666,
              "#ed7953"
             ],
             [
              0.7777777777777778,
              "#fb9f3a"
             ],
             [
              0.8888888888888888,
              "#fdca26"
             ],
             [
              1,
              "#f0f921"
             ]
            ],
            "type": "contour"
           }
          ],
          "contourcarpet": [
           {
            "colorbar": {
             "outlinewidth": 0,
             "ticks": ""
            },
            "type": "contourcarpet"
           }
          ],
          "heatmap": [
           {
            "colorbar": {
             "outlinewidth": 0,
             "ticks": ""
            },
            "colorscale": [
             [
              0,
              "#0d0887"
             ],
             [
              0.1111111111111111,
              "#46039f"
             ],
             [
              0.2222222222222222,
              "#7201a8"
             ],
             [
              0.3333333333333333,
              "#9c179e"
             ],
             [
              0.4444444444444444,
              "#bd3786"
             ],
             [
              0.5555555555555556,
              "#d8576b"
             ],
             [
              0.6666666666666666,
              "#ed7953"
             ],
             [
              0.7777777777777778,
              "#fb9f3a"
             ],
             [
              0.8888888888888888,
              "#fdca26"
             ],
             [
              1,
              "#f0f921"
             ]
            ],
            "type": "heatmap"
           }
          ],
          "heatmapgl": [
           {
            "colorbar": {
             "outlinewidth": 0,
             "ticks": ""
            },
            "colorscale": [
             [
              0,
              "#0d0887"
             ],
             [
              0.1111111111111111,
              "#46039f"
             ],
             [
              0.2222222222222222,
              "#7201a8"
             ],
             [
              0.3333333333333333,
              "#9c179e"
             ],
             [
              0.4444444444444444,
              "#bd3786"
             ],
             [
              0.5555555555555556,
              "#d8576b"
             ],
             [
              0.6666666666666666,
              "#ed7953"
             ],
             [
              0.7777777777777778,
              "#fb9f3a"
             ],
             [
              0.8888888888888888,
              "#fdca26"
             ],
             [
              1,
              "#f0f921"
             ]
            ],
            "type": "heatmapgl"
           }
          ],
          "histogram": [
           {
            "marker": {
             "pattern": {
              "fillmode": "overlay",
              "size": 10,
              "solidity": 0.2
             }
            },
            "type": "histogram"
           }
          ],
          "histogram2d": [
           {
            "colorbar": {
             "outlinewidth": 0,
             "ticks": ""
            },
            "colorscale": [
             [
              0,
              "#0d0887"
             ],
             [
              0.1111111111111111,
              "#46039f"
             ],
             [
              0.2222222222222222,
              "#7201a8"
             ],
             [
              0.3333333333333333,
              "#9c179e"
             ],
             [
              0.4444444444444444,
              "#bd3786"
             ],
             [
              0.5555555555555556,
              "#d8576b"
             ],
             [
              0.6666666666666666,
              "#ed7953"
             ],
             [
              0.7777777777777778,
              "#fb9f3a"
             ],
             [
              0.8888888888888888,
              "#fdca26"
             ],
             [
              1,
              "#f0f921"
             ]
            ],
            "type": "histogram2d"
           }
          ],
          "histogram2dcontour": [
           {
            "colorbar": {
             "outlinewidth": 0,
             "ticks": ""
            },
            "colorscale": [
             [
              0,
              "#0d0887"
             ],
             [
              0.1111111111111111,
              "#46039f"
             ],
             [
              0.2222222222222222,
              "#7201a8"
             ],
             [
              0.3333333333333333,
              "#9c179e"
             ],
             [
              0.4444444444444444,
              "#bd3786"
             ],
             [
              0.5555555555555556,
              "#d8576b"
             ],
             [
              0.6666666666666666,
              "#ed7953"
             ],
             [
              0.7777777777777778,
              "#fb9f3a"
             ],
             [
              0.8888888888888888,
              "#fdca26"
             ],
             [
              1,
              "#f0f921"
             ]
            ],
            "type": "histogram2dcontour"
           }
          ],
          "mesh3d": [
           {
            "colorbar": {
             "outlinewidth": 0,
             "ticks": ""
            },
            "type": "mesh3d"
           }
          ],
          "parcoords": [
           {
            "line": {
             "colorbar": {
              "outlinewidth": 0,
              "ticks": ""
             }
            },
            "type": "parcoords"
           }
          ],
          "pie": [
           {
            "automargin": true,
            "type": "pie"
           }
          ],
          "scatter": [
           {
            "fillpattern": {
             "fillmode": "overlay",
             "size": 10,
             "solidity": 0.2
            },
            "type": "scatter"
           }
          ],
          "scatter3d": [
           {
            "line": {
             "colorbar": {
              "outlinewidth": 0,
              "ticks": ""
             }
            },
            "marker": {
             "colorbar": {
              "outlinewidth": 0,
              "ticks": ""
             }
            },
            "type": "scatter3d"
           }
          ],
          "scattercarpet": [
           {
            "marker": {
             "colorbar": {
              "outlinewidth": 0,
              "ticks": ""
             }
            },
            "type": "scattercarpet"
           }
          ],
          "scattergeo": [
           {
            "marker": {
             "colorbar": {
              "outlinewidth": 0,
              "ticks": ""
             }
            },
            "type": "scattergeo"
           }
          ],
          "scattergl": [
           {
            "marker": {
             "colorbar": {
              "outlinewidth": 0,
              "ticks": ""
             }
            },
            "type": "scattergl"
           }
          ],
          "scattermapbox": [
           {
            "marker": {
             "colorbar": {
              "outlinewidth": 0,
              "ticks": ""
             }
            },
            "type": "scattermapbox"
           }
          ],
          "scatterpolar": [
           {
            "marker": {
             "colorbar": {
              "outlinewidth": 0,
              "ticks": ""
             }
            },
            "type": "scatterpolar"
           }
          ],
          "scatterpolargl": [
           {
            "marker": {
             "colorbar": {
              "outlinewidth": 0,
              "ticks": ""
             }
            },
            "type": "scatterpolargl"
           }
          ],
          "scatterternary": [
           {
            "marker": {
             "colorbar": {
              "outlinewidth": 0,
              "ticks": ""
             }
            },
            "type": "scatterternary"
           }
          ],
          "surface": [
           {
            "colorbar": {
             "outlinewidth": 0,
             "ticks": ""
            },
            "colorscale": [
             [
              0,
              "#0d0887"
             ],
             [
              0.1111111111111111,
              "#46039f"
             ],
             [
              0.2222222222222222,
              "#7201a8"
             ],
             [
              0.3333333333333333,
              "#9c179e"
             ],
             [
              0.4444444444444444,
              "#bd3786"
             ],
             [
              0.5555555555555556,
              "#d8576b"
             ],
             [
              0.6666666666666666,
              "#ed7953"
             ],
             [
              0.7777777777777778,
              "#fb9f3a"
             ],
             [
              0.8888888888888888,
              "#fdca26"
             ],
             [
              1,
              "#f0f921"
             ]
            ],
            "type": "surface"
           }
          ],
          "table": [
           {
            "cells": {
             "fill": {
              "color": "#EBF0F8"
             },
             "line": {
              "color": "white"
             }
            },
            "header": {
             "fill": {
              "color": "#C8D4E3"
             },
             "line": {
              "color": "white"
             }
            },
            "type": "table"
           }
          ]
         },
         "layout": {
          "annotationdefaults": {
           "arrowcolor": "#2a3f5f",
           "arrowhead": 0,
           "arrowwidth": 1
          },
          "autotypenumbers": "strict",
          "coloraxis": {
           "colorbar": {
            "outlinewidth": 0,
            "ticks": ""
           }
          },
          "colorscale": {
           "diverging": [
            [
             0,
             "#8e0152"
            ],
            [
             0.1,
             "#c51b7d"
            ],
            [
             0.2,
             "#de77ae"
            ],
            [
             0.3,
             "#f1b6da"
            ],
            [
             0.4,
             "#fde0ef"
            ],
            [
             0.5,
             "#f7f7f7"
            ],
            [
             0.6,
             "#e6f5d0"
            ],
            [
             0.7,
             "#b8e186"
            ],
            [
             0.8,
             "#7fbc41"
            ],
            [
             0.9,
             "#4d9221"
            ],
            [
             1,
             "#276419"
            ]
           ],
           "sequential": [
            [
             0,
             "#0d0887"
            ],
            [
             0.1111111111111111,
             "#46039f"
            ],
            [
             0.2222222222222222,
             "#7201a8"
            ],
            [
             0.3333333333333333,
             "#9c179e"
            ],
            [
             0.4444444444444444,
             "#bd3786"
            ],
            [
             0.5555555555555556,
             "#d8576b"
            ],
            [
             0.6666666666666666,
             "#ed7953"
            ],
            [
             0.7777777777777778,
             "#fb9f3a"
            ],
            [
             0.8888888888888888,
             "#fdca26"
            ],
            [
             1,
             "#f0f921"
            ]
           ],
           "sequentialminus": [
            [
             0,
             "#0d0887"
            ],
            [
             0.1111111111111111,
             "#46039f"
            ],
            [
             0.2222222222222222,
             "#7201a8"
            ],
            [
             0.3333333333333333,
             "#9c179e"
            ],
            [
             0.4444444444444444,
             "#bd3786"
            ],
            [
             0.5555555555555556,
             "#d8576b"
            ],
            [
             0.6666666666666666,
             "#ed7953"
            ],
            [
             0.7777777777777778,
             "#fb9f3a"
            ],
            [
             0.8888888888888888,
             "#fdca26"
            ],
            [
             1,
             "#f0f921"
            ]
           ]
          },
          "colorway": [
           "#636efa",
           "#EF553B",
           "#00cc96",
           "#ab63fa",
           "#FFA15A",
           "#19d3f3",
           "#FF6692",
           "#B6E880",
           "#FF97FF",
           "#FECB52"
          ],
          "font": {
           "color": "#2a3f5f"
          },
          "geo": {
           "bgcolor": "white",
           "lakecolor": "white",
           "landcolor": "#E5ECF6",
           "showlakes": true,
           "showland": true,
           "subunitcolor": "white"
          },
          "hoverlabel": {
           "align": "left"
          },
          "hovermode": "closest",
          "mapbox": {
           "style": "light"
          },
          "paper_bgcolor": "white",
          "plot_bgcolor": "#E5ECF6",
          "polar": {
           "angularaxis": {
            "gridcolor": "white",
            "linecolor": "white",
            "ticks": ""
           },
           "bgcolor": "#E5ECF6",
           "radialaxis": {
            "gridcolor": "white",
            "linecolor": "white",
            "ticks": ""
           }
          },
          "scene": {
           "xaxis": {
            "backgroundcolor": "#E5ECF6",
            "gridcolor": "white",
            "gridwidth": 2,
            "linecolor": "white",
            "showbackground": true,
            "ticks": "",
            "zerolinecolor": "white"
           },
           "yaxis": {
            "backgroundcolor": "#E5ECF6",
            "gridcolor": "white",
            "gridwidth": 2,
            "linecolor": "white",
            "showbackground": true,
            "ticks": "",
            "zerolinecolor": "white"
           },
           "zaxis": {
            "backgroundcolor": "#E5ECF6",
            "gridcolor": "white",
            "gridwidth": 2,
            "linecolor": "white",
            "showbackground": true,
            "ticks": "",
            "zerolinecolor": "white"
           }
          },
          "shapedefaults": {
           "line": {
            "color": "#2a3f5f"
           }
          },
          "ternary": {
           "aaxis": {
            "gridcolor": "white",
            "linecolor": "white",
            "ticks": ""
           },
           "baxis": {
            "gridcolor": "white",
            "linecolor": "white",
            "ticks": ""
           },
           "bgcolor": "#E5ECF6",
           "caxis": {
            "gridcolor": "white",
            "linecolor": "white",
            "ticks": ""
           }
          },
          "title": {
           "x": 0.05
          },
          "xaxis": {
           "automargin": true,
           "gridcolor": "white",
           "linecolor": "white",
           "ticks": "",
           "title": {
            "standoff": 15
           },
           "zerolinecolor": "white",
           "zerolinewidth": 2
          },
          "yaxis": {
           "automargin": true,
           "gridcolor": "white",
           "linecolor": "white",
           "ticks": "",
           "title": {
            "standoff": 15
           },
           "zerolinecolor": "white",
           "zerolinewidth": 2
          }
         }
        },
        "title": {
         "text": "HPI Inflation VS Mortgage Rate"
        },
        "xaxis": {
         "anchor": "y",
         "autorange": true,
         "domain": [
          0,
          1
         ],
         "range": [
          2014,
          2024
         ],
         "title": {
          "text": "year"
         },
         "type": "linear"
        },
        "yaxis": {
         "anchor": "x",
         "autorange": true,
         "domain": [
          0,
          1
         ],
         "range": [
          -0.827541076580212,
          15.72328045502403
         ],
         "title": {
          "text": "ValuePct"
         },
         "type": "linear"
        }
       }
      },
      "image/png": "[encoded data removed]",
      "text/html": [
       "<div>                            <div id=\"38b670fe-4bb5-4744-beb3-f1fe08b70bba\" class=\"plotly-graph-div\" style=\"height:525px; width:100%;\"></div>            <script type=\"text/javascript\">                require([\"plotly\"], function(Plotly) {                    window.PLOTLYENV=window.PLOTLYENV || {};                                    if (document.getElementById(\"38b670fe-4bb5-4744-beb3-f1fe08b70bba\")) {                    Plotly.newPlot(                        \"38b670fe-4bb5-4744-beb3-f1fe08b70bba\",                        [{\"hovertemplate\":\"Type=Mortgage Rate\\u003cbr\\u003eyear=%{x}\\u003cbr\\u003eValuePct=%{y}\\u003cextra\\u003e\\u003c\\u002fextra\\u003e\",\"legendgroup\":\"Mortgage Rate\",\"line\":{\"color\":\"#636efa\",\"dash\":\"solid\"},\"marker\":{\"symbol\":\"circle\"},\"mode\":\"lines\",\"name\":\"Mortgage Rate\",\"orientation\":\"v\",\"showlegend\":true,\"x\":[2014,2015,2016,2017,2018,2019,2020,2021,2022,2023,2024],\"xaxis\":\"x\",\"y\":[4.021904761904762,3.8505769230769227,3.6540384615384616,3.9898076923076924,4.544615384615384,3.935769230769231,3.111698113207547,2.957692307692308,5.344038461538461,6.806730769230769,6.851875],\"yaxis\":\"y\",\"type\":\"scatter\"},{\"hovertemplate\":\"Type=HPI\\u003cbr\\u003eyear=%{x}\\u003cbr\\u003eValuePct=%{y}\\u003cextra\\u003e\\u003c\\u002fextra\\u003e\",\"legendgroup\":\"HPI\",\"line\":{\"color\":\"#EF553B\",\"dash\":\"solid\"},\"marker\":{\"symbol\":\"circle\"},\"mode\":\"lines\",\"name\":\"HPI\",\"orientation\":\"v\",\"showlegend\":true,\"x\":[2014,2015,2016,2017,2018,2019,2020,2021,2022,2023,2024],\"xaxis\":\"x\",\"y\":[0.0,4.539258168898419,4.61989633008606,5.02442223056363,5.433503968693976,4.906719502265999,6.4502615180844325,14.895739378443817,14.662773998151879,5.4436073305625055,null],\"yaxis\":\"y\",\"type\":\"scatter\"},{\"hovertemplate\":\"Type=CPI\\u003cbr\\u003eyear=%{x}\\u003cbr\\u003eValuePct=%{y}\\u003cextra\\u003e\\u003c\\u002fextra\\u003e\",\"legendgroup\":\"CPI\",\"line\":{\"color\":\"#00cc96\",\"dash\":\"solid\"},\"marker\":{\"symbol\":\"circle\"},\"mode\":\"lines\",\"name\":\"CPI\",\"orientation\":\"v\",\"showlegend\":true,\"x\":[2014,2015,2016,2017,2018,2019,2020,2021,2022,2023,2024],\"xaxis\":\"x\",\"y\":[1.6,0.1,1.3,2.1,2.4,1.8,1.2,4.7,8.0,4.1,null],\"yaxis\":\"y\",\"type\":\"scatter\"}],                        {\"template\":{\"data\":{\"histogram2dcontour\":[{\"type\":\"histogram2dcontour\",\"colorbar\":{\"outlinewidth\":0,\"ticks\":\"\"},\"colorscale\":[[0.0,\"#0d0887\"],[0.1111111111111111,\"#46039f\"],[0.2222222222222222,\"#7201a8\"],[0.3333333333333333,\"#9c179e\"],[0.4444444444444444,\"#bd3786\"],[0.5555555555555556,\"#d8576b\"],[0.6666666666666666,\"#ed7953\"],[0.7777777777777778,\"#fb9f3a\"],[0.8888888888888888,\"#fdca26\"],[1.0,\"#f0f921\"]]}],\"choropleth\":[{\"type\":\"choropleth\",\"colorbar\":{\"outlinewidth\":0,\"ticks\":\"\"}}],\"histogram2d\":[{\"type\":\"histogram2d\",\"colorbar\":{\"outlinewidth\":0,\"ticks\":\"\"},\"colorscale\":[[0.0,\"#0d0887\"],[0.1111111111111111,\"#46039f\"],[0.2222222222222222,\"#7201a8\"],[0.3333333333333333,\"#9c179e\"],[0.4444444444444444,\"#bd3786\"],[0.5555555555555556,\"#d8576b\"],[0.6666666666666666,\"#ed7953\"],[0.7777777777777778,\"#fb9f3a\"],[0.8888888888888888,\"#fdca26\"],[1.0,\"#f0f921\"]]}],\"heatmap\":[{\"type\":\"heatmap\",\"colorbar\":{\"outlinewidth\":0,\"ticks\":\"\"},\"colorscale\":[[0.0,\"#0d0887\"],[0.1111111111111111,\"#46039f\"],[0.2222222222222222,\"#7201a8\"],[0.3333333333333333,\"#9c179e\"],[0.4444444444444444,\"#bd3786\"],[0.5555555555555556,\"#d8576b\"],[0.6666666666666666,\"#ed7953\"],[0.7777777777777778,\"#fb9f3a\"],[0.8888888888888888,\"#fdca26\"],[1.0,\"#f0f921\"]]}],\"heatmapgl\":[{\"type\":\"heatmapgl\",\"colorbar\":{\"outlinewidth\":0,\"ticks\":\"\"},\"colorscale\":[[0.0,\"#0d0887\"],[0.1111111111111111,\"#46039f\"],[0.2222222222222222,\"#7201a8\"],[0.3333333333333333,\"#9c179e\"],[0.4444444444444444,\"#bd3786\"],[0.5555555555555556,\"#d8576b\"],[0.6666666666666666,\"#ed7953\"],[0.7777777777777778,\"#fb9f3a\"],[0.8888888888888888,\"#fdca26\"],[1.0,\"#f0f921\"]]}],\"contourcarpet\":[{\"type\":\"contourcarpet\",\"colorbar\":{\"outlinewidth\":0,\"ticks\":\"\"}}],\"contour\":[{\"type\":\"contour\",\"colorbar\":{\"outlinewidth\":0,\"ticks\":\"\"},\"colorscale\":[[0.0,\"#0d0887\"],[0.1111111111111111,\"#46039f\"],[0.2222222222222222,\"#7201a8\"],[0.3333333333333333,\"#9c179e\"],[0.4444444444444444,\"#bd3786\"],[0.5555555555555556,\"#d8576b\"],[0.6666666666666666,\"#ed7953\"],[0.7777777777777778,\"#fb9f3a\"],[0.8888888888888888,\"#fdca26\"],[1.0,\"#f0f921\"]]}],\"surface\":[{\"type\":\"surface\",\"colorbar\":{\"outlinewidth\":0,\"ticks\":\"\"},\"colorscale\":[[0.0,\"#0d0887\"],[0.1111111111111111,\"#46039f\"],[0.2222222222222222,\"#7201a8\"],[0.3333333333333333,\"#9c179e\"],[0.4444444444444444,\"#bd3786\"],[0.5555555555555556,\"#d8576b\"],[0.6666666666666666,\"#ed7953\"],[0.7777777777777778,\"#fb9f3a\"],[0.8888888888888888,\"#fdca26\"],[1.0,\"#f0f921\"]]}],\"mesh3d\":[{\"type\":\"mesh3d\",\"colorbar\":{\"outlinewidth\":0,\"ticks\":\"\"}}],\"scatter\":[{\"fillpattern\":{\"fillmode\":\"overlay\",\"size\":10,\"solidity\":0.2},\"type\":\"scatter\"}],\"parcoords\":[{\"type\":\"parcoords\",\"line\":{\"colorbar\":{\"outlinewidth\":0,\"ticks\":\"\"}}}],\"scatterpolargl\":[{\"type\":\"scatterpolargl\",\"marker\":{\"colorbar\":{\"outlinewidth\":0,\"ticks\":\"\"}}}],\"bar\":[{\"error_x\":{\"color\":\"#2a3f5f\"},\"error_y\":{\"color\":\"#2a3f5f\"},\"marker\":{\"line\":{\"color\":\"#E5ECF6\",\"width\":0.5},\"pattern\":{\"fillmode\":\"overlay\",\"size\":10,\"solidity\":0.2}},\"type\":\"bar\"}],\"scattergeo\":[{\"type\":\"scattergeo\",\"marker\":{\"colorbar\":{\"outlinewidth\":0,\"ticks\":\"\"}}}],\"scatterpolar\":[{\"type\":\"scatterpolar\",\"marker\":{\"colorbar\":{\"outlinewidth\":0,\"ticks\":\"\"}}}],\"histogram\":[{\"marker\":{\"pattern\":{\"fillmode\":\"overlay\",\"size\":10,\"solidity\":0.2}},\"type\":\"histogram\"}],\"scattergl\":[{\"type\":\"scattergl\",\"marker\":{\"colorbar\":{\"outlinewidth\":0,\"ticks\":\"\"}}}],\"scatter3d\":[{\"type\":\"scatter3d\",\"line\":{\"colorbar\":{\"outlinewidth\":0,\"ticks\":\"\"}},\"marker\":{\"colorbar\":{\"outlinewidth\":0,\"ticks\":\"\"}}}],\"scattermapbox\":[{\"type\":\"scattermapbox\",\"marker\":{\"colorbar\":{\"outlinewidth\":0,\"ticks\":\"\"}}}],\"scatterternary\":[{\"type\":\"scatterternary\",\"marker\":{\"colorbar\":{\"outlinewidth\":0,\"ticks\":\"\"}}}],\"scattercarpet\":[{\"type\":\"scattercarpet\",\"marker\":{\"colorbar\":{\"outlinewidth\":0,\"ticks\":\"\"}}}],\"carpet\":[{\"aaxis\":{\"endlinecolor\":\"#2a3f5f\",\"gridcolor\":\"white\",\"linecolor\":\"white\",\"minorgridcolor\":\"white\",\"startlinecolor\":\"#2a3f5f\"},\"baxis\":{\"endlinecolor\":\"#2a3f5f\",\"gridcolor\":\"white\",\"linecolor\":\"white\",\"minorgridcolor\":\"white\",\"startlinecolor\":\"#2a3f5f\"},\"type\":\"carpet\"}],\"table\":[{\"cells\":{\"fill\":{\"color\":\"#EBF0F8\"},\"line\":{\"color\":\"white\"}},\"header\":{\"fill\":{\"color\":\"#C8D4E3\"},\"line\":{\"color\":\"white\"}},\"type\":\"table\"}],\"barpolar\":[{\"marker\":{\"line\":{\"color\":\"#E5ECF6\",\"width\":0.5},\"pattern\":{\"fillmode\":\"overlay\",\"size\":10,\"solidity\":0.2}},\"type\":\"barpolar\"}],\"pie\":[{\"automargin\":true,\"type\":\"pie\"}]},\"layout\":{\"autotypenumbers\":\"strict\",\"colorway\":[\"#636efa\",\"#EF553B\",\"#00cc96\",\"#ab63fa\",\"#FFA15A\",\"#19d3f3\",\"#FF6692\",\"#B6E880\",\"#FF97FF\",\"#FECB52\"],\"font\":{\"color\":\"#2a3f5f\"},\"hovermode\":\"closest\",\"hoverlabel\":{\"align\":\"left\"},\"paper_bgcolor\":\"white\",\"plot_bgcolor\":\"#E5ECF6\",\"polar\":{\"bgcolor\":\"#E5ECF6\",\"angularaxis\":{\"gridcolor\":\"white\",\"linecolor\":\"white\",\"ticks\":\"\"},\"radialaxis\":{\"gridcolor\":\"white\",\"linecolor\":\"white\",\"ticks\":\"\"}},\"ternary\":{\"bgcolor\":\"#E5ECF6\",\"aaxis\":{\"gridcolor\":\"white\",\"linecolor\":\"white\",\"ticks\":\"\"},\"baxis\":{\"gridcolor\":\"white\",\"linecolor\":\"white\",\"ticks\":\"\"},\"caxis\":{\"gridcolor\":\"white\",\"linecolor\":\"white\",\"ticks\":\"\"}},\"coloraxis\":{\"colorbar\":{\"outlinewidth\":0,\"ticks\":\"\"}},\"colorscale\":{\"sequential\":[[0.0,\"#0d0887\"],[0.1111111111111111,\"#46039f\"],[0.2222222222222222,\"#7201a8\"],[0.3333333333333333,\"#9c179e\"],[0.4444444444444444,\"#bd3786\"],[0.5555555555555556,\"#d8576b\"],[0.6666666666666666,\"#ed7953\"],[0.7777777777777778,\"#fb9f3a\"],[0.8888888888888888,\"#fdca26\"],[1.0,\"#f0f921\"]],\"sequentialminus\":[[0.0,\"#0d0887\"],[0.1111111111111111,\"#46039f\"],[0.2222222222222222,\"#7201a8\"],[0.3333333333333333,\"#9c179e\"],[0.4444444444444444,\"#bd3786\"],[0.5555555555555556,\"#d8576b\"],[0.6666666666666666,\"#ed7953\"],[0.7777777777777778,\"#fb9f3a\"],[0.8888888888888888,\"#fdca26\"],[1.0,\"#f0f921\"]],\"diverging\":[[0,\"#8e0152\"],[0.1,\"#c51b7d\"],[0.2,\"#de77ae\"],[0.3,\"#f1b6da\"],[0.4,\"#fde0ef\"],[0.5,\"#f7f7f7\"],[0.6,\"#e6f5d0\"],[0.7,\"#b8e186\"],[0.8,\"#7fbc41\"],[0.9,\"#4d9221\"],[1,\"#276419\"]]},\"xaxis\":{\"gridcolor\":\"white\",\"linecolor\":\"white\",\"ticks\":\"\",\"title\":{\"standoff\":15},\"zerolinecolor\":\"white\",\"automargin\":true,\"zerolinewidth\":2},\"yaxis\":{\"gridcolor\":\"white\",\"linecolor\":\"white\",\"ticks\":\"\",\"title\":{\"standoff\":15},\"zerolinecolor\":\"white\",\"automargin\":true,\"zerolinewidth\":2},\"scene\":{\"xaxis\":{\"backgroundcolor\":\"#E5ECF6\",\"gridcolor\":\"white\",\"linecolor\":\"white\",\"showbackground\":true,\"ticks\":\"\",\"zerolinecolor\":\"white\",\"gridwidth\":2},\"yaxis\":{\"backgroundcolor\":\"#E5ECF6\",\"gridcolor\":\"white\",\"linecolor\":\"white\",\"showbackground\":true,\"ticks\":\"\",\"zerolinecolor\":\"white\",\"gridwidth\":2},\"zaxis\":{\"backgroundcolor\":\"#E5ECF6\",\"gridcolor\":\"white\",\"linecolor\":\"white\",\"showbackground\":true,\"ticks\":\"\",\"zerolinecolor\":\"white\",\"gridwidth\":2}},\"shapedefaults\":{\"line\":{\"color\":\"#2a3f5f\"}},\"annotationdefaults\":{\"arrowcolor\":\"#2a3f5f\",\"arrowhead\":0,\"arrowwidth\":1},\"geo\":{\"bgcolor\":\"white\",\"landcolor\":\"#E5ECF6\",\"subunitcolor\":\"white\",\"showland\":true,\"showlakes\":true,\"lakecolor\":\"white\"},\"title\":{\"x\":0.05},\"mapbox\":{\"style\":\"light\"}}},\"xaxis\":{\"anchor\":\"y\",\"domain\":[0.0,1.0],\"title\":{\"text\":\"year\"}},\"yaxis\":{\"anchor\":\"x\",\"domain\":[0.0,1.0],\"title\":{\"text\":\"ValuePct\"}},\"legend\":{\"title\":{\"text\":\"Type\"},\"tracegroupgap\":0},\"title\":{\"text\":\"HPI Inflation VS Mortgage Rate\"}},                        {\"responsive\": true}                    ).then(function(){\n",
       "                            \n",
       "var gd = document.getElementById('38b670fe-4bb5-4744-beb3-f1fe08b70bba');\n",
       "var x = new MutationObserver(function (mutations, observer) {{\n",
       "        var display = window.getComputedStyle(gd).display;\n",
       "        if (!display || display === 'none') {{\n",
       "            console.log([gd, 'removed!']);\n",
       "            Plotly.purge(gd);\n",
       "            observer.disconnect();\n",
       "        }}\n",
       "}});\n",
       "\n",
       "// Listen for the removal of the full notebook cells\n",
       "var notebookContainer = gd.closest('#notebook-container');\n",
       "if (notebookContainer) {{\n",
       "    x.observe(notebookContainer, {childList: true});\n",
       "}}\n",
       "\n",
       "// Listen for the clearing of the current output cell\n",
       "var outputEl = gd.closest('.output');\n",
       "if (outputEl) {{\n",
       "    x.observe(outputEl, {childList: true});\n",
       "}}\n",
       "\n",
       "                        })                };                });            </script>        </div>"
      ]
     },
     "metadata": {},
     "output_type": "display_data"
    }
   ],
   "source": [
    "mortgage_plot=Combined_data_2[[\"year\",\"index_percentage_change\",\"mortgage_rate\"]]\n",
    "mortgage_plot=pd.merge(left=mortgage_plot, right=HPI_CPI_plot, how='left', on='year')\n",
    "mortgage_plot_f=mortgage_plot.drop(['index_percentage_change'],axis=1)\n",
    "\n",
    "mortgage_plot_f = mortgage_plot_f.rename(columns={\"mortgage_rate\": \"Home mortgage Interest rate\", \"mortgage_rate\": \"Mortgage Rate\"})\n",
    "mortgage_plot_piv = pd.melt(mortgage_plot_f, \n",
    "            id_vars='year', \n",
    "            value_vars=list(mortgage_plot_f.columns[1:]), \n",
    "            var_name='Type', \n",
    "            value_name='ValuePct')\n",
    "mortgage_plot_piv\n",
    "fig = px.line(mortgage_plot_piv, x=\"year\", y=\"ValuePct\", color='Type',title='HPI Inflation VS Mortgage Rate')\n",
    "fig.show()"
   ]
  },
  {
   "cell_type": "code",
   "execution_count": 125,
   "id": "5ca0b1d5-f7e1-45f4-8f48-2c1a03bd1f05",
   "metadata": {},
   "outputs": [
    {
     "name": "stdout",
     "output_type": "stream",
     "text": [
      "The correlation between both factors is 0.47\n"
     ]
    },
    {
     "data": {
      "image/png": "[encoded data removed]",
      "text/plain": [
       "<Figure size 1000x600 with 1 Axes>"
      ]
     },
     "metadata": {},
     "output_type": "display_data"
    }
   ],
   "source": [
    "mortgage_plot_f=mortgage_plot_f.drop(mortgage_plot_f.loc[mortgage_plot_f['year'] == 2024].index)\n",
    "mortgage_plot_f\n",
    "x_values = mortgage_plot_f['CPI']\n",
    "y_values = mortgage_plot_f['Mortgage Rate']\n",
    "(slope, intercept, rvalue, pvalue, stderr) = linregress(x_values, y_values)\n",
    "regress_values = x_values * slope + intercept\n",
    "line_eq = \"y = \" + str(round(slope,2)) + \"x + \" + str(round(intercept,2))\n",
    "plt.figure(figsize=(10, 6)) \n",
    "correlation = st.pearsonr(x_values,y_values)\n",
    "plt.scatter(x_values,y_values)\n",
    "plt.plot(x_values,regress_values,\"r-\")\n",
    "plt.annotate(line_eq,(5.8,0.8),fontsize=15,color=\"red\")\n",
    "plt.title('The correlation between CPI Infation vs Mortgage Rate')\n",
    "plt.xlabel('CPI Inflation')\n",
    "plt.ylabel('Mortgage rate')\n",
    "print(f\"The correlation between both factors is {round(correlation[0],2)}\")\n",
    "plt.show()"
   ]
  },
  {
   "cell_type": "code",
   "execution_count": 107,
   "id": "6455cad3-1c8c-45d2-9d1a-3d9c8ca1667e",
   "metadata": {},
   "outputs": [
    {
     "data": {
      "text/plain": [
       "<Figure size 1000x600 with 0 Axes>"
      ]
     },
     "metadata": {},
     "output_type": "display_data"
    },
    {
     "data": {
      "image/png": "[encoded data removed]",
      "text/plain": [
       "<Figure size 640x480 with 1 Axes>"
      ]
     },
     "metadata": {},
     "output_type": "display_data"
    }
   ],
   "source": [
    "import matplotlib.ticker as mtick\n",
    "\n",
    "x_axis = Combined_data_2.year\n",
    "#print(x_axis)\n",
    "y_axis= Combined_data_2.index_percentage_change\n",
    "#print(y_axis)\n",
    "plt.figure(figsize=(10, 6)) \n",
    "\n",
    "#plot_pyplot =plt.bar(x_axis,y_axis, color='orchid',alpha=0.6, align='center')\n",
    "\n",
    "#Combined_data_2['index_percentage_change'] = df['index_percentage_change'].apply(lambda x: (x/df['index_percentage_change'].sum())*100)\n",
    "labels = Combined_data_2['index_percentage_change'].round(1).astype('str') + '%'\n",
    "ax = Combined_data_2.plot.bar(x='year', y='index_percentage_change', rot=0)\n",
    "for container in ax.containers:\n",
    "    ax.bar_label(container, labels=labels)\n",
    "    ax.yaxis.set_major_formatter(mtick.PercentFormatter()) \n",
    "\n",
    "# Display the plot\n",
    "#plt.show()"
   ]
  },
  {
   "cell_type": "code",
   "execution_count": null,
   "id": "c3ed4f4a-7fac-4ea6-bbd7-2fedbc0c5717",
   "metadata": {},
   "outputs": [],
   "source": []
  }
 ],
 "metadata": {
  "kernelspec": {
   "display_name": "Python 3 (ipykernel)",
   "language": "python",
   "name": "python3"
  },
  "language_info": {
   "codemirror_mode": {
    "name": "ipython",
    "version": 3
   },
   "file_extension": ".py",
   "mimetype": "text/x-python",
   "name": "python",
   "nbconvert_exporter": "python",
   "pygments_lexer": "ipython3",
   "version": "3.10.14"
  }
 },
 "nbformat": 4,
 "nbformat_minor": 5
}
