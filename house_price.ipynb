{
 "cells": [
  {
   "cell_type": "code",
   "execution_count": 1,
   "id": "0e7d9528-90e4-4e2a-828e-345fb62e9180",
   "metadata": {},
   "outputs": [],
   "source": [
    "import matplotlib.pyplot as plt\n",
    "import numpy as np\n",
    "import pandas as pd\n",
    "import seaborn as sns\n",
    "import geopandas as gpd\n",
    "import scipy.stats as st\n",
    "from scipy.stats import linregress\n",
    "from matplotlib.pyplot import figure\n",
    "import plotly.graph_objects as go\n",
    "import matplotlib.ticker as mtick"
   ]
  },
  {
   "cell_type": "code",
   "execution_count": 2,
   "id": "a7167ccb-f50d-466b-b35e-61717e8a7830",
   "metadata": {},
   "outputs": [
    {
     "data": {
      "text/html": [
       "<div>\n",
       "<style scoped>\n",
       "    .dataframe tbody tr th:only-of-type {\n",
       "        vertical-align: middle;\n",
       "    }\n",
       "\n",
       "    .dataframe tbody tr th {\n",
       "        vertical-align: top;\n",
       "    }\n",
       "\n",
       "    .dataframe thead th {\n",
       "        text-align: right;\n",
       "    }\n",
       "</style>\n",
       "<table border=\"1\" class=\"dataframe\">\n",
       "  <thead>\n",
       "    <tr style=\"text-align: right;\">\n",
       "      <th></th>\n",
       "      <th>no</th>\n",
       "      <th>state Name</th>\n",
       "      <th>place_id</th>\n",
       "      <th>Region</th>\n",
       "      <th>Division</th>\n",
       "    </tr>\n",
       "  </thead>\n",
       "  <tbody>\n",
       "    <tr>\n",
       "      <th>0</th>\n",
       "      <td>2</td>\n",
       "      <td>Alaska</td>\n",
       "      <td>AK</td>\n",
       "      <td>West</td>\n",
       "      <td>Pacific</td>\n",
       "    </tr>\n",
       "    <tr>\n",
       "      <th>1</th>\n",
       "      <td>3</td>\n",
       "      <td>Alabama</td>\n",
       "      <td>AL</td>\n",
       "      <td>South</td>\n",
       "      <td>East South Central</td>\n",
       "    </tr>\n",
       "    <tr>\n",
       "      <th>2</th>\n",
       "      <td>4</td>\n",
       "      <td>Arkansas</td>\n",
       "      <td>AR</td>\n",
       "      <td>South</td>\n",
       "      <td>West South Central</td>\n",
       "    </tr>\n",
       "    <tr>\n",
       "      <th>3</th>\n",
       "      <td>5</td>\n",
       "      <td>Arizona</td>\n",
       "      <td>AZ</td>\n",
       "      <td>West</td>\n",
       "      <td>Mountain</td>\n",
       "    </tr>\n",
       "    <tr>\n",
       "      <th>4</th>\n",
       "      <td>6</td>\n",
       "      <td>California</td>\n",
       "      <td>CA</td>\n",
       "      <td>West</td>\n",
       "      <td>Pacific</td>\n",
       "    </tr>\n",
       "  </tbody>\n",
       "</table>\n",
       "</div>"
      ],
      "text/plain": [
       "   no  state Name place_id Region            Division\n",
       "0   2      Alaska       AK   West             Pacific\n",
       "1   3     Alabama       AL  South  East South Central\n",
       "2   4    Arkansas       AR  South  West South Central\n",
       "3   5     Arizona       AZ   West            Mountain\n",
       "4   6  California       CA   West             Pacific"
      ]
     },
     "execution_count": 2,
     "metadata": {},
     "output_type": "execute_result"
    }
   ],
   "source": [
    "\n",
    "# File to Load \n",
    "house_price_data_to_load=\"Resources/house_price_index.csv\"\n",
    "state_region_data_to_load=\"Resources/state_region.csv\"\n",
    "    \n",
    "# Read School and Student Data File and store into Pandas DataFrames\n",
    "house_price_data_df = pd.read_csv(house_price_data_to_load)\n",
    "state_region_data_df=pd.read_csv(state_region_data_to_load)\n",
    "    \n",
    "#state_region_data_df.head()\n",
    "#house_price_data_df.head(12)\n",
    "state_region_data_df.head()\n"
   ]
  },
  {
   "cell_type": "code",
   "execution_count": 3,
   "id": "16019a58-04aa-4689-9683-47b80e202e74",
   "metadata": {},
   "outputs": [
    {
     "data": {
      "text/html": [
       "<div>\n",
       "<style scoped>\n",
       "    .dataframe tbody tr th:only-of-type {\n",
       "        vertical-align: middle;\n",
       "    }\n",
       "\n",
       "    .dataframe tbody tr th {\n",
       "        vertical-align: top;\n",
       "    }\n",
       "\n",
       "    .dataframe thead th {\n",
       "        text-align: right;\n",
       "    }\n",
       "</style>\n",
       "<table border=\"1\" class=\"dataframe\">\n",
       "  <thead>\n",
       "    <tr style=\"text-align: right;\">\n",
       "      <th></th>\n",
       "      <th>place_id</th>\n",
       "      <th>year</th>\n",
       "      <th>index_nsa</th>\n",
       "    </tr>\n",
       "  </thead>\n",
       "  <tbody>\n",
       "    <tr>\n",
       "      <th>0</th>\n",
       "      <td>AK</td>\n",
       "      <td>2014</td>\n",
       "      <td>242.003125</td>\n",
       "    </tr>\n",
       "    <tr>\n",
       "      <th>1</th>\n",
       "      <td>AK</td>\n",
       "      <td>2015</td>\n",
       "      <td>250.695000</td>\n",
       "    </tr>\n",
       "    <tr>\n",
       "      <th>2</th>\n",
       "      <td>AK</td>\n",
       "      <td>2016</td>\n",
       "      <td>256.083750</td>\n",
       "    </tr>\n",
       "    <tr>\n",
       "      <th>3</th>\n",
       "      <td>AK</td>\n",
       "      <td>2017</td>\n",
       "      <td>259.456250</td>\n",
       "    </tr>\n",
       "    <tr>\n",
       "      <th>4</th>\n",
       "      <td>AK</td>\n",
       "      <td>2018</td>\n",
       "      <td>263.603125</td>\n",
       "    </tr>\n",
       "    <tr>\n",
       "      <th>5</th>\n",
       "      <td>AK</td>\n",
       "      <td>2019</td>\n",
       "      <td>270.712500</td>\n",
       "    </tr>\n",
       "    <tr>\n",
       "      <th>6</th>\n",
       "      <td>AK</td>\n",
       "      <td>2020</td>\n",
       "      <td>281.758125</td>\n",
       "    </tr>\n",
       "    <tr>\n",
       "      <th>7</th>\n",
       "      <td>AK</td>\n",
       "      <td>2021</td>\n",
       "      <td>308.745000</td>\n",
       "    </tr>\n",
       "    <tr>\n",
       "      <th>8</th>\n",
       "      <td>AK</td>\n",
       "      <td>2022</td>\n",
       "      <td>344.183750</td>\n",
       "    </tr>\n",
       "    <tr>\n",
       "      <th>9</th>\n",
       "      <td>AK</td>\n",
       "      <td>2023</td>\n",
       "      <td>362.205625</td>\n",
       "    </tr>\n",
       "    <tr>\n",
       "      <th>10</th>\n",
       "      <td>AK</td>\n",
       "      <td>2024</td>\n",
       "      <td>373.077500</td>\n",
       "    </tr>\n",
       "    <tr>\n",
       "      <th>11</th>\n",
       "      <td>AL</td>\n",
       "      <td>2014</td>\n",
       "      <td>197.109375</td>\n",
       "    </tr>\n",
       "  </tbody>\n",
       "</table>\n",
       "</div>"
      ],
      "text/plain": [
       "   place_id  year   index_nsa\n",
       "0        AK  2014  242.003125\n",
       "1        AK  2015  250.695000\n",
       "2        AK  2016  256.083750\n",
       "3        AK  2017  259.456250\n",
       "4        AK  2018  263.603125\n",
       "5        AK  2019  270.712500\n",
       "6        AK  2020  281.758125\n",
       "7        AK  2021  308.745000\n",
       "8        AK  2022  344.183750\n",
       "9        AK  2023  362.205625\n",
       "10       AK  2024  373.077500\n",
       "11       AL  2014  197.109375"
      ]
     },
     "execution_count": 3,
     "metadata": {},
     "output_type": "execute_result"
    }
   ],
   "source": [
    "#state_house_price_df = house_data_df[(house_data_df[\"level\"] == \"state\")]\n",
    "state_house_price_df = house_price_data_df.loc[house_price_data_df['level'] == 'State']\n",
    "#this is the main raw dataset\n",
    "state_yr_house_price_df = state_house_price_df.loc[house_price_data_df['year'] >= 2014]\n",
    "#Show HPI growth by year - overall\n",
    "#state_yr_house_price_df\n",
    "#my_years = [x for x in range(2014,2025)] \n",
    "state_yr_house_price_df_plot1 =  state_yr_house_price_df.groupby(['place_id','year'],as_index=False)['index_nsa'].mean()\n",
    "#state_yr_house_price_df['national_yearly_index'] = state_yr_house_price_df.groupby(['place_id','year'],as_index=False)['index_nsa'].mean()\n",
    "#print(len(state_yr_house_price_df_plot1))\n",
    "#print(len(my_years))\n",
    "state_yr_house_price_df_plot1.head(12)\n",
    "#state_yr_house_price_df['national_yearly_index'] = state_yr_house_price_df_plot1.index_nsa.transform('mean')\n",
    "#df['First Volume/Day'] = g['Volume/Day'].transform('first')\n",
    "#state_yr_house_price_df_plot1\n",
    "#print(state_yr_house_price_df.shape)\n",
    "#state_yr_house_price_df_plot1.head(22)"
   ]
  },
  {
   "cell_type": "code",
   "execution_count": 4,
   "id": "8537f210-bbbc-4f19-a3b6-82d5315640d0",
   "metadata": {},
   "outputs": [
    {
     "data": {
      "text/html": [
       "<div>\n",
       "<style scoped>\n",
       "    .dataframe tbody tr th:only-of-type {\n",
       "        vertical-align: middle;\n",
       "    }\n",
       "\n",
       "    .dataframe tbody tr th {\n",
       "        vertical-align: top;\n",
       "    }\n",
       "\n",
       "    .dataframe thead th {\n",
       "        text-align: right;\n",
       "    }\n",
       "</style>\n",
       "<table border=\"1\" class=\"dataframe\">\n",
       "  <thead>\n",
       "    <tr style=\"text-align: right;\">\n",
       "      <th></th>\n",
       "      <th>year</th>\n",
       "      <th>index_nsa</th>\n",
       "    </tr>\n",
       "  </thead>\n",
       "  <tbody>\n",
       "    <tr>\n",
       "      <th>0</th>\n",
       "      <td>2014</td>\n",
       "      <td>243.368493</td>\n",
       "    </tr>\n",
       "    <tr>\n",
       "      <th>1</th>\n",
       "      <td>2015</td>\n",
       "      <td>254.415617</td>\n",
       "    </tr>\n",
       "    <tr>\n",
       "      <th>2</th>\n",
       "      <td>2016</td>\n",
       "      <td>266.169355</td>\n",
       "    </tr>\n",
       "    <tr>\n",
       "      <th>3</th>\n",
       "      <td>2017</td>\n",
       "      <td>279.542827</td>\n",
       "    </tr>\n",
       "    <tr>\n",
       "      <th>4</th>\n",
       "      <td>2018</td>\n",
       "      <td>294.731797</td>\n",
       "    </tr>\n",
       "    <tr>\n",
       "      <th>5</th>\n",
       "      <td>2019</td>\n",
       "      <td>309.193460</td>\n",
       "    </tr>\n",
       "    <tr>\n",
       "      <th>6</th>\n",
       "      <td>2020</td>\n",
       "      <td>329.137247</td>\n",
       "    </tr>\n",
       "    <tr>\n",
       "      <th>7</th>\n",
       "      <td>2021</td>\n",
       "      <td>378.164673</td>\n",
       "    </tr>\n",
       "    <tr>\n",
       "      <th>8</th>\n",
       "      <td>2022</td>\n",
       "      <td>433.614105</td>\n",
       "    </tr>\n",
       "    <tr>\n",
       "      <th>9</th>\n",
       "      <td>2023</td>\n",
       "      <td>457.218354</td>\n",
       "    </tr>\n",
       "    <tr>\n",
       "      <th>10</th>\n",
       "      <td>2024</td>\n",
       "      <td>470.383268</td>\n",
       "    </tr>\n",
       "  </tbody>\n",
       "</table>\n",
       "</div>"
      ],
      "text/plain": [
       "    year   index_nsa\n",
       "0   2014  243.368493\n",
       "1   2015  254.415617\n",
       "2   2016  266.169355\n",
       "3   2017  279.542827\n",
       "4   2018  294.731797\n",
       "5   2019  309.193460\n",
       "6   2020  329.137247\n",
       "7   2021  378.164673\n",
       "8   2022  433.614105\n",
       "9   2023  457.218354\n",
       "10  2024  470.383268"
      ]
     },
     "execution_count": 4,
     "metadata": {},
     "output_type": "execute_result"
    }
   ],
   "source": [
    "yr_house_price_df_plot =  state_yr_house_price_df_plot1.groupby(['year'],as_index=False)['index_nsa'].mean()\n",
    "yr_house_price_df_plot"
   ]
  },
  {
   "cell_type": "code",
   "execution_count": 5,
   "id": "2d745d73-8922-4413-be78-40cc061a6e03",
   "metadata": {},
   "outputs": [
    {
     "data": {
      "image/png": "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",
      "text/plain": [
       "<Figure size 1000x600 with 1 Axes>"
      ]
     },
     "metadata": {},
     "output_type": "display_data"
    }
   ],
   "source": [
    "x_axis = yr_house_price_df_plot.year\n",
    "#print(x_axis)\n",
    "y_axis= yr_house_price_df_plot.index_nsa\n",
    "#print(y_axis)\n",
    "plt.figure(figsize=(10, 6)) \n",
    "\n",
    "plot_pyplot =plt.bar(x_axis,y_axis, color='orchid',alpha=0.6, align='center')\n",
    "\n",
    "# Add labels and title\n",
    "plt.xlabel('year')\n",
    "plt.ylabel('price index')\n",
    "plt.xticks(rotation='vertical')\n",
    "plt.title('House price index increase per year')\n",
    "\n",
    "# Display the plot\n",
    "plt.show()\n"
   ]
  },
  {
   "cell_type": "code",
   "execution_count": 6,
   "id": "cf84e6fa-fa7e-4856-a355-75744d8b1abb",
   "metadata": {
    "scrolled": true
   },
   "outputs": [
    {
     "data": {
      "text/html": [
       "<div>\n",
       "<style scoped>\n",
       "    .dataframe tbody tr th:only-of-type {\n",
       "        vertical-align: middle;\n",
       "    }\n",
       "\n",
       "    .dataframe tbody tr th {\n",
       "        vertical-align: top;\n",
       "    }\n",
       "\n",
       "    .dataframe thead th {\n",
       "        text-align: right;\n",
       "    }\n",
       "</style>\n",
       "<table border=\"1\" class=\"dataframe\">\n",
       "  <thead>\n",
       "    <tr style=\"text-align: right;\">\n",
       "      <th></th>\n",
       "      <th>place_id</th>\n",
       "      <th>year</th>\n",
       "      <th>index_nsa</th>\n",
       "      <th>no</th>\n",
       "      <th>state Name</th>\n",
       "      <th>Region</th>\n",
       "      <th>Division</th>\n",
       "    </tr>\n",
       "  </thead>\n",
       "  <tbody>\n",
       "    <tr>\n",
       "      <th>0</th>\n",
       "      <td>AK</td>\n",
       "      <td>2014</td>\n",
       "      <td>242.003125</td>\n",
       "      <td>2</td>\n",
       "      <td>Alaska</td>\n",
       "      <td>West</td>\n",
       "      <td>Pacific</td>\n",
       "    </tr>\n",
       "    <tr>\n",
       "      <th>1</th>\n",
       "      <td>AK</td>\n",
       "      <td>2015</td>\n",
       "      <td>250.695000</td>\n",
       "      <td>2</td>\n",
       "      <td>Alaska</td>\n",
       "      <td>West</td>\n",
       "      <td>Pacific</td>\n",
       "    </tr>\n",
       "    <tr>\n",
       "      <th>2</th>\n",
       "      <td>AK</td>\n",
       "      <td>2016</td>\n",
       "      <td>256.083750</td>\n",
       "      <td>2</td>\n",
       "      <td>Alaska</td>\n",
       "      <td>West</td>\n",
       "      <td>Pacific</td>\n",
       "    </tr>\n",
       "    <tr>\n",
       "      <th>3</th>\n",
       "      <td>AK</td>\n",
       "      <td>2017</td>\n",
       "      <td>259.456250</td>\n",
       "      <td>2</td>\n",
       "      <td>Alaska</td>\n",
       "      <td>West</td>\n",
       "      <td>Pacific</td>\n",
       "    </tr>\n",
       "    <tr>\n",
       "      <th>4</th>\n",
       "      <td>AK</td>\n",
       "      <td>2018</td>\n",
       "      <td>263.603125</td>\n",
       "      <td>2</td>\n",
       "      <td>Alaska</td>\n",
       "      <td>West</td>\n",
       "      <td>Pacific</td>\n",
       "    </tr>\n",
       "    <tr>\n",
       "      <th>5</th>\n",
       "      <td>AK</td>\n",
       "      <td>2019</td>\n",
       "      <td>270.712500</td>\n",
       "      <td>2</td>\n",
       "      <td>Alaska</td>\n",
       "      <td>West</td>\n",
       "      <td>Pacific</td>\n",
       "    </tr>\n",
       "    <tr>\n",
       "      <th>6</th>\n",
       "      <td>AK</td>\n",
       "      <td>2020</td>\n",
       "      <td>281.758125</td>\n",
       "      <td>2</td>\n",
       "      <td>Alaska</td>\n",
       "      <td>West</td>\n",
       "      <td>Pacific</td>\n",
       "    </tr>\n",
       "    <tr>\n",
       "      <th>7</th>\n",
       "      <td>AK</td>\n",
       "      <td>2021</td>\n",
       "      <td>308.745000</td>\n",
       "      <td>2</td>\n",
       "      <td>Alaska</td>\n",
       "      <td>West</td>\n",
       "      <td>Pacific</td>\n",
       "    </tr>\n",
       "    <tr>\n",
       "      <th>8</th>\n",
       "      <td>AK</td>\n",
       "      <td>2022</td>\n",
       "      <td>344.183750</td>\n",
       "      <td>2</td>\n",
       "      <td>Alaska</td>\n",
       "      <td>West</td>\n",
       "      <td>Pacific</td>\n",
       "    </tr>\n",
       "    <tr>\n",
       "      <th>9</th>\n",
       "      <td>AK</td>\n",
       "      <td>2023</td>\n",
       "      <td>362.205625</td>\n",
       "      <td>2</td>\n",
       "      <td>Alaska</td>\n",
       "      <td>West</td>\n",
       "      <td>Pacific</td>\n",
       "    </tr>\n",
       "    <tr>\n",
       "      <th>10</th>\n",
       "      <td>AK</td>\n",
       "      <td>2024</td>\n",
       "      <td>373.077500</td>\n",
       "      <td>2</td>\n",
       "      <td>Alaska</td>\n",
       "      <td>West</td>\n",
       "      <td>Pacific</td>\n",
       "    </tr>\n",
       "    <tr>\n",
       "      <th>11</th>\n",
       "      <td>AL</td>\n",
       "      <td>2014</td>\n",
       "      <td>197.109375</td>\n",
       "      <td>3</td>\n",
       "      <td>Alabama</td>\n",
       "      <td>South</td>\n",
       "      <td>East South Central</td>\n",
       "    </tr>\n",
       "    <tr>\n",
       "      <th>12</th>\n",
       "      <td>AL</td>\n",
       "      <td>2015</td>\n",
       "      <td>202.094375</td>\n",
       "      <td>3</td>\n",
       "      <td>Alabama</td>\n",
       "      <td>South</td>\n",
       "      <td>East South Central</td>\n",
       "    </tr>\n",
       "    <tr>\n",
       "      <th>13</th>\n",
       "      <td>AL</td>\n",
       "      <td>2016</td>\n",
       "      <td>207.863750</td>\n",
       "      <td>3</td>\n",
       "      <td>Alabama</td>\n",
       "      <td>South</td>\n",
       "      <td>East South Central</td>\n",
       "    </tr>\n",
       "    <tr>\n",
       "      <th>14</th>\n",
       "      <td>AL</td>\n",
       "      <td>2017</td>\n",
       "      <td>214.631250</td>\n",
       "      <td>3</td>\n",
       "      <td>Alabama</td>\n",
       "      <td>South</td>\n",
       "      <td>East South Central</td>\n",
       "    </tr>\n",
       "    <tr>\n",
       "      <th>15</th>\n",
       "      <td>AL</td>\n",
       "      <td>2018</td>\n",
       "      <td>223.669375</td>\n",
       "      <td>3</td>\n",
       "      <td>Alabama</td>\n",
       "      <td>South</td>\n",
       "      <td>East South Central</td>\n",
       "    </tr>\n",
       "    <tr>\n",
       "      <th>16</th>\n",
       "      <td>AL</td>\n",
       "      <td>2019</td>\n",
       "      <td>234.804375</td>\n",
       "      <td>3</td>\n",
       "      <td>Alabama</td>\n",
       "      <td>South</td>\n",
       "      <td>East South Central</td>\n",
       "    </tr>\n",
       "    <tr>\n",
       "      <th>17</th>\n",
       "      <td>AL</td>\n",
       "      <td>2020</td>\n",
       "      <td>249.974375</td>\n",
       "      <td>3</td>\n",
       "      <td>Alabama</td>\n",
       "      <td>South</td>\n",
       "      <td>East South Central</td>\n",
       "    </tr>\n",
       "    <tr>\n",
       "      <th>18</th>\n",
       "      <td>AL</td>\n",
       "      <td>2021</td>\n",
       "      <td>283.626875</td>\n",
       "      <td>3</td>\n",
       "      <td>Alabama</td>\n",
       "      <td>South</td>\n",
       "      <td>East South Central</td>\n",
       "    </tr>\n",
       "    <tr>\n",
       "      <th>19</th>\n",
       "      <td>AL</td>\n",
       "      <td>2022</td>\n",
       "      <td>326.778750</td>\n",
       "      <td>3</td>\n",
       "      <td>Alabama</td>\n",
       "      <td>South</td>\n",
       "      <td>East South Central</td>\n",
       "    </tr>\n",
       "    <tr>\n",
       "      <th>20</th>\n",
       "      <td>AL</td>\n",
       "      <td>2023</td>\n",
       "      <td>348.524375</td>\n",
       "      <td>3</td>\n",
       "      <td>Alabama</td>\n",
       "      <td>South</td>\n",
       "      <td>East South Central</td>\n",
       "    </tr>\n",
       "    <tr>\n",
       "      <th>21</th>\n",
       "      <td>AL</td>\n",
       "      <td>2024</td>\n",
       "      <td>354.600000</td>\n",
       "      <td>3</td>\n",
       "      <td>Alabama</td>\n",
       "      <td>South</td>\n",
       "      <td>East South Central</td>\n",
       "    </tr>\n",
       "  </tbody>\n",
       "</table>\n",
       "</div>"
      ],
      "text/plain": [
       "   place_id  year   index_nsa  no state Name Region            Division\n",
       "0        AK  2014  242.003125   2     Alaska   West             Pacific\n",
       "1        AK  2015  250.695000   2     Alaska   West             Pacific\n",
       "2        AK  2016  256.083750   2     Alaska   West             Pacific\n",
       "3        AK  2017  259.456250   2     Alaska   West             Pacific\n",
       "4        AK  2018  263.603125   2     Alaska   West             Pacific\n",
       "5        AK  2019  270.712500   2     Alaska   West             Pacific\n",
       "6        AK  2020  281.758125   2     Alaska   West             Pacific\n",
       "7        AK  2021  308.745000   2     Alaska   West             Pacific\n",
       "8        AK  2022  344.183750   2     Alaska   West             Pacific\n",
       "9        AK  2023  362.205625   2     Alaska   West             Pacific\n",
       "10       AK  2024  373.077500   2     Alaska   West             Pacific\n",
       "11       AL  2014  197.109375   3    Alabama  South  East South Central\n",
       "12       AL  2015  202.094375   3    Alabama  South  East South Central\n",
       "13       AL  2016  207.863750   3    Alabama  South  East South Central\n",
       "14       AL  2017  214.631250   3    Alabama  South  East South Central\n",
       "15       AL  2018  223.669375   3    Alabama  South  East South Central\n",
       "16       AL  2019  234.804375   3    Alabama  South  East South Central\n",
       "17       AL  2020  249.974375   3    Alabama  South  East South Central\n",
       "18       AL  2021  283.626875   3    Alabama  South  East South Central\n",
       "19       AL  2022  326.778750   3    Alabama  South  East South Central\n",
       "20       AL  2023  348.524375   3    Alabama  South  East South Central\n",
       "21       AL  2024  354.600000   3    Alabama  South  East South Central"
      ]
     },
     "execution_count": 6,
     "metadata": {},
     "output_type": "execute_result"
    }
   ],
   "source": [
    "# Combine the data into a single DataFrame\n",
    "state_yr_house_price_df.set_index('place_id')\n",
    "state_yr_house_price_df.head()\n",
    "\n",
    "Combined_data = state_yr_house_price_df_plot1.merge(state_region_data_df, on='place_id', how='right')\n",
    "#Combined_data = Combined_data[['Region','place_id','year','index_nsa']]\n",
    "#Combined_data \n",
    "region_yr_house_price_df =  Combined_data.groupby(['Region','year'],as_index=False)['index_nsa'].mean()\n",
    "region_yr_house_price_df.head(22)\n",
    "# Display the data table for preview\n",
    "Combined_data.head(22)"
   ]
  },
  {
   "cell_type": "code",
   "execution_count": 7,
   "id": "98ee25bf-993c-449f-b19d-755840d6ca8b",
   "metadata": {},
   "outputs": [
    {
     "data": {
      "text/plain": [
       "['Solarize_Light2',\n",
       " '_classic_test_patch',\n",
       " '_mpl-gallery',\n",
       " '_mpl-gallery-nogrid',\n",
       " 'bmh',\n",
       " 'classic',\n",
       " 'dark_background',\n",
       " 'fast',\n",
       " 'fivethirtyeight',\n",
       " 'ggplot',\n",
       " 'grayscale',\n",
       " 'seaborn-v0_8',\n",
       " 'seaborn-v0_8-bright',\n",
       " 'seaborn-v0_8-colorblind',\n",
       " 'seaborn-v0_8-dark',\n",
       " 'seaborn-v0_8-dark-palette',\n",
       " 'seaborn-v0_8-darkgrid',\n",
       " 'seaborn-v0_8-deep',\n",
       " 'seaborn-v0_8-muted',\n",
       " 'seaborn-v0_8-notebook',\n",
       " 'seaborn-v0_8-paper',\n",
       " 'seaborn-v0_8-pastel',\n",
       " 'seaborn-v0_8-poster',\n",
       " 'seaborn-v0_8-talk',\n",
       " 'seaborn-v0_8-ticks',\n",
       " 'seaborn-v0_8-white',\n",
       " 'seaborn-v0_8-whitegrid',\n",
       " 'tableau-colorblind10']"
      ]
     },
     "execution_count": 7,
     "metadata": {},
     "output_type": "execute_result"
    }
   ],
   "source": [
    "plt.style.available"
   ]
  },
  {
   "cell_type": "code",
   "execution_count": 8,
   "id": "cba4e758-355c-4a1c-b565-35b1e073049b",
   "metadata": {},
   "outputs": [],
   "source": [
    "def regionwise_HPI():\n",
    "  sns.lineplot(x='year', y='index_nsa', hue='Region', data = region_yr_house_price_df)\n",
    "  plt.title('Regionwise House price index  per year')\n",
    "  plt.figure(figsize=(10, 6))\n",
    "  plt.style.use('Solarize_Light2')\n",
    "  #plt.title('Regionwise House price index  per year')\n",
    "  plt.show()\n",
    "  return"
   ]
  },
  {
   "cell_type": "code",
   "execution_count": 9,
   "id": "b9bcbd5c-8d0c-4475-be50-ca84f724e8f5",
   "metadata": {},
   "outputs": [
    {
     "data": {
      "image/png": "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",
      "text/plain": [
       "<Figure size 640x480 with 1 Axes>"
      ]
     },
     "metadata": {},
     "output_type": "display_data"
    },
    {
     "data": {
      "text/plain": [
       "<Figure size 1000x600 with 0 Axes>"
      ]
     },
     "metadata": {},
     "output_type": "display_data"
    }
   ],
   "source": [
    "regionwise_HPI()"
   ]
  },
  {
   "cell_type": "code",
   "execution_count": 10,
   "id": "34087c98-db0b-46c9-885b-893ca7bba57c",
   "metadata": {},
   "outputs": [
    {
     "data": {
      "text/html": [
       "<div>\n",
       "<style scoped>\n",
       "    .dataframe tbody tr th:only-of-type {\n",
       "        vertical-align: middle;\n",
       "    }\n",
       "\n",
       "    .dataframe tbody tr th {\n",
       "        vertical-align: top;\n",
       "    }\n",
       "\n",
       "    .dataframe thead th {\n",
       "        text-align: right;\n",
       "    }\n",
       "</style>\n",
       "<table border=\"1\" class=\"dataframe\">\n",
       "  <thead>\n",
       "    <tr style=\"text-align: right;\">\n",
       "      <th></th>\n",
       "      <th>GEOID</th>\n",
       "      <th>place_id</th>\n",
       "      <th>NAME</th>\n",
       "      <th>geometry</th>\n",
       "    </tr>\n",
       "  </thead>\n",
       "  <tbody>\n",
       "    <tr>\n",
       "      <th>0</th>\n",
       "      <td>31</td>\n",
       "      <td>NE</td>\n",
       "      <td>Nebraska</td>\n",
       "      <td>POLYGON ((-104.05351 41.15726, -104.05267 41.2...</td>\n",
       "    </tr>\n",
       "    <tr>\n",
       "      <th>1</th>\n",
       "      <td>53</td>\n",
       "      <td>WA</td>\n",
       "      <td>Washington</td>\n",
       "      <td>MULTIPOLYGON (((-122.32834 48.02134, -122.3217...</td>\n",
       "    </tr>\n",
       "    <tr>\n",
       "      <th>2</th>\n",
       "      <td>35</td>\n",
       "      <td>NM</td>\n",
       "      <td>New Mexico</td>\n",
       "      <td>POLYGON ((-109.05017 31.48000, -109.04984 31.4...</td>\n",
       "    </tr>\n",
       "    <tr>\n",
       "      <th>3</th>\n",
       "      <td>46</td>\n",
       "      <td>SD</td>\n",
       "      <td>South Dakota</td>\n",
       "      <td>POLYGON ((-104.05770 44.99743, -104.05021 44.9...</td>\n",
       "    </tr>\n",
       "    <tr>\n",
       "      <th>4</th>\n",
       "      <td>48</td>\n",
       "      <td>TX</td>\n",
       "      <td>Texas</td>\n",
       "      <td>POLYGON ((-106.64548 31.89867, -106.64084 31.9...</td>\n",
       "    </tr>\n",
       "    <tr>\n",
       "      <th>5</th>\n",
       "      <td>06</td>\n",
       "      <td>CA</td>\n",
       "      <td>California</td>\n",
       "      <td>MULTIPOLYGON (((-118.60337 33.47810, -118.5987...</td>\n",
       "    </tr>\n",
       "    <tr>\n",
       "      <th>6</th>\n",
       "      <td>21</td>\n",
       "      <td>KY</td>\n",
       "      <td>Kentucky</td>\n",
       "      <td>MULTIPOLYGON (((-89.40565 36.52817, -89.39869 ...</td>\n",
       "    </tr>\n",
       "    <tr>\n",
       "      <th>7</th>\n",
       "      <td>39</td>\n",
       "      <td>OH</td>\n",
       "      <td>Ohio</td>\n",
       "      <td>MULTIPOLYGON (((-82.73571 41.60336, -82.71880 ...</td>\n",
       "    </tr>\n",
       "    <tr>\n",
       "      <th>8</th>\n",
       "      <td>01</td>\n",
       "      <td>AL</td>\n",
       "      <td>Alabama</td>\n",
       "      <td>MULTIPOLYGON (((-88.04374 30.51742, -88.03661 ...</td>\n",
       "    </tr>\n",
       "    <tr>\n",
       "      <th>9</th>\n",
       "      <td>13</td>\n",
       "      <td>GA</td>\n",
       "      <td>Georgia</td>\n",
       "      <td>POLYGON ((-85.60516 34.98468, -85.55259 34.984...</td>\n",
       "    </tr>\n",
       "  </tbody>\n",
       "</table>\n",
       "</div>"
      ],
      "text/plain": [
       "  GEOID place_id          NAME  \\\n",
       "0    31       NE      Nebraska   \n",
       "1    53       WA    Washington   \n",
       "2    35       NM    New Mexico   \n",
       "3    46       SD  South Dakota   \n",
       "4    48       TX         Texas   \n",
       "5    06       CA    California   \n",
       "6    21       KY      Kentucky   \n",
       "7    39       OH          Ohio   \n",
       "8    01       AL       Alabama   \n",
       "9    13       GA       Georgia   \n",
       "\n",
       "                                            geometry  \n",
       "0  POLYGON ((-104.05351 41.15726, -104.05267 41.2...  \n",
       "1  MULTIPOLYGON (((-122.32834 48.02134, -122.3217...  \n",
       "2  POLYGON ((-109.05017 31.48000, -109.04984 31.4...  \n",
       "3  POLYGON ((-104.05770 44.99743, -104.05021 44.9...  \n",
       "4  POLYGON ((-106.64548 31.89867, -106.64084 31.9...  \n",
       "5  MULTIPOLYGON (((-118.60337 33.47810, -118.5987...  \n",
       "6  MULTIPOLYGON (((-89.40565 36.52817, -89.39869 ...  \n",
       "7  MULTIPOLYGON (((-82.73571 41.60336, -82.71880 ...  \n",
       "8  MULTIPOLYGON (((-88.04374 30.51742, -88.03661 ...  \n",
       "9  POLYGON ((-85.60516 34.98468, -85.55259 34.984...  "
      ]
     },
     "execution_count": 10,
     "metadata": {},
     "output_type": "execute_result"
    }
   ],
   "source": [
    "# Setting the path to the shapefile\n",
    "SHAPEFILE =\"Resources/shapefile/cb_2018_us_state_5m.shp\"\n",
    "# Read shapefile using Geopandas\n",
    "geo_df=gpd.read_file(SHAPEFILE)\n",
    "geo_df = gpd.read_file(SHAPEFILE)[['GEOID', 'STUSPS', 'NAME','geometry']]\n",
    "# Rename columns.\n",
    "geo_df=geo_df.rename(columns={\"STUSPS\":\"place_id\"})\n",
    "geo_df.head(10)"
   ]
  },
  {
   "cell_type": "code",
   "execution_count": 11,
   "id": "af8f95bc-c84e-4a15-b4b6-48b66a4c6ea3",
   "metadata": {},
   "outputs": [],
   "source": [
    "# Drop row for 'Antarctica'. It takes a lot of space in the map and is not of much use\n",
    "geo_df = geo_df.drop(geo_df.loc[geo_df['NAME'] == 'Puerto Rico'].index)\n",
    "geo_df = geo_df.drop(geo_df.loc[geo_df['NAME'] == 'American Samoa'].index)\n",
    "geo_df = geo_df.drop(geo_df.loc[geo_df['NAME'] == 'Commonwealth of the Northern Mariana Islands'].index)\n",
    "geo_df = geo_df.drop(geo_df.loc[geo_df['NAME'] == 'Guam'].index)\n",
    "geo_df = geo_df.drop(geo_df.loc[geo_df['NAME'] == 'United States Virgin Islands'].index)\n",
    "geo_df = geo_df.drop(geo_df.loc[geo_df['NAME'] == 'Alaska'].index)\n",
    "geo_df = geo_df.drop(geo_df.loc[geo_df['NAME'] == 'Hawaii'].index)\n",
    "# Print the map\n",
    "#geo_df.plot(figsize=(200, 200), linewidth=1, color='lightblue')"
   ]
  },
  {
   "cell_type": "code",
   "execution_count": 12,
   "id": "2e93e3bf-0662-4d87-897e-336ac284b809",
   "metadata": {},
   "outputs": [
    {
     "data": {
      "text/html": [
       "<div>\n",
       "<style scoped>\n",
       "    .dataframe tbody tr th:only-of-type {\n",
       "        vertical-align: middle;\n",
       "    }\n",
       "\n",
       "    .dataframe tbody tr th {\n",
       "        vertical-align: top;\n",
       "    }\n",
       "\n",
       "    .dataframe thead th {\n",
       "        text-align: right;\n",
       "    }\n",
       "</style>\n",
       "<table border=\"1\" class=\"dataframe\">\n",
       "  <thead>\n",
       "    <tr style=\"text-align: right;\">\n",
       "      <th></th>\n",
       "      <th>place_id</th>\n",
       "      <th>Region</th>\n",
       "      <th>year</th>\n",
       "      <th>index_nsa</th>\n",
       "    </tr>\n",
       "  </thead>\n",
       "  <tbody>\n",
       "    <tr>\n",
       "      <th>0</th>\n",
       "      <td>AK</td>\n",
       "      <td>West</td>\n",
       "      <td>2023</td>\n",
       "      <td>362.205625</td>\n",
       "    </tr>\n",
       "    <tr>\n",
       "      <th>1</th>\n",
       "      <td>AL</td>\n",
       "      <td>South</td>\n",
       "      <td>2023</td>\n",
       "      <td>348.524375</td>\n",
       "    </tr>\n",
       "    <tr>\n",
       "      <th>2</th>\n",
       "      <td>AR</td>\n",
       "      <td>South</td>\n",
       "      <td>2023</td>\n",
       "      <td>350.158125</td>\n",
       "    </tr>\n",
       "    <tr>\n",
       "      <th>3</th>\n",
       "      <td>AZ</td>\n",
       "      <td>West</td>\n",
       "      <td>2023</td>\n",
       "      <td>536.976250</td>\n",
       "    </tr>\n",
       "    <tr>\n",
       "      <th>4</th>\n",
       "      <td>CA</td>\n",
       "      <td>West</td>\n",
       "      <td>2023</td>\n",
       "      <td>519.832500</td>\n",
       "    </tr>\n",
       "    <tr>\n",
       "      <th>5</th>\n",
       "      <td>CO</td>\n",
       "      <td>West</td>\n",
       "      <td>2023</td>\n",
       "      <td>652.588750</td>\n",
       "    </tr>\n",
       "    <tr>\n",
       "      <th>6</th>\n",
       "      <td>CT</td>\n",
       "      <td>Northeast</td>\n",
       "      <td>2023</td>\n",
       "      <td>352.063125</td>\n",
       "    </tr>\n",
       "    <tr>\n",
       "      <th>7</th>\n",
       "      <td>DC</td>\n",
       "      <td>South</td>\n",
       "      <td>2023</td>\n",
       "      <td>747.378333</td>\n",
       "    </tr>\n",
       "    <tr>\n",
       "      <th>8</th>\n",
       "      <td>DE</td>\n",
       "      <td>South</td>\n",
       "      <td>2023</td>\n",
       "      <td>428.367500</td>\n",
       "    </tr>\n",
       "    <tr>\n",
       "      <th>9</th>\n",
       "      <td>FL</td>\n",
       "      <td>South</td>\n",
       "      <td>2023</td>\n",
       "      <td>587.133125</td>\n",
       "    </tr>\n",
       "  </tbody>\n",
       "</table>\n",
       "</div>"
      ],
      "text/plain": [
       "  place_id     Region  year   index_nsa\n",
       "0       AK       West  2023  362.205625\n",
       "1       AL      South  2023  348.524375\n",
       "2       AR      South  2023  350.158125\n",
       "3       AZ       West  2023  536.976250\n",
       "4       CA       West  2023  519.832500\n",
       "5       CO       West  2023  652.588750\n",
       "6       CT  Northeast  2023  352.063125\n",
       "7       DC      South  2023  747.378333\n",
       "8       DE      South  2023  428.367500\n",
       "9       FL      South  2023  587.133125"
      ]
     },
     "execution_count": 12,
     "metadata": {},
     "output_type": "execute_result"
    }
   ],
   "source": [
    "combined_heat_map_data= Combined_data[Combined_data['year'] == 2023]\n",
    "combined_heat_map_data= combined_heat_map_data[['place_id','Region','year','index_nsa']]\n",
    "combined_heat_map_data=combined_heat_map_data.drop_duplicates()\n",
    "combined_heat_map_data = combined_heat_map_data.reset_index(drop=True)\n",
    "combined_heat_map_data.head(10)"
   ]
  },
  {
   "cell_type": "code",
   "execution_count": 13,
   "id": "7542cb67-c923-48d5-a8f9-622bfcb42959",
   "metadata": {
    "scrolled": true
   },
   "outputs": [
    {
     "data": {
      "text/html": [
       "<div>\n",
       "<style scoped>\n",
       "    .dataframe tbody tr th:only-of-type {\n",
       "        vertical-align: middle;\n",
       "    }\n",
       "\n",
       "    .dataframe tbody tr th {\n",
       "        vertical-align: top;\n",
       "    }\n",
       "\n",
       "    .dataframe thead th {\n",
       "        text-align: right;\n",
       "    }\n",
       "</style>\n",
       "<table border=\"1\" class=\"dataframe\">\n",
       "  <thead>\n",
       "    <tr style=\"text-align: right;\">\n",
       "      <th></th>\n",
       "      <th>GEOID</th>\n",
       "      <th>place_id</th>\n",
       "      <th>NAME</th>\n",
       "      <th>geometry</th>\n",
       "      <th>Region</th>\n",
       "      <th>year</th>\n",
       "      <th>index_nsa</th>\n",
       "    </tr>\n",
       "  </thead>\n",
       "  <tbody>\n",
       "    <tr>\n",
       "      <th>0</th>\n",
       "      <td>31</td>\n",
       "      <td>NE</td>\n",
       "      <td>Nebraska</td>\n",
       "      <td>POLYGON ((-104.05351 41.15726, -104.05267 41.2...</td>\n",
       "      <td>Midwest</td>\n",
       "      <td>2023</td>\n",
       "      <td>398.535625</td>\n",
       "    </tr>\n",
       "    <tr>\n",
       "      <th>1</th>\n",
       "      <td>53</td>\n",
       "      <td>WA</td>\n",
       "      <td>Washington</td>\n",
       "      <td>MULTIPOLYGON (((-122.32834 48.02134, -122.3217...</td>\n",
       "      <td>West</td>\n",
       "      <td>2023</td>\n",
       "      <td>629.311875</td>\n",
       "    </tr>\n",
       "    <tr>\n",
       "      <th>2</th>\n",
       "      <td>35</td>\n",
       "      <td>NM</td>\n",
       "      <td>New Mexico</td>\n",
       "      <td>POLYGON ((-109.05017 31.48000, -109.04984 31.4...</td>\n",
       "      <td>West</td>\n",
       "      <td>2023</td>\n",
       "      <td>388.200625</td>\n",
       "    </tr>\n",
       "    <tr>\n",
       "      <th>3</th>\n",
       "      <td>46</td>\n",
       "      <td>SD</td>\n",
       "      <td>South Dakota</td>\n",
       "      <td>POLYGON ((-104.05770 44.99743, -104.05021 44.9...</td>\n",
       "      <td>Midwest</td>\n",
       "      <td>2023</td>\n",
       "      <td>486.631250</td>\n",
       "    </tr>\n",
       "    <tr>\n",
       "      <th>4</th>\n",
       "      <td>48</td>\n",
       "      <td>TX</td>\n",
       "      <td>Texas</td>\n",
       "      <td>POLYGON ((-106.64548 31.89867, -106.64084 31.9...</td>\n",
       "      <td>South</td>\n",
       "      <td>2023</td>\n",
       "      <td>442.343125</td>\n",
       "    </tr>\n",
       "    <tr>\n",
       "      <th>5</th>\n",
       "      <td>06</td>\n",
       "      <td>CA</td>\n",
       "      <td>California</td>\n",
       "      <td>MULTIPOLYGON (((-118.60337 33.47810, -118.5987...</td>\n",
       "      <td>West</td>\n",
       "      <td>2023</td>\n",
       "      <td>519.832500</td>\n",
       "    </tr>\n",
       "    <tr>\n",
       "      <th>6</th>\n",
       "      <td>21</td>\n",
       "      <td>KY</td>\n",
       "      <td>Kentucky</td>\n",
       "      <td>MULTIPOLYGON (((-89.40565 36.52817, -89.39869 ...</td>\n",
       "      <td>South</td>\n",
       "      <td>2023</td>\n",
       "      <td>372.313750</td>\n",
       "    </tr>\n",
       "    <tr>\n",
       "      <th>7</th>\n",
       "      <td>39</td>\n",
       "      <td>OH</td>\n",
       "      <td>Ohio</td>\n",
       "      <td>MULTIPOLYGON (((-82.73571 41.60336, -82.71880 ...</td>\n",
       "      <td>Midwest</td>\n",
       "      <td>2023</td>\n",
       "      <td>329.526875</td>\n",
       "    </tr>\n",
       "    <tr>\n",
       "      <th>8</th>\n",
       "      <td>01</td>\n",
       "      <td>AL</td>\n",
       "      <td>Alabama</td>\n",
       "      <td>MULTIPOLYGON (((-88.04374 30.51742, -88.03661 ...</td>\n",
       "      <td>South</td>\n",
       "      <td>2023</td>\n",
       "      <td>348.524375</td>\n",
       "    </tr>\n",
       "    <tr>\n",
       "      <th>9</th>\n",
       "      <td>13</td>\n",
       "      <td>GA</td>\n",
       "      <td>Georgia</td>\n",
       "      <td>POLYGON ((-85.60516 34.98468, -85.55259 34.984...</td>\n",
       "      <td>South</td>\n",
       "      <td>2023</td>\n",
       "      <td>426.908750</td>\n",
       "    </tr>\n",
       "    <tr>\n",
       "      <th>10</th>\n",
       "      <td>55</td>\n",
       "      <td>WI</td>\n",
       "      <td>Wisconsin</td>\n",
       "      <td>MULTIPOLYGON (((-86.95620 45.35201, -86.95339 ...</td>\n",
       "      <td>Midwest</td>\n",
       "      <td>2023</td>\n",
       "      <td>416.113125</td>\n",
       "    </tr>\n",
       "    <tr>\n",
       "      <th>11</th>\n",
       "      <td>41</td>\n",
       "      <td>OR</td>\n",
       "      <td>Oregon</td>\n",
       "      <td>POLYGON ((-124.55244 42.84057, -124.50014 42.9...</td>\n",
       "      <td>West</td>\n",
       "      <td>2023</td>\n",
       "      <td>620.478125</td>\n",
       "    </tr>\n",
       "    <tr>\n",
       "      <th>12</th>\n",
       "      <td>42</td>\n",
       "      <td>PA</td>\n",
       "      <td>Pennsylvania</td>\n",
       "      <td>POLYGON ((-80.51989 40.90666, -80.51909 40.921...</td>\n",
       "      <td>Northeast</td>\n",
       "      <td>2023</td>\n",
       "      <td>390.671250</td>\n",
       "    </tr>\n",
       "    <tr>\n",
       "      <th>13</th>\n",
       "      <td>28</td>\n",
       "      <td>MS</td>\n",
       "      <td>Mississippi</td>\n",
       "      <td>MULTIPOLYGON (((-88.51067 30.21702, -88.49238 ...</td>\n",
       "      <td>South</td>\n",
       "      <td>2023</td>\n",
       "      <td>307.416875</td>\n",
       "    </tr>\n",
       "    <tr>\n",
       "      <th>14</th>\n",
       "      <td>29</td>\n",
       "      <td>MO</td>\n",
       "      <td>Missouri</td>\n",
       "      <td>POLYGON ((-95.77355 40.57820, -95.76853 40.583...</td>\n",
       "      <td>Midwest</td>\n",
       "      <td>2023</td>\n",
       "      <td>372.503750</td>\n",
       "    </tr>\n",
       "    <tr>\n",
       "      <th>15</th>\n",
       "      <td>37</td>\n",
       "      <td>NC</td>\n",
       "      <td>North Carolina</td>\n",
       "      <td>MULTIPOLYGON (((-75.72681 35.93584, -75.71827 ...</td>\n",
       "      <td>South</td>\n",
       "      <td>2023</td>\n",
       "      <td>445.008125</td>\n",
       "    </tr>\n",
       "    <tr>\n",
       "      <th>16</th>\n",
       "      <td>40</td>\n",
       "      <td>OK</td>\n",
       "      <td>Oklahoma</td>\n",
       "      <td>POLYGON ((-103.00257 36.52659, -103.00219 36.6...</td>\n",
       "      <td>South</td>\n",
       "      <td>2023</td>\n",
       "      <td>342.002500</td>\n",
       "    </tr>\n",
       "    <tr>\n",
       "      <th>17</th>\n",
       "      <td>54</td>\n",
       "      <td>WV</td>\n",
       "      <td>West Virginia</td>\n",
       "      <td>POLYGON ((-82.64300 38.16956, -82.63905 38.171...</td>\n",
       "      <td>South</td>\n",
       "      <td>2023</td>\n",
       "      <td>306.901875</td>\n",
       "    </tr>\n",
       "    <tr>\n",
       "      <th>18</th>\n",
       "      <td>36</td>\n",
       "      <td>NY</td>\n",
       "      <td>New York</td>\n",
       "      <td>MULTIPOLYGON (((-72.03496 41.25546, -72.02944 ...</td>\n",
       "      <td>Northeast</td>\n",
       "      <td>2023</td>\n",
       "      <td>501.982500</td>\n",
       "    </tr>\n",
       "    <tr>\n",
       "      <th>19</th>\n",
       "      <td>18</td>\n",
       "      <td>IN</td>\n",
       "      <td>Indiana</td>\n",
       "      <td>POLYGON ((-88.09566 37.90581, -88.08624 37.905...</td>\n",
       "      <td>Midwest</td>\n",
       "      <td>2023</td>\n",
       "      <td>347.393125</td>\n",
       "    </tr>\n",
       "    <tr>\n",
       "      <th>20</th>\n",
       "      <td>20</td>\n",
       "      <td>KS</td>\n",
       "      <td>Kansas</td>\n",
       "      <td>POLYGON ((-102.05174 40.00308, -101.91670 40.0...</td>\n",
       "      <td>Midwest</td>\n",
       "      <td>2023</td>\n",
       "      <td>367.190000</td>\n",
       "    </tr>\n",
       "    <tr>\n",
       "      <th>21</th>\n",
       "      <td>16</td>\n",
       "      <td>ID</td>\n",
       "      <td>Idaho</td>\n",
       "      <td>POLYGON ((-117.24267 44.39655, -117.23484 44.3...</td>\n",
       "      <td>West</td>\n",
       "      <td>2023</td>\n",
       "      <td>605.135625</td>\n",
       "    </tr>\n",
       "    <tr>\n",
       "      <th>22</th>\n",
       "      <td>32</td>\n",
       "      <td>NV</td>\n",
       "      <td>Nevada</td>\n",
       "      <td>POLYGON ((-120.00574 39.22866, -120.00526 39.2...</td>\n",
       "      <td>West</td>\n",
       "      <td>2023</td>\n",
       "      <td>427.355625</td>\n",
       "    </tr>\n",
       "    <tr>\n",
       "      <th>23</th>\n",
       "      <td>50</td>\n",
       "      <td>VT</td>\n",
       "      <td>Vermont</td>\n",
       "      <td>POLYGON ((-73.43774 44.04501, -73.43199 44.063...</td>\n",
       "      <td>Northeast</td>\n",
       "      <td>2023</td>\n",
       "      <td>459.363125</td>\n",
       "    </tr>\n",
       "    <tr>\n",
       "      <th>24</th>\n",
       "      <td>30</td>\n",
       "      <td>MT</td>\n",
       "      <td>Montana</td>\n",
       "      <td>POLYGON ((-116.04905 48.48102, -116.04905 48.5...</td>\n",
       "      <td>West</td>\n",
       "      <td>2023</td>\n",
       "      <td>653.357500</td>\n",
       "    </tr>\n",
       "    <tr>\n",
       "      <th>25</th>\n",
       "      <td>27</td>\n",
       "      <td>MN</td>\n",
       "      <td>Minnesota</td>\n",
       "      <td>POLYGON ((-97.23921 48.96868, -97.23802 48.975...</td>\n",
       "      <td>Midwest</td>\n",
       "      <td>2023</td>\n",
       "      <td>426.270000</td>\n",
       "    </tr>\n",
       "    <tr>\n",
       "      <th>26</th>\n",
       "      <td>38</td>\n",
       "      <td>ND</td>\n",
       "      <td>North Dakota</td>\n",
       "      <td>POLYGON ((-104.04865 48.86573, -104.04882 48.8...</td>\n",
       "      <td>Midwest</td>\n",
       "      <td>2023</td>\n",
       "      <td>415.736875</td>\n",
       "    </tr>\n",
       "    <tr>\n",
       "      <th>27</th>\n",
       "      <td>04</td>\n",
       "      <td>AZ</td>\n",
       "      <td>Arizona</td>\n",
       "      <td>POLYGON ((-114.79968 32.59362, -114.80939 32.6...</td>\n",
       "      <td>West</td>\n",
       "      <td>2023</td>\n",
       "      <td>536.976250</td>\n",
       "    </tr>\n",
       "    <tr>\n",
       "      <th>28</th>\n",
       "      <td>10</td>\n",
       "      <td>DE</td>\n",
       "      <td>Delaware</td>\n",
       "      <td>MULTIPOLYGON (((-75.57080 39.62677, -75.55945 ...</td>\n",
       "      <td>South</td>\n",
       "      <td>2023</td>\n",
       "      <td>428.367500</td>\n",
       "    </tr>\n",
       "    <tr>\n",
       "      <th>29</th>\n",
       "      <td>44</td>\n",
       "      <td>RI</td>\n",
       "      <td>Rhode Island</td>\n",
       "      <td>MULTIPOLYGON (((-71.36152 41.46483, -71.34707 ...</td>\n",
       "      <td>Northeast</td>\n",
       "      <td>2023</td>\n",
       "      <td>544.007500</td>\n",
       "    </tr>\n",
       "    <tr>\n",
       "      <th>30</th>\n",
       "      <td>08</td>\n",
       "      <td>CO</td>\n",
       "      <td>Colorado</td>\n",
       "      <td>POLYGON ((-109.06025 38.59933, -109.05954 38.7...</td>\n",
       "      <td>West</td>\n",
       "      <td>2023</td>\n",
       "      <td>652.588750</td>\n",
       "    </tr>\n",
       "    <tr>\n",
       "      <th>31</th>\n",
       "      <td>49</td>\n",
       "      <td>UT</td>\n",
       "      <td>Utah</td>\n",
       "      <td>POLYGON ((-114.05296 37.59278, -114.05247 37.6...</td>\n",
       "      <td>West</td>\n",
       "      <td>2023</td>\n",
       "      <td>658.590625</td>\n",
       "    </tr>\n",
       "    <tr>\n",
       "      <th>32</th>\n",
       "      <td>51</td>\n",
       "      <td>VA</td>\n",
       "      <td>Virginia</td>\n",
       "      <td>MULTIPOLYGON (((-75.99966 37.84820, -75.99686 ...</td>\n",
       "      <td>South</td>\n",
       "      <td>2023</td>\n",
       "      <td>431.048125</td>\n",
       "    </tr>\n",
       "    <tr>\n",
       "      <th>33</th>\n",
       "      <td>56</td>\n",
       "      <td>WY</td>\n",
       "      <td>Wyoming</td>\n",
       "      <td>POLYGON ((-111.05689 44.86666, -111.05563 44.9...</td>\n",
       "      <td>West</td>\n",
       "      <td>2023</td>\n",
       "      <td>465.208750</td>\n",
       "    </tr>\n",
       "    <tr>\n",
       "      <th>34</th>\n",
       "      <td>22</td>\n",
       "      <td>LA</td>\n",
       "      <td>Louisiana</td>\n",
       "      <td>MULTIPOLYGON (((-88.88145 30.05320, -88.87048 ...</td>\n",
       "      <td>South</td>\n",
       "      <td>2023</td>\n",
       "      <td>329.037500</td>\n",
       "    </tr>\n",
       "    <tr>\n",
       "      <th>35</th>\n",
       "      <td>26</td>\n",
       "      <td>MI</td>\n",
       "      <td>Michigan</td>\n",
       "      <td>MULTIPOLYGON (((-84.00966 46.10133, -83.98768 ...</td>\n",
       "      <td>Midwest</td>\n",
       "      <td>2023</td>\n",
       "      <td>372.991250</td>\n",
       "    </tr>\n",
       "    <tr>\n",
       "      <th>36</th>\n",
       "      <td>25</td>\n",
       "      <td>MA</td>\n",
       "      <td>Massachusetts</td>\n",
       "      <td>MULTIPOLYGON (((-70.27553 41.31046, -70.26063 ...</td>\n",
       "      <td>Northeast</td>\n",
       "      <td>2023</td>\n",
       "      <td>682.606875</td>\n",
       "    </tr>\n",
       "    <tr>\n",
       "      <th>37</th>\n",
       "      <td>12</td>\n",
       "      <td>FL</td>\n",
       "      <td>Florida</td>\n",
       "      <td>MULTIPOLYGON (((-80.75164 24.85725, -80.72906 ...</td>\n",
       "      <td>South</td>\n",
       "      <td>2023</td>\n",
       "      <td>587.133125</td>\n",
       "    </tr>\n",
       "    <tr>\n",
       "      <th>38</th>\n",
       "      <td>09</td>\n",
       "      <td>CT</td>\n",
       "      <td>Connecticut</td>\n",
       "      <td>POLYGON ((-73.72777 41.10070, -73.69595 41.115...</td>\n",
       "      <td>Northeast</td>\n",
       "      <td>2023</td>\n",
       "      <td>352.063125</td>\n",
       "    </tr>\n",
       "    <tr>\n",
       "      <th>39</th>\n",
       "      <td>34</td>\n",
       "      <td>NJ</td>\n",
       "      <td>New Jersey</td>\n",
       "      <td>POLYGON ((-75.55910 39.62906, -75.55945 39.629...</td>\n",
       "      <td>Northeast</td>\n",
       "      <td>2023</td>\n",
       "      <td>501.735833</td>\n",
       "    </tr>\n",
       "    <tr>\n",
       "      <th>40</th>\n",
       "      <td>24</td>\n",
       "      <td>MD</td>\n",
       "      <td>Maryland</td>\n",
       "      <td>MULTIPOLYGON (((-76.04940 37.99031, -76.04881 ...</td>\n",
       "      <td>South</td>\n",
       "      <td>2023</td>\n",
       "      <td>410.612500</td>\n",
       "    </tr>\n",
       "    <tr>\n",
       "      <th>41</th>\n",
       "      <td>45</td>\n",
       "      <td>SC</td>\n",
       "      <td>South Carolina</td>\n",
       "      <td>POLYGON ((-83.35324 34.72865, -83.34883 34.737...</td>\n",
       "      <td>South</td>\n",
       "      <td>2023</td>\n",
       "      <td>437.370000</td>\n",
       "    </tr>\n",
       "    <tr>\n",
       "      <th>42</th>\n",
       "      <td>23</td>\n",
       "      <td>ME</td>\n",
       "      <td>Maine</td>\n",
       "      <td>MULTIPOLYGON (((-68.37659 44.11376, -68.37538 ...</td>\n",
       "      <td>Northeast</td>\n",
       "      <td>2023</td>\n",
       "      <td>529.658750</td>\n",
       "    </tr>\n",
       "    <tr>\n",
       "      <th>43</th>\n",
       "      <td>33</td>\n",
       "      <td>NH</td>\n",
       "      <td>New Hampshire</td>\n",
       "      <td>POLYGON ((-72.55725 42.85302, -72.55423 42.860...</td>\n",
       "      <td>Northeast</td>\n",
       "      <td>2023</td>\n",
       "      <td>500.857500</td>\n",
       "    </tr>\n",
       "    <tr>\n",
       "      <th>44</th>\n",
       "      <td>11</td>\n",
       "      <td>DC</td>\n",
       "      <td>District of Columbia</td>\n",
       "      <td>POLYGON ((-77.11976 38.93434, -77.10450 38.946...</td>\n",
       "      <td>South</td>\n",
       "      <td>2023</td>\n",
       "      <td>747.378333</td>\n",
       "    </tr>\n",
       "    <tr>\n",
       "      <th>45</th>\n",
       "      <td>19</td>\n",
       "      <td>IA</td>\n",
       "      <td>Iowa</td>\n",
       "      <td>POLYGON ((-96.63970 42.73707, -96.63589 42.741...</td>\n",
       "      <td>Midwest</td>\n",
       "      <td>2023</td>\n",
       "      <td>348.088750</td>\n",
       "    </tr>\n",
       "    <tr>\n",
       "      <th>46</th>\n",
       "      <td>05</td>\n",
       "      <td>AR</td>\n",
       "      <td>Arkansas</td>\n",
       "      <td>POLYGON ((-94.61792 36.49941, -94.55929 36.499...</td>\n",
       "      <td>South</td>\n",
       "      <td>2023</td>\n",
       "      <td>350.158125</td>\n",
       "    </tr>\n",
       "    <tr>\n",
       "      <th>47</th>\n",
       "      <td>47</td>\n",
       "      <td>TN</td>\n",
       "      <td>Tennessee</td>\n",
       "      <td>POLYGON ((-90.30988 35.00975, -90.30690 35.018...</td>\n",
       "      <td>South</td>\n",
       "      <td>2023</td>\n",
       "      <td>466.087500</td>\n",
       "    </tr>\n",
       "    <tr>\n",
       "      <th>48</th>\n",
       "      <td>17</td>\n",
       "      <td>IL</td>\n",
       "      <td>Illinois</td>\n",
       "      <td>POLYGON ((-91.51297 40.18106, -91.51107 40.188...</td>\n",
       "      <td>Midwest</td>\n",
       "      <td>2023</td>\n",
       "      <td>311.226250</td>\n",
       "    </tr>\n",
       "  </tbody>\n",
       "</table>\n",
       "</div>"
      ],
      "text/plain": [
       "   GEOID place_id                  NAME  \\\n",
       "0     31       NE              Nebraska   \n",
       "1     53       WA            Washington   \n",
       "2     35       NM            New Mexico   \n",
       "3     46       SD          South Dakota   \n",
       "4     48       TX                 Texas   \n",
       "5     06       CA            California   \n",
       "6     21       KY              Kentucky   \n",
       "7     39       OH                  Ohio   \n",
       "8     01       AL               Alabama   \n",
       "9     13       GA               Georgia   \n",
       "10    55       WI             Wisconsin   \n",
       "11    41       OR                Oregon   \n",
       "12    42       PA          Pennsylvania   \n",
       "13    28       MS           Mississippi   \n",
       "14    29       MO              Missouri   \n",
       "15    37       NC        North Carolina   \n",
       "16    40       OK              Oklahoma   \n",
       "17    54       WV         West Virginia   \n",
       "18    36       NY              New York   \n",
       "19    18       IN               Indiana   \n",
       "20    20       KS                Kansas   \n",
       "21    16       ID                 Idaho   \n",
       "22    32       NV                Nevada   \n",
       "23    50       VT               Vermont   \n",
       "24    30       MT               Montana   \n",
       "25    27       MN             Minnesota   \n",
       "26    38       ND          North Dakota   \n",
       "27    04       AZ               Arizona   \n",
       "28    10       DE              Delaware   \n",
       "29    44       RI          Rhode Island   \n",
       "30    08       CO              Colorado   \n",
       "31    49       UT                  Utah   \n",
       "32    51       VA              Virginia   \n",
       "33    56       WY               Wyoming   \n",
       "34    22       LA             Louisiana   \n",
       "35    26       MI              Michigan   \n",
       "36    25       MA         Massachusetts   \n",
       "37    12       FL               Florida   \n",
       "38    09       CT           Connecticut   \n",
       "39    34       NJ            New Jersey   \n",
       "40    24       MD              Maryland   \n",
       "41    45       SC        South Carolina   \n",
       "42    23       ME                 Maine   \n",
       "43    33       NH         New Hampshire   \n",
       "44    11       DC  District of Columbia   \n",
       "45    19       IA                  Iowa   \n",
       "46    05       AR              Arkansas   \n",
       "47    47       TN             Tennessee   \n",
       "48    17       IL              Illinois   \n",
       "\n",
       "                                             geometry     Region  year  \\\n",
       "0   POLYGON ((-104.05351 41.15726, -104.05267 41.2...    Midwest  2023   \n",
       "1   MULTIPOLYGON (((-122.32834 48.02134, -122.3217...       West  2023   \n",
       "2   POLYGON ((-109.05017 31.48000, -109.04984 31.4...       West  2023   \n",
       "3   POLYGON ((-104.05770 44.99743, -104.05021 44.9...    Midwest  2023   \n",
       "4   POLYGON ((-106.64548 31.89867, -106.64084 31.9...      South  2023   \n",
       "5   MULTIPOLYGON (((-118.60337 33.47810, -118.5987...       West  2023   \n",
       "6   MULTIPOLYGON (((-89.40565 36.52817, -89.39869 ...      South  2023   \n",
       "7   MULTIPOLYGON (((-82.73571 41.60336, -82.71880 ...    Midwest  2023   \n",
       "8   MULTIPOLYGON (((-88.04374 30.51742, -88.03661 ...      South  2023   \n",
       "9   POLYGON ((-85.60516 34.98468, -85.55259 34.984...      South  2023   \n",
       "10  MULTIPOLYGON (((-86.95620 45.35201, -86.95339 ...    Midwest  2023   \n",
       "11  POLYGON ((-124.55244 42.84057, -124.50014 42.9...       West  2023   \n",
       "12  POLYGON ((-80.51989 40.90666, -80.51909 40.921...  Northeast  2023   \n",
       "13  MULTIPOLYGON (((-88.51067 30.21702, -88.49238 ...      South  2023   \n",
       "14  POLYGON ((-95.77355 40.57820, -95.76853 40.583...    Midwest  2023   \n",
       "15  MULTIPOLYGON (((-75.72681 35.93584, -75.71827 ...      South  2023   \n",
       "16  POLYGON ((-103.00257 36.52659, -103.00219 36.6...      South  2023   \n",
       "17  POLYGON ((-82.64300 38.16956, -82.63905 38.171...      South  2023   \n",
       "18  MULTIPOLYGON (((-72.03496 41.25546, -72.02944 ...  Northeast  2023   \n",
       "19  POLYGON ((-88.09566 37.90581, -88.08624 37.905...    Midwest  2023   \n",
       "20  POLYGON ((-102.05174 40.00308, -101.91670 40.0...    Midwest  2023   \n",
       "21  POLYGON ((-117.24267 44.39655, -117.23484 44.3...       West  2023   \n",
       "22  POLYGON ((-120.00574 39.22866, -120.00526 39.2...       West  2023   \n",
       "23  POLYGON ((-73.43774 44.04501, -73.43199 44.063...  Northeast  2023   \n",
       "24  POLYGON ((-116.04905 48.48102, -116.04905 48.5...       West  2023   \n",
       "25  POLYGON ((-97.23921 48.96868, -97.23802 48.975...    Midwest  2023   \n",
       "26  POLYGON ((-104.04865 48.86573, -104.04882 48.8...    Midwest  2023   \n",
       "27  POLYGON ((-114.79968 32.59362, -114.80939 32.6...       West  2023   \n",
       "28  MULTIPOLYGON (((-75.57080 39.62677, -75.55945 ...      South  2023   \n",
       "29  MULTIPOLYGON (((-71.36152 41.46483, -71.34707 ...  Northeast  2023   \n",
       "30  POLYGON ((-109.06025 38.59933, -109.05954 38.7...       West  2023   \n",
       "31  POLYGON ((-114.05296 37.59278, -114.05247 37.6...       West  2023   \n",
       "32  MULTIPOLYGON (((-75.99966 37.84820, -75.99686 ...      South  2023   \n",
       "33  POLYGON ((-111.05689 44.86666, -111.05563 44.9...       West  2023   \n",
       "34  MULTIPOLYGON (((-88.88145 30.05320, -88.87048 ...      South  2023   \n",
       "35  MULTIPOLYGON (((-84.00966 46.10133, -83.98768 ...    Midwest  2023   \n",
       "36  MULTIPOLYGON (((-70.27553 41.31046, -70.26063 ...  Northeast  2023   \n",
       "37  MULTIPOLYGON (((-80.75164 24.85725, -80.72906 ...      South  2023   \n",
       "38  POLYGON ((-73.72777 41.10070, -73.69595 41.115...  Northeast  2023   \n",
       "39  POLYGON ((-75.55910 39.62906, -75.55945 39.629...  Northeast  2023   \n",
       "40  MULTIPOLYGON (((-76.04940 37.99031, -76.04881 ...      South  2023   \n",
       "41  POLYGON ((-83.35324 34.72865, -83.34883 34.737...      South  2023   \n",
       "42  MULTIPOLYGON (((-68.37659 44.11376, -68.37538 ...  Northeast  2023   \n",
       "43  POLYGON ((-72.55725 42.85302, -72.55423 42.860...  Northeast  2023   \n",
       "44  POLYGON ((-77.11976 38.93434, -77.10450 38.946...      South  2023   \n",
       "45  POLYGON ((-96.63970 42.73707, -96.63589 42.741...    Midwest  2023   \n",
       "46  POLYGON ((-94.61792 36.49941, -94.55929 36.499...      South  2023   \n",
       "47  POLYGON ((-90.30988 35.00975, -90.30690 35.018...      South  2023   \n",
       "48  POLYGON ((-91.51297 40.18106, -91.51107 40.188...    Midwest  2023   \n",
       "\n",
       "     index_nsa  \n",
       "0   398.535625  \n",
       "1   629.311875  \n",
       "2   388.200625  \n",
       "3   486.631250  \n",
       "4   442.343125  \n",
       "5   519.832500  \n",
       "6   372.313750  \n",
       "7   329.526875  \n",
       "8   348.524375  \n",
       "9   426.908750  \n",
       "10  416.113125  \n",
       "11  620.478125  \n",
       "12  390.671250  \n",
       "13  307.416875  \n",
       "14  372.503750  \n",
       "15  445.008125  \n",
       "16  342.002500  \n",
       "17  306.901875  \n",
       "18  501.982500  \n",
       "19  347.393125  \n",
       "20  367.190000  \n",
       "21  605.135625  \n",
       "22  427.355625  \n",
       "23  459.363125  \n",
       "24  653.357500  \n",
       "25  426.270000  \n",
       "26  415.736875  \n",
       "27  536.976250  \n",
       "28  428.367500  \n",
       "29  544.007500  \n",
       "30  652.588750  \n",
       "31  658.590625  \n",
       "32  431.048125  \n",
       "33  465.208750  \n",
       "34  329.037500  \n",
       "35  372.991250  \n",
       "36  682.606875  \n",
       "37  587.133125  \n",
       "38  352.063125  \n",
       "39  501.735833  \n",
       "40  410.612500  \n",
       "41  437.370000  \n",
       "42  529.658750  \n",
       "43  500.857500  \n",
       "44  747.378333  \n",
       "45  348.088750  \n",
       "46  350.158125  \n",
       "47  466.087500  \n",
       "48  311.226250  "
      ]
     },
     "execution_count": 13,
     "metadata": {},
     "output_type": "execute_result"
    }
   ],
   "source": [
    "merged_df = pd.merge(left=geo_df, right=combined_heat_map_data, how='left', on='place_id')\n",
    "df = merged_df.drop(['year'], axis=1)\n",
    "\n",
    "merged_df.head(50)"
   ]
  },
  {
   "cell_type": "code",
   "execution_count": 14,
   "id": "a61ee20f-107e-471d-84d4-99a02a435c91",
   "metadata": {},
   "outputs": [],
   "source": [
    "# Print the map\n",
    "# Set the range for the choropleth\n",
    "def heatmap():\n",
    "    title = '2023 House price index'\n",
    "    col = 'index_nsa'\n",
    "    source = 'HPI = Current HPI by state'\n",
    "    vmin = df[col].min()\n",
    "    vmax = df[col].max()\n",
    "    cmap = 'Oranges'\n",
    "    # Create figure and axes for Matplotlib\n",
    "    fig, ax = plt.subplots(1, figsize=(20, 8))\n",
    "    # Remove the axis\n",
    "    ax.axis('off')\n",
    "    df.plot(column=col, ax=ax, edgecolor='0.8', linewidth=1, cmap=cmap)\n",
    "    # Add a title\n",
    "    ax.set_title(title, fontdict={'fontsize': '25', 'fontweight': '3'})\n",
    "    # Create an annotation for the data source\n",
    "    ax.annotate(source, xy=(0.1, .08), xycoords='figure fraction', horizontalalignment='left', \n",
    "            verticalalignment='bottom', fontsize=10)\n",
    "\n",
    "            \n",
    "    # Create colorbar as a legend\n",
    "    sm = plt.cm.ScalarMappable(norm=plt.Normalize(vmin=vmin, vmax=vmax), cmap=cmap)\n",
    "    # Empty array for the data range\n",
    "    sm._A = []\n",
    "    # Add the colorbar to the figure\n",
    "    cbaxes = fig.add_axes([0.15, 0.25, 0.01, 0.4])\n",
    "    cbar = fig.colorbar(sm, cax=cbaxes)\n",
    "    return"
   ]
  },
  {
   "cell_type": "code",
   "execution_count": 15,
   "id": "333ba61a-0888-4419-8a84-37900eb19a9c",
   "metadata": {},
   "outputs": [
    {
     "data": {
      "image/png": "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",
      "text/plain": [
       "<Figure size 2000x800 with 2 Axes>"
      ]
     },
     "metadata": {},
     "output_type": "display_data"
    }
   ],
   "source": [
    "heatmap()"
   ]
  },
  {
   "cell_type": "code",
   "execution_count": 16,
   "id": "4a26fa3d-ba65-4556-848b-5365c32cdfbe",
   "metadata": {},
   "outputs": [
    {
     "data": {
      "text/plain": [
       "year                     int64\n",
       "Estimate                 int64\n",
       "Margin of\\nerror1 (±)    int64\n",
       "dtype: object"
      ]
     },
     "execution_count": 16,
     "metadata": {},
     "output_type": "execute_result"
    }
   ],
   "source": [
    "# File to Load \n",
    "median_household_income_data_to_load=\"Resources/income_average.csv\"\n",
    "# Read School and Student Data File and store into Pandas DataFrames\n",
    "median_household_income_data_df = pd.read_csv(median_household_income_data_to_load)\n",
    "#median_household_income_data_df.head(50)\n",
    "Final_median_household_income_data_df = median_household_income_data_df[[\"Year\", \"Estimate\", \"Margin of\\nerror1 (±)\"]]\n",
    "Final_median_household_income_data_df=Final_median_household_income_data_df.rename(columns={\"Year\": \"year\"})\n",
    "Final_median_household_income_data_df.head(22)\n",
    "Final_median_household_income_data_df.dtypes\n",
    "# convert all DataFrame columns to the int64 dtype\n",
    "#Final_median_household_income_data_df = Final_median_household_income_data_df.astype(int)"
   ]
  },
  {
   "cell_type": "code",
   "execution_count": 17,
   "id": "7ef03fe1-2e37-4278-8010-2124c5fc9fe6",
   "metadata": {},
   "outputs": [
    {
     "data": {
      "text/html": [
       "<div>\n",
       "<style scoped>\n",
       "    .dataframe tbody tr th:only-of-type {\n",
       "        vertical-align: middle;\n",
       "    }\n",
       "\n",
       "    .dataframe tbody tr th {\n",
       "        vertical-align: top;\n",
       "    }\n",
       "\n",
       "    .dataframe thead th {\n",
       "        text-align: right;\n",
       "    }\n",
       "</style>\n",
       "<table border=\"1\" class=\"dataframe\">\n",
       "  <thead>\n",
       "    <tr style=\"text-align: right;\">\n",
       "      <th></th>\n",
       "      <th>year</th>\n",
       "      <th>index_nsa</th>\n",
       "      <th>Estimate</th>\n",
       "      <th>Margin of\\nerror1 (±)</th>\n",
       "    </tr>\n",
       "  </thead>\n",
       "  <tbody>\n",
       "    <tr>\n",
       "      <th>0</th>\n",
       "      <td>2022</td>\n",
       "      <td>433.614105</td>\n",
       "      <td>74580</td>\n",
       "      <td>968</td>\n",
       "    </tr>\n",
       "    <tr>\n",
       "      <th>1</th>\n",
       "      <td>2021</td>\n",
       "      <td>378.164673</td>\n",
       "      <td>70780</td>\n",
       "      <td>606</td>\n",
       "    </tr>\n",
       "    <tr>\n",
       "      <th>2</th>\n",
       "      <td>2020</td>\n",
       "      <td>329.137247</td>\n",
       "      <td>68010</td>\n",
       "      <td>880</td>\n",
       "    </tr>\n",
       "    <tr>\n",
       "      <th>3</th>\n",
       "      <td>2019</td>\n",
       "      <td>309.193460</td>\n",
       "      <td>68700</td>\n",
       "      <td>904</td>\n",
       "    </tr>\n",
       "    <tr>\n",
       "      <th>4</th>\n",
       "      <td>2018</td>\n",
       "      <td>294.731797</td>\n",
       "      <td>63180</td>\n",
       "      <td>691</td>\n",
       "    </tr>\n",
       "    <tr>\n",
       "      <th>5</th>\n",
       "      <td>2017</td>\n",
       "      <td>279.542827</td>\n",
       "      <td>61370</td>\n",
       "      <td>551</td>\n",
       "    </tr>\n",
       "    <tr>\n",
       "      <th>6</th>\n",
       "      <td>2016</td>\n",
       "      <td>266.169355</td>\n",
       "      <td>59040</td>\n",
       "      <td>718</td>\n",
       "    </tr>\n",
       "    <tr>\n",
       "      <th>7</th>\n",
       "      <td>2015</td>\n",
       "      <td>254.415617</td>\n",
       "      <td>56520</td>\n",
       "      <td>528</td>\n",
       "    </tr>\n",
       "    <tr>\n",
       "      <th>8</th>\n",
       "      <td>2014</td>\n",
       "      <td>243.368493</td>\n",
       "      <td>53660</td>\n",
       "      <td>645</td>\n",
       "    </tr>\n",
       "  </tbody>\n",
       "</table>\n",
       "</div>"
      ],
      "text/plain": [
       "   year   index_nsa  Estimate  Margin of\\nerror1 (±)\n",
       "0  2022  433.614105     74580                    968\n",
       "1  2021  378.164673     70780                    606\n",
       "2  2020  329.137247     68010                    880\n",
       "3  2019  309.193460     68700                    904\n",
       "4  2018  294.731797     63180                    691\n",
       "5  2017  279.542827     61370                    551\n",
       "6  2016  266.169355     59040                    718\n",
       "7  2015  254.415617     56520                    528\n",
       "8  2014  243.368493     53660                    645"
      ]
     },
     "execution_count": 17,
     "metadata": {},
     "output_type": "execute_result"
    }
   ],
   "source": [
    "final_data = yr_house_price_df_plot.merge(Final_median_household_income_data_df, on='year', how='right') \n",
    "final_data = final_data.drop(final_data.loc[final_data['year'] <= 2013].index)\n",
    "final_data.head(22)"
   ]
  },
  {
   "cell_type": "code",
   "execution_count": 18,
   "id": "bd8bceb5-b098-4869-b6ce-c9333cfdf4f4",
   "metadata": {},
   "outputs": [],
   "source": [
    "# Add the linear regression equation and line to plot\n",
    "def correlation_between_Income_hpi():\n",
    "    x_values = final_data['index_nsa']\n",
    "    y_values = final_data['Estimate']\n",
    "    (slope, intercept, rvalue, pvalue, stderr) = linregress(x_values, y_values)\n",
    "    regress_values = x_values * slope + intercept\n",
    "    line_eq = \"y = \" + str(round(slope,2)) + \"x + \" + str(round(intercept,2))\n",
    "    plt.figure(figsize=(10, 6)) \n",
    "    correlation = st.pearsonr(x_values,y_values)\n",
    "    plt.scatter(x_values,y_values)\n",
    "    plt.plot(x_values,regress_values,\"r-\")\n",
    "    plt.annotate(line_eq,(5.8,0.8),fontsize=15,color=\"red\")\n",
    "    plt.title('The correlation between Income & house price index')\n",
    "    plt.xlabel('price index')\n",
    "    plt.ylabel('income')\n",
    "    print(f\"The correlation between both factors is {round(correlation[0],2)}\")\n",
    "    plt.show()\n",
    "    print(line_eq)\n",
    "    return\n"
   ]
  },
  {
   "cell_type": "code",
   "execution_count": 19,
   "id": "495c7ee1-ff27-42bd-87d9-48c881cd3567",
   "metadata": {},
   "outputs": [
    {
     "name": "stdout",
     "output_type": "stream",
     "text": [
      "The correlation between both factors is 0.94\n"
     ]
    },
    {
     "data": {
      "image/png": "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",
      "text/plain": [
       "<Figure size 1000x600 with 1 Axes>"
      ]
     },
     "metadata": {},
     "output_type": "display_data"
    },
    {
     "name": "stdout",
     "output_type": "stream",
     "text": [
      "y = 105.41x + 31324.48\n"
     ]
    }
   ],
   "source": [
    "correlation_between_Income_hpi()\n"
   ]
  },
  {
   "cell_type": "code",
   "execution_count": 20,
   "id": "d9c1c4f4-c6e9-4645-b993-ef9883cf063f",
   "metadata": {},
   "outputs": [
    {
     "data": {
      "text/html": [
       "<div>\n",
       "<style scoped>\n",
       "    .dataframe tbody tr th:only-of-type {\n",
       "        vertical-align: middle;\n",
       "    }\n",
       "\n",
       "    .dataframe tbody tr th {\n",
       "        vertical-align: top;\n",
       "    }\n",
       "\n",
       "    .dataframe thead th {\n",
       "        text-align: right;\n",
       "    }\n",
       "</style>\n",
       "<table border=\"1\" class=\"dataframe\">\n",
       "  <thead>\n",
       "    <tr style=\"text-align: right;\">\n",
       "      <th></th>\n",
       "      <th>year</th>\n",
       "      <th>index_nsa</th>\n",
       "      <th>index_percentage_change</th>\n",
       "    </tr>\n",
       "  </thead>\n",
       "  <tbody>\n",
       "    <tr>\n",
       "      <th>0</th>\n",
       "      <td>2014</td>\n",
       "      <td>243.368493</td>\n",
       "      <td>NaN</td>\n",
       "    </tr>\n",
       "    <tr>\n",
       "      <th>1</th>\n",
       "      <td>2015</td>\n",
       "      <td>254.415617</td>\n",
       "      <td>4.539258</td>\n",
       "    </tr>\n",
       "    <tr>\n",
       "      <th>2</th>\n",
       "      <td>2016</td>\n",
       "      <td>266.169355</td>\n",
       "      <td>4.619896</td>\n",
       "    </tr>\n",
       "    <tr>\n",
       "      <th>3</th>\n",
       "      <td>2017</td>\n",
       "      <td>279.542827</td>\n",
       "      <td>5.024422</td>\n",
       "    </tr>\n",
       "    <tr>\n",
       "      <th>4</th>\n",
       "      <td>2018</td>\n",
       "      <td>294.731797</td>\n",
       "      <td>5.433504</td>\n",
       "    </tr>\n",
       "    <tr>\n",
       "      <th>5</th>\n",
       "      <td>2019</td>\n",
       "      <td>309.193460</td>\n",
       "      <td>4.906720</td>\n",
       "    </tr>\n",
       "    <tr>\n",
       "      <th>6</th>\n",
       "      <td>2020</td>\n",
       "      <td>329.137247</td>\n",
       "      <td>6.450262</td>\n",
       "    </tr>\n",
       "    <tr>\n",
       "      <th>7</th>\n",
       "      <td>2021</td>\n",
       "      <td>378.164673</td>\n",
       "      <td>14.895739</td>\n",
       "    </tr>\n",
       "    <tr>\n",
       "      <th>8</th>\n",
       "      <td>2022</td>\n",
       "      <td>433.614105</td>\n",
       "      <td>14.662774</td>\n",
       "    </tr>\n",
       "    <tr>\n",
       "      <th>9</th>\n",
       "      <td>2023</td>\n",
       "      <td>457.218354</td>\n",
       "      <td>5.443607</td>\n",
       "    </tr>\n",
       "    <tr>\n",
       "      <th>10</th>\n",
       "      <td>2024</td>\n",
       "      <td>470.383268</td>\n",
       "      <td>2.879349</td>\n",
       "    </tr>\n",
       "  </tbody>\n",
       "</table>\n",
       "</div>"
      ],
      "text/plain": [
       "    year   index_nsa  index_percentage_change\n",
       "0   2014  243.368493                      NaN\n",
       "1   2015  254.415617                 4.539258\n",
       "2   2016  266.169355                 4.619896\n",
       "3   2017  279.542827                 5.024422\n",
       "4   2018  294.731797                 5.433504\n",
       "5   2019  309.193460                 4.906720\n",
       "6   2020  329.137247                 6.450262\n",
       "7   2021  378.164673                14.895739\n",
       "8   2022  433.614105                14.662774\n",
       "9   2023  457.218354                 5.443607\n",
       "10  2024  470.383268                 2.879349"
      ]
     },
     "execution_count": 20,
     "metadata": {},
     "output_type": "execute_result"
    }
   ],
   "source": [
    "#yr_house_price_df_plot.set_index('year')\n",
    "yr_house_price_df_plot1=yr_house_price_df_plot\n",
    "yr_house_price_df_plot1=yr_house_price_df_plot1.set_index('year')\n",
    "#yr_house_price_df_plot1\n",
    "yr_house_price_df_plot1['index_percentage_change'] = yr_house_price_df_plot1.index_nsa.pct_change(periods = 1)\n",
    "yr_house_price_df_plot1['index_percentage_change'] = yr_house_price_df_plot1['index_percentage_change']*100\n",
    "yr_house_price_df_plot1.reset_index()\n",
    "\n",
    "#df.close = df.close.pct_change(periods = 1)"
   ]
  },
  {
   "cell_type": "code",
   "execution_count": 21,
   "id": "eeeda164-e11c-46ea-8a71-ccdf3abee6d8",
   "metadata": {},
   "outputs": [
    {
     "data": {
      "text/html": [
       "<div>\n",
       "<style scoped>\n",
       "    .dataframe tbody tr th:only-of-type {\n",
       "        vertical-align: middle;\n",
       "    }\n",
       "\n",
       "    .dataframe tbody tr th {\n",
       "        vertical-align: top;\n",
       "    }\n",
       "\n",
       "    .dataframe thead th {\n",
       "        text-align: right;\n",
       "    }\n",
       "</style>\n",
       "<table border=\"1\" class=\"dataframe\">\n",
       "  <thead>\n",
       "    <tr style=\"text-align: right;\">\n",
       "      <th></th>\n",
       "      <th>year</th>\n",
       "      <th>index_nsa</th>\n",
       "      <th>index_percentage_change</th>\n",
       "      <th>Jan</th>\n",
       "      <th>Feb</th>\n",
       "      <th>Mar</th>\n",
       "      <th>Apr</th>\n",
       "      <th>May</th>\n",
       "      <th>Jun</th>\n",
       "      <th>Jul</th>\n",
       "      <th>Aug</th>\n",
       "      <th>Sep</th>\n",
       "      <th>Oct</th>\n",
       "      <th>Nov</th>\n",
       "      <th>Dec</th>\n",
       "      <th>Ave</th>\n",
       "    </tr>\n",
       "  </thead>\n",
       "  <tbody>\n",
       "    <tr>\n",
       "      <th>0</th>\n",
       "      <td>2014</td>\n",
       "      <td>243.368493</td>\n",
       "      <td>NaN</td>\n",
       "      <td>1.6</td>\n",
       "      <td>1.1</td>\n",
       "      <td>1.5</td>\n",
       "      <td>2.0</td>\n",
       "      <td>2.1</td>\n",
       "      <td>2.1</td>\n",
       "      <td>2.0</td>\n",
       "      <td>1.7</td>\n",
       "      <td>1.7</td>\n",
       "      <td>1.7</td>\n",
       "      <td>1.3</td>\n",
       "      <td>0.8</td>\n",
       "      <td>1.6</td>\n",
       "    </tr>\n",
       "    <tr>\n",
       "      <th>1</th>\n",
       "      <td>2015</td>\n",
       "      <td>254.415617</td>\n",
       "      <td>4.539258</td>\n",
       "      <td>-0.1</td>\n",
       "      <td>0.0</td>\n",
       "      <td>-0.1</td>\n",
       "      <td>-0.2</td>\n",
       "      <td>0.0</td>\n",
       "      <td>0.1</td>\n",
       "      <td>0.2</td>\n",
       "      <td>0.2</td>\n",
       "      <td>0.0</td>\n",
       "      <td>0.2</td>\n",
       "      <td>0.5</td>\n",
       "      <td>0.7</td>\n",
       "      <td>0.1</td>\n",
       "    </tr>\n",
       "    <tr>\n",
       "      <th>2</th>\n",
       "      <td>2016</td>\n",
       "      <td>266.169355</td>\n",
       "      <td>4.619896</td>\n",
       "      <td>1.4</td>\n",
       "      <td>1.0</td>\n",
       "      <td>0.9</td>\n",
       "      <td>1.1</td>\n",
       "      <td>1.0</td>\n",
       "      <td>1.0</td>\n",
       "      <td>0.8</td>\n",
       "      <td>1.1</td>\n",
       "      <td>1.5</td>\n",
       "      <td>1.6</td>\n",
       "      <td>1.7</td>\n",
       "      <td>2.1</td>\n",
       "      <td>1.3</td>\n",
       "    </tr>\n",
       "    <tr>\n",
       "      <th>3</th>\n",
       "      <td>2017</td>\n",
       "      <td>279.542827</td>\n",
       "      <td>5.024422</td>\n",
       "      <td>2.5</td>\n",
       "      <td>2.7</td>\n",
       "      <td>2.4</td>\n",
       "      <td>2.2</td>\n",
       "      <td>1.9</td>\n",
       "      <td>1.6</td>\n",
       "      <td>1.7</td>\n",
       "      <td>1.9</td>\n",
       "      <td>2.2</td>\n",
       "      <td>2.0</td>\n",
       "      <td>2.2</td>\n",
       "      <td>2.1</td>\n",
       "      <td>2.1</td>\n",
       "    </tr>\n",
       "    <tr>\n",
       "      <th>4</th>\n",
       "      <td>2018</td>\n",
       "      <td>294.731797</td>\n",
       "      <td>5.433504</td>\n",
       "      <td>2.1</td>\n",
       "      <td>2.2</td>\n",
       "      <td>2.4</td>\n",
       "      <td>2.5</td>\n",
       "      <td>2.8</td>\n",
       "      <td>2.9</td>\n",
       "      <td>2.9</td>\n",
       "      <td>2.7</td>\n",
       "      <td>2.3</td>\n",
       "      <td>2.5</td>\n",
       "      <td>2.2</td>\n",
       "      <td>1.9</td>\n",
       "      <td>2.4</td>\n",
       "    </tr>\n",
       "    <tr>\n",
       "      <th>5</th>\n",
       "      <td>2019</td>\n",
       "      <td>309.193460</td>\n",
       "      <td>4.906720</td>\n",
       "      <td>1.6</td>\n",
       "      <td>1.5</td>\n",
       "      <td>1.9</td>\n",
       "      <td>2.0</td>\n",
       "      <td>1.8</td>\n",
       "      <td>1.6</td>\n",
       "      <td>1.8</td>\n",
       "      <td>1.7</td>\n",
       "      <td>1.7</td>\n",
       "      <td>1.8</td>\n",
       "      <td>2.1</td>\n",
       "      <td>2.3</td>\n",
       "      <td>1.8</td>\n",
       "    </tr>\n",
       "    <tr>\n",
       "      <th>6</th>\n",
       "      <td>2020</td>\n",
       "      <td>329.137247</td>\n",
       "      <td>6.450262</td>\n",
       "      <td>2.5</td>\n",
       "      <td>2.3</td>\n",
       "      <td>1.5</td>\n",
       "      <td>0.3</td>\n",
       "      <td>0.1</td>\n",
       "      <td>0.6</td>\n",
       "      <td>1.0</td>\n",
       "      <td>1.3</td>\n",
       "      <td>1.4</td>\n",
       "      <td>1.2</td>\n",
       "      <td>1.2</td>\n",
       "      <td>1.4</td>\n",
       "      <td>1.2</td>\n",
       "    </tr>\n",
       "    <tr>\n",
       "      <th>7</th>\n",
       "      <td>2021</td>\n",
       "      <td>378.164673</td>\n",
       "      <td>14.895739</td>\n",
       "      <td>1.4</td>\n",
       "      <td>1.7</td>\n",
       "      <td>2.6</td>\n",
       "      <td>4.2</td>\n",
       "      <td>5.0</td>\n",
       "      <td>5.4</td>\n",
       "      <td>5.4</td>\n",
       "      <td>5.3</td>\n",
       "      <td>5.4</td>\n",
       "      <td>6.2</td>\n",
       "      <td>6.8</td>\n",
       "      <td>7.0</td>\n",
       "      <td>4.7</td>\n",
       "    </tr>\n",
       "    <tr>\n",
       "      <th>8</th>\n",
       "      <td>2022</td>\n",
       "      <td>433.614105</td>\n",
       "      <td>14.662774</td>\n",
       "      <td>7.5</td>\n",
       "      <td>7.9</td>\n",
       "      <td>8.5</td>\n",
       "      <td>8.3</td>\n",
       "      <td>8.6</td>\n",
       "      <td>9.1</td>\n",
       "      <td>8.5</td>\n",
       "      <td>8.3</td>\n",
       "      <td>8.2</td>\n",
       "      <td>7.7</td>\n",
       "      <td>7.1</td>\n",
       "      <td>6.5</td>\n",
       "      <td>8.0</td>\n",
       "    </tr>\n",
       "    <tr>\n",
       "      <th>9</th>\n",
       "      <td>2023</td>\n",
       "      <td>457.218354</td>\n",
       "      <td>5.443607</td>\n",
       "      <td>6.4</td>\n",
       "      <td>6.0</td>\n",
       "      <td>5.0</td>\n",
       "      <td>4.9</td>\n",
       "      <td>4.0</td>\n",
       "      <td>3.0</td>\n",
       "      <td>3.2</td>\n",
       "      <td>3.7</td>\n",
       "      <td>3.7</td>\n",
       "      <td>3.2</td>\n",
       "      <td>3.1</td>\n",
       "      <td>3.4</td>\n",
       "      <td>4.1</td>\n",
       "    </tr>\n",
       "    <tr>\n",
       "      <th>10</th>\n",
       "      <td>2024</td>\n",
       "      <td>470.383268</td>\n",
       "      <td>2.879349</td>\n",
       "      <td>NaN</td>\n",
       "      <td>NaN</td>\n",
       "      <td>NaN</td>\n",
       "      <td>NaN</td>\n",
       "      <td>NaN</td>\n",
       "      <td>NaN</td>\n",
       "      <td>NaN</td>\n",
       "      <td>NaN</td>\n",
       "      <td>NaN</td>\n",
       "      <td>NaN</td>\n",
       "      <td>NaN</td>\n",
       "      <td>NaN</td>\n",
       "      <td>NaN</td>\n",
       "    </tr>\n",
       "  </tbody>\n",
       "</table>\n",
       "</div>"
      ],
      "text/plain": [
       "    year   index_nsa  index_percentage_change  Jan  Feb  Mar  Apr  May  Jun  \\\n",
       "0   2014  243.368493                      NaN  1.6  1.1  1.5  2.0  2.1  2.1   \n",
       "1   2015  254.415617                 4.539258 -0.1  0.0 -0.1 -0.2  0.0  0.1   \n",
       "2   2016  266.169355                 4.619896  1.4  1.0  0.9  1.1  1.0  1.0   \n",
       "3   2017  279.542827                 5.024422  2.5  2.7  2.4  2.2  1.9  1.6   \n",
       "4   2018  294.731797                 5.433504  2.1  2.2  2.4  2.5  2.8  2.9   \n",
       "5   2019  309.193460                 4.906720  1.6  1.5  1.9  2.0  1.8  1.6   \n",
       "6   2020  329.137247                 6.450262  2.5  2.3  1.5  0.3  0.1  0.6   \n",
       "7   2021  378.164673                14.895739  1.4  1.7  2.6  4.2  5.0  5.4   \n",
       "8   2022  433.614105                14.662774  7.5  7.9  8.5  8.3  8.6  9.1   \n",
       "9   2023  457.218354                 5.443607  6.4  6.0  5.0  4.9  4.0  3.0   \n",
       "10  2024  470.383268                 2.879349  NaN  NaN  NaN  NaN  NaN  NaN   \n",
       "\n",
       "    Jul  Aug  Sep  Oct  Nov  Dec  Ave  \n",
       "0   2.0  1.7  1.7  1.7  1.3  0.8  1.6  \n",
       "1   0.2  0.2  0.0  0.2  0.5  0.7  0.1  \n",
       "2   0.8  1.1  1.5  1.6  1.7  2.1  1.3  \n",
       "3   1.7  1.9  2.2  2.0  2.2  2.1  2.1  \n",
       "4   2.9  2.7  2.3  2.5  2.2  1.9  2.4  \n",
       "5   1.8  1.7  1.7  1.8  2.1  2.3  1.8  \n",
       "6   1.0  1.3  1.4  1.2  1.2  1.4  1.2  \n",
       "7   5.4  5.3  5.4  6.2  6.8  7.0  4.7  \n",
       "8   8.5  8.3  8.2  7.7  7.1  6.5  8.0  \n",
       "9   3.2  3.7  3.7  3.2  3.1  3.4  4.1  \n",
       "10  NaN  NaN  NaN  NaN  NaN  NaN  NaN  "
      ]
     },
     "execution_count": 21,
     "metadata": {},
     "output_type": "execute_result"
    }
   ],
   "source": [
    "# File to Load \n",
    "inflation_rate_to_load=\"Resources/inflation_rate.csv\"\n",
    "\n",
    "# Read School and Student Data File and store into Pandas DataFrames\n",
    "inflation_rate_df = pd.read_csv(inflation_rate_to_load)\n",
    "sorted_df = inflation_rate_df.sort_values(by=['year'], ascending=True)\n",
    "#inflation_rate_df.sort_values('Year')\n",
    "Combined_data_1 = yr_house_price_df_plot1.merge(sorted_df, on='year', how='left')\n",
    "Combined_data_1.head(22)"
   ]
  },
  {
   "cell_type": "code",
   "execution_count": 28,
   "id": "1892d117-0e1c-41a0-bda0-3a0fe9002aa3",
   "metadata": {},
   "outputs": [],
   "source": [
    "\n",
    "Combined_data_1=Combined_data_1.drop(Combined_data_1.loc[Combined_data_1['year'] == 2024].index)\n",
    "Combined_data_1.at[0,'index_percentage_change'] = 0\n",
    "def correlation_between_HPI_CPI():\n",
    "    x_values = Combined_data_1['index_percentage_change']\n",
    "    y_values = Combined_data_1['Ave']\n",
    "    (slope, intercept, rvalue, pvalue, stderr) = linregress(x_values, y_values)\n",
    "    regress_values = x_values * slope + intercept\n",
    "    line_eq = \"y = \" + str(round(slope,2)) + \"x + \" + str(round(intercept,2))\n",
    "    plt.figure(figsize=(10, 6)) \n",
    "    correlation = st.pearsonr(x_values,y_values)\n",
    "    plt.scatter(x_values,y_values)\n",
    "    plt.plot(x_values,regress_values,\"r-\")\n",
    "    plt.annotate(line_eq,(5.8,0.8),fontsize=15,color=\"red\")\n",
    "    plt.title('The correlation between HPI Infation vs CPI Inflation')\n",
    "    plt.xlabel('House Price Index % Growth')\n",
    "    plt.ylabel('CPI Inflation')\n",
    "    print(f\"The correlation between both factors is {round(correlation[0],2)}\")\n",
    "    plt.show()\n",
    "    return"
   ]
  },
  {
   "cell_type": "code",
   "execution_count": 29,
   "id": "20d6eeb8-9ecc-4e29-81a5-5020a4307f9d",
   "metadata": {},
   "outputs": [
    {
     "name": "stdout",
     "output_type": "stream",
     "text": [
      "The correlation between both factors is 0.79\n"
     ]
    },
    {
     "data": {
      "image/png": "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",
      "text/plain": [
       "<Figure size 1000x600 with 1 Axes>"
      ]
     },
     "metadata": {},
     "output_type": "display_data"
    }
   ],
   "source": [
    "correlation_between_HPI_CPI()"
   ]
  },
  {
   "cell_type": "code",
   "execution_count": null,
   "id": "542598ad-b0b8-4d14-8314-bd2e3ff2c89a",
   "metadata": {},
   "outputs": [],
   "source": [
    "#Line graph for HPI growth and CPI Inflation\n",
    "HPI_CPI_plot=Combined_data_1[[\"year\",\"index_percentage_change\",\"Ave\"]]\n",
    "HPI_CPI_plot=HPI_CPI_plot.set_index('year')\n",
    "plot = HPI_CPI_plot.plot(title=\" HPI Inflation vs CPI Inflation\",marker='o')\n",
    "plt.xlabel('year')\n",
    "plt.ylabel('percentage %')\n",
    "plt.show()\n",
    "HPI_CPI_plot = HPI_CPI_plot.reset_index()"
   ]
  },
  {
   "cell_type": "code",
   "execution_count": null,
   "id": "aca76d55-e7f7-40c9-83af-3a802c24462a",
   "metadata": {},
   "outputs": [],
   "source": [
    "import plotly.express as px\n",
    "\n",
    "HPI_CPI_plot = HPI_CPI_plot.rename(columns={\"index_percentage_change\": \"HPI\", \"Ave\": \"CPI\"})\n",
    "def HPI_vs_CPI():\n",
    "    HPI_CPI_plot_piv = pd.melt(HPI_CPI_plot, \n",
    "            id_vars= 'year', \n",
    "            value_vars=list(HPI_CPI_plot.columns[1:]), \n",
    "            var_name= 'Type', \n",
    "            value_name= 'ValuePct')\n",
    "                          \n",
    "                          \n",
    "    HPI_CPI_plot_piv\n",
    "    fig = px.line(HPI_CPI_plot_piv, x=\"year\", y=\"ValuePct\", color='Type', title = 'HPI Inflation VS CPI Inflation')\n",
    "    fig.show()\n",
    "    return"
   ]
  },
  {
   "cell_type": "code",
   "execution_count": null,
   "id": "a47b2474-ad57-4e7b-b120-fc105b168837",
   "metadata": {},
<<<<<<< HEAD
   "outputs": [
    {
     "data": {
      "application/vnd.plotly.v1+json": {
       "config": {
        "plotlyServerURL": "https://plot.ly"
       },
       "data": [
        {
         "hovertemplate": "Type=HPI<br>year=%{x}<br>ValuePct=%{y}<extra></extra>",
         "legendgroup": "HPI",
         "line": {
          "color": "#636efa",
          "dash": "solid"
         },
         "marker": {
          "symbol": "circle"
         },
         "mode": "lines",
         "name": "HPI",
         "orientation": "v",
         "showlegend": true,
         "type": "scatter",
         "x": [
          2014,
          2015,
          2016,
          2017,
          2018,
          2019,
          2020,
          2021,
          2022,
          2023
         ],
         "xaxis": "x",
         "y": [
          0,
          4.539258168898419,
          4.61989633008606,
          5.02442223056363,
          5.433503968693976,
          4.906719502265999,
          6.4502615180844325,
          14.895739378443817,
          14.662773998151879,
          5.4436073305625055
         ],
         "yaxis": "y"
        },
        {
         "hovertemplate": "Type=CPI<br>year=%{x}<br>ValuePct=%{y}<extra></extra>",
         "legendgroup": "CPI",
         "line": {
          "color": "#EF553B",
          "dash": "solid"
         },
         "marker": {
          "symbol": "circle"
         },
         "mode": "lines",
         "name": "CPI",
         "orientation": "v",
         "showlegend": true,
         "type": "scatter",
         "x": [
          2014,
          2015,
          2016,
          2017,
          2018,
          2019,
          2020,
          2021,
          2022,
          2023
         ],
         "xaxis": "x",
         "y": [
          1.6,
          0.1,
          1.3,
          2.1,
          2.4,
          1.8,
          1.2,
          4.7,
          8,
          4.1
         ],
         "yaxis": "y"
        }
       ],
       "layout": {
        "autosize": true,
        "legend": {
         "title": {
          "text": "Type"
         },
         "tracegroupgap": 0
        },
        "template": {
         "data": {
          "bar": [
           {
            "error_x": {
             "color": "#2a3f5f"
            },
            "error_y": {
             "color": "#2a3f5f"
            },
            "marker": {
             "line": {
              "color": "#E5ECF6",
              "width": 0.5
             },
             "pattern": {
              "fillmode": "overlay",
              "size": 10,
              "solidity": 0.2
             }
            },
            "type": "bar"
           }
          ],
          "barpolar": [
           {
            "marker": {
             "line": {
              "color": "#E5ECF6",
              "width": 0.5
             },
             "pattern": {
              "fillmode": "overlay",
              "size": 10,
              "solidity": 0.2
             }
            },
            "type": "barpolar"
           }
          ],
          "carpet": [
           {
            "aaxis": {
             "endlinecolor": "#2a3f5f",
             "gridcolor": "white",
             "linecolor": "white",
             "minorgridcolor": "white",
             "startlinecolor": "#2a3f5f"
            },
            "baxis": {
             "endlinecolor": "#2a3f5f",
             "gridcolor": "white",
             "linecolor": "white",
             "minorgridcolor": "white",
             "startlinecolor": "#2a3f5f"
            },
            "type": "carpet"
           }
          ],
          "choropleth": [
           {
            "colorbar": {
             "outlinewidth": 0,
             "ticks": ""
            },
            "type": "choropleth"
           }
          ],
          "contour": [
           {
            "colorbar": {
             "outlinewidth": 0,
             "ticks": ""
            },
            "colorscale": [
             [
              0,
              "#0d0887"
             ],
             [
              0.1111111111111111,
              "#46039f"
             ],
             [
              0.2222222222222222,
              "#7201a8"
             ],
             [
              0.3333333333333333,
              "#9c179e"
             ],
             [
              0.4444444444444444,
              "#bd3786"
             ],
             [
              0.5555555555555556,
              "#d8576b"
             ],
             [
              0.6666666666666666,
              "#ed7953"
             ],
             [
              0.7777777777777778,
              "#fb9f3a"
             ],
             [
              0.8888888888888888,
              "#fdca26"
             ],
             [
              1,
              "#f0f921"
             ]
            ],
            "type": "contour"
           }
          ],
          "contourcarpet": [
           {
            "colorbar": {
             "outlinewidth": 0,
             "ticks": ""
            },
            "type": "contourcarpet"
           }
          ],
          "heatmap": [
           {
            "colorbar": {
             "outlinewidth": 0,
             "ticks": ""
            },
            "colorscale": [
             [
              0,
              "#0d0887"
             ],
             [
              0.1111111111111111,
              "#46039f"
             ],
             [
              0.2222222222222222,
              "#7201a8"
             ],
             [
              0.3333333333333333,
              "#9c179e"
             ],
             [
              0.4444444444444444,
              "#bd3786"
             ],
             [
              0.5555555555555556,
              "#d8576b"
             ],
             [
              0.6666666666666666,
              "#ed7953"
             ],
             [
              0.7777777777777778,
              "#fb9f3a"
             ],
             [
              0.8888888888888888,
              "#fdca26"
             ],
             [
              1,
              "#f0f921"
             ]
            ],
            "type": "heatmap"
           }
          ],
          "heatmapgl": [
           {
            "colorbar": {
             "outlinewidth": 0,
             "ticks": ""
            },
            "colorscale": [
             [
              0,
              "#0d0887"
             ],
             [
              0.1111111111111111,
              "#46039f"
             ],
             [
              0.2222222222222222,
              "#7201a8"
             ],
             [
              0.3333333333333333,
              "#9c179e"
             ],
             [
              0.4444444444444444,
              "#bd3786"
             ],
             [
              0.5555555555555556,
              "#d8576b"
             ],
             [
              0.6666666666666666,
              "#ed7953"
             ],
             [
              0.7777777777777778,
              "#fb9f3a"
             ],
             [
              0.8888888888888888,
              "#fdca26"
             ],
             [
              1,
              "#f0f921"
             ]
            ],
            "type": "heatmapgl"
           }
          ],
          "histogram": [
           {
            "marker": {
             "pattern": {
              "fillmode": "overlay",
              "size": 10,
              "solidity": 0.2
             }
            },
            "type": "histogram"
           }
          ],
          "histogram2d": [
           {
            "colorbar": {
             "outlinewidth": 0,
             "ticks": ""
            },
            "colorscale": [
             [
              0,
              "#0d0887"
             ],
             [
              0.1111111111111111,
              "#46039f"
             ],
             [
              0.2222222222222222,
              "#7201a8"
             ],
             [
              0.3333333333333333,
              "#9c179e"
             ],
             [
              0.4444444444444444,
              "#bd3786"
             ],
             [
              0.5555555555555556,
              "#d8576b"
             ],
             [
              0.6666666666666666,
              "#ed7953"
             ],
             [
              0.7777777777777778,
              "#fb9f3a"
             ],
             [
              0.8888888888888888,
              "#fdca26"
             ],
             [
              1,
              "#f0f921"
             ]
            ],
            "type": "histogram2d"
           }
          ],
          "histogram2dcontour": [
           {
            "colorbar": {
             "outlinewidth": 0,
             "ticks": ""
            },
            "colorscale": [
             [
              0,
              "#0d0887"
             ],
             [
              0.1111111111111111,
              "#46039f"
             ],
             [
              0.2222222222222222,
              "#7201a8"
             ],
             [
              0.3333333333333333,
              "#9c179e"
             ],
             [
              0.4444444444444444,
              "#bd3786"
             ],
             [
              0.5555555555555556,
              "#d8576b"
             ],
             [
              0.6666666666666666,
              "#ed7953"
             ],
             [
              0.7777777777777778,
              "#fb9f3a"
             ],
             [
              0.8888888888888888,
              "#fdca26"
             ],
             [
              1,
              "#f0f921"
             ]
            ],
            "type": "histogram2dcontour"
           }
          ],
          "mesh3d": [
           {
            "colorbar": {
             "outlinewidth": 0,
             "ticks": ""
            },
            "type": "mesh3d"
           }
          ],
          "parcoords": [
           {
            "line": {
             "colorbar": {
              "outlinewidth": 0,
              "ticks": ""
             }
            },
            "type": "parcoords"
           }
          ],
          "pie": [
           {
            "automargin": true,
            "type": "pie"
           }
          ],
          "scatter": [
           {
            "fillpattern": {
             "fillmode": "overlay",
             "size": 10,
             "solidity": 0.2
            },
            "type": "scatter"
           }
          ],
          "scatter3d": [
           {
            "line": {
             "colorbar": {
              "outlinewidth": 0,
              "ticks": ""
             }
            },
            "marker": {
             "colorbar": {
              "outlinewidth": 0,
              "ticks": ""
             }
            },
            "type": "scatter3d"
           }
          ],
          "scattercarpet": [
           {
            "marker": {
             "colorbar": {
              "outlinewidth": 0,
              "ticks": ""
             }
            },
            "type": "scattercarpet"
           }
          ],
          "scattergeo": [
           {
            "marker": {
             "colorbar": {
              "outlinewidth": 0,
              "ticks": ""
             }
            },
            "type": "scattergeo"
           }
          ],
          "scattergl": [
           {
            "marker": {
             "colorbar": {
              "outlinewidth": 0,
              "ticks": ""
             }
            },
            "type": "scattergl"
           }
          ],
          "scattermapbox": [
           {
            "marker": {
             "colorbar": {
              "outlinewidth": 0,
              "ticks": ""
             }
            },
            "type": "scattermapbox"
           }
          ],
          "scatterpolar": [
           {
            "marker": {
             "colorbar": {
              "outlinewidth": 0,
              "ticks": ""
             }
            },
            "type": "scatterpolar"
           }
          ],
          "scatterpolargl": [
           {
            "marker": {
             "colorbar": {
              "outlinewidth": 0,
              "ticks": ""
             }
            },
            "type": "scatterpolargl"
           }
          ],
          "scatterternary": [
           {
            "marker": {
             "colorbar": {
              "outlinewidth": 0,
              "ticks": ""
             }
            },
            "type": "scatterternary"
           }
          ],
          "surface": [
           {
            "colorbar": {
             "outlinewidth": 0,
             "ticks": ""
            },
            "colorscale": [
             [
              0,
              "#0d0887"
             ],
             [
              0.1111111111111111,
              "#46039f"
             ],
             [
              0.2222222222222222,
              "#7201a8"
             ],
             [
              0.3333333333333333,
              "#9c179e"
             ],
             [
              0.4444444444444444,
              "#bd3786"
             ],
             [
              0.5555555555555556,
              "#d8576b"
             ],
             [
              0.6666666666666666,
              "#ed7953"
             ],
             [
              0.7777777777777778,
              "#fb9f3a"
             ],
             [
              0.8888888888888888,
              "#fdca26"
             ],
             [
              1,
              "#f0f921"
             ]
            ],
            "type": "surface"
           }
          ],
          "table": [
           {
            "cells": {
             "fill": {
              "color": "#EBF0F8"
             },
             "line": {
              "color": "white"
             }
            },
            "header": {
             "fill": {
              "color": "#C8D4E3"
             },
             "line": {
              "color": "white"
             }
            },
            "type": "table"
           }
          ]
         },
         "layout": {
          "annotationdefaults": {
           "arrowcolor": "#2a3f5f",
           "arrowhead": 0,
           "arrowwidth": 1
          },
          "autotypenumbers": "strict",
          "coloraxis": {
           "colorbar": {
            "outlinewidth": 0,
            "ticks": ""
           }
          },
          "colorscale": {
           "diverging": [
            [
             0,
             "#8e0152"
            ],
            [
             0.1,
             "#c51b7d"
            ],
            [
             0.2,
             "#de77ae"
            ],
            [
             0.3,
             "#f1b6da"
            ],
            [
             0.4,
             "#fde0ef"
            ],
            [
             0.5,
             "#f7f7f7"
            ],
            [
             0.6,
             "#e6f5d0"
            ],
            [
             0.7,
             "#b8e186"
            ],
            [
             0.8,
             "#7fbc41"
            ],
            [
             0.9,
             "#4d9221"
            ],
            [
             1,
             "#276419"
            ]
           ],
           "sequential": [
            [
             0,
             "#0d0887"
            ],
            [
             0.1111111111111111,
             "#46039f"
            ],
            [
             0.2222222222222222,
             "#7201a8"
            ],
            [
             0.3333333333333333,
             "#9c179e"
            ],
            [
             0.4444444444444444,
             "#bd3786"
            ],
            [
             0.5555555555555556,
             "#d8576b"
            ],
            [
             0.6666666666666666,
             "#ed7953"
            ],
            [
             0.7777777777777778,
             "#fb9f3a"
            ],
            [
             0.8888888888888888,
             "#fdca26"
            ],
            [
             1,
             "#f0f921"
            ]
           ],
           "sequentialminus": [
            [
             0,
             "#0d0887"
            ],
            [
             0.1111111111111111,
             "#46039f"
            ],
            [
             0.2222222222222222,
             "#7201a8"
            ],
            [
             0.3333333333333333,
             "#9c179e"
            ],
            [
             0.4444444444444444,
             "#bd3786"
            ],
            [
             0.5555555555555556,
             "#d8576b"
            ],
            [
             0.6666666666666666,
             "#ed7953"
            ],
            [
             0.7777777777777778,
             "#fb9f3a"
            ],
            [
             0.8888888888888888,
             "#fdca26"
            ],
            [
             1,
             "#f0f921"
            ]
           ]
          },
          "colorway": [
           "#636efa",
           "#EF553B",
           "#00cc96",
           "#ab63fa",
           "#FFA15A",
           "#19d3f3",
           "#FF6692",
           "#B6E880",
           "#FF97FF",
           "#FECB52"
          ],
          "font": {
           "color": "#2a3f5f"
          },
          "geo": {
           "bgcolor": "white",
           "lakecolor": "white",
           "landcolor": "#E5ECF6",
           "showlakes": true,
           "showland": true,
           "subunitcolor": "white"
          },
          "hoverlabel": {
           "align": "left"
          },
          "hovermode": "closest",
          "mapbox": {
           "style": "light"
          },
          "paper_bgcolor": "white",
          "plot_bgcolor": "#E5ECF6",
          "polar": {
           "angularaxis": {
            "gridcolor": "white",
            "linecolor": "white",
            "ticks": ""
           },
           "bgcolor": "#E5ECF6",
           "radialaxis": {
            "gridcolor": "white",
            "linecolor": "white",
            "ticks": ""
           }
          },
          "scene": {
           "xaxis": {
            "backgroundcolor": "#E5ECF6",
            "gridcolor": "white",
            "gridwidth": 2,
            "linecolor": "white",
            "showbackground": true,
            "ticks": "",
            "zerolinecolor": "white"
           },
           "yaxis": {
            "backgroundcolor": "#E5ECF6",
            "gridcolor": "white",
            "gridwidth": 2,
            "linecolor": "white",
            "showbackground": true,
            "ticks": "",
            "zerolinecolor": "white"
           },
           "zaxis": {
            "backgroundcolor": "#E5ECF6",
            "gridcolor": "white",
            "gridwidth": 2,
            "linecolor": "white",
            "showbackground": true,
            "ticks": "",
            "zerolinecolor": "white"
           }
          },
          "shapedefaults": {
           "line": {
            "color": "#2a3f5f"
           }
          },
          "ternary": {
           "aaxis": {
            "gridcolor": "white",
            "linecolor": "white",
            "ticks": ""
           },
           "baxis": {
            "gridcolor": "white",
            "linecolor": "white",
            "ticks": ""
           },
           "bgcolor": "#E5ECF6",
           "caxis": {
            "gridcolor": "white",
            "linecolor": "white",
            "ticks": ""
           }
          },
          "title": {
           "x": 0.05
          },
          "xaxis": {
           "automargin": true,
           "gridcolor": "white",
           "linecolor": "white",
           "ticks": "",
           "title": {
            "standoff": 15
           },
           "zerolinecolor": "white",
           "zerolinewidth": 2
          },
          "yaxis": {
           "automargin": true,
           "gridcolor": "white",
           "linecolor": "white",
           "ticks": "",
           "title": {
            "standoff": 15
           },
           "zerolinecolor": "white",
           "zerolinewidth": 2
          }
         }
        },
        "title": {
         "text": "HPI Inflation VS CPI Inflation"
        },
        "xaxis": {
         "anchor": "y",
         "autorange": false,
         "domain": [
          0,
          1
         ],
         "range": [
          2014.6594358762795,
          2023.6594358762795
         ],
         "title": {
          "text": "year"
         },
         "type": "linear"
        },
        "yaxis": {
         "anchor": "x",
         "autorange": true,
         "domain": [
          0,
          1
         ],
         "range": [
          -0.827541076580212,
          15.72328045502403
         ],
         "title": {
          "text": "ValuePct"
         },
         "type": "linear"
        }
       }
      },
      "image/png": "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",
      "text/html": [
       "<div>                            <div id=\"222398be-5027-4467-8095-069b7aa63baa\" class=\"plotly-graph-div\" style=\"height:525px; width:100%;\"></div>            <script type=\"text/javascript\">                require([\"plotly\"], function(Plotly) {                    window.PLOTLYENV=window.PLOTLYENV || {};                                    if (document.getElementById(\"222398be-5027-4467-8095-069b7aa63baa\")) {                    Plotly.newPlot(                        \"222398be-5027-4467-8095-069b7aa63baa\",                        [{\"hovertemplate\":\"Type=HPI\\u003cbr\\u003eyear=%{x}\\u003cbr\\u003eValuePct=%{y}\\u003cextra\\u003e\\u003c\\u002fextra\\u003e\",\"legendgroup\":\"HPI\",\"line\":{\"color\":\"#636efa\",\"dash\":\"solid\"},\"marker\":{\"symbol\":\"circle\"},\"mode\":\"lines\",\"name\":\"HPI\",\"orientation\":\"v\",\"showlegend\":true,\"x\":[2014,2015,2016,2017,2018,2019,2020,2021,2022,2023],\"xaxis\":\"x\",\"y\":[0.0,4.539258168898419,4.61989633008606,5.02442223056363,5.433503968693976,4.906719502265999,6.4502615180844325,14.895739378443817,14.662773998151879,5.4436073305625055],\"yaxis\":\"y\",\"type\":\"scatter\"},{\"hovertemplate\":\"Type=CPI\\u003cbr\\u003eyear=%{x}\\u003cbr\\u003eValuePct=%{y}\\u003cextra\\u003e\\u003c\\u002fextra\\u003e\",\"legendgroup\":\"CPI\",\"line\":{\"color\":\"#EF553B\",\"dash\":\"solid\"},\"marker\":{\"symbol\":\"circle\"},\"mode\":\"lines\",\"name\":\"CPI\",\"orientation\":\"v\",\"showlegend\":true,\"x\":[2014,2015,2016,2017,2018,2019,2020,2021,2022,2023],\"xaxis\":\"x\",\"y\":[1.6,0.1,1.3,2.1,2.4,1.8,1.2,4.7,8.0,4.1],\"yaxis\":\"y\",\"type\":\"scatter\"}],                        {\"template\":{\"data\":{\"histogram2dcontour\":[{\"type\":\"histogram2dcontour\",\"colorbar\":{\"outlinewidth\":0,\"ticks\":\"\"},\"colorscale\":[[0.0,\"#0d0887\"],[0.1111111111111111,\"#46039f\"],[0.2222222222222222,\"#7201a8\"],[0.3333333333333333,\"#9c179e\"],[0.4444444444444444,\"#bd3786\"],[0.5555555555555556,\"#d8576b\"],[0.6666666666666666,\"#ed7953\"],[0.7777777777777778,\"#fb9f3a\"],[0.8888888888888888,\"#fdca26\"],[1.0,\"#f0f921\"]]}],\"choropleth\":[{\"type\":\"choropleth\",\"colorbar\":{\"outlinewidth\":0,\"ticks\":\"\"}}],\"histogram2d\":[{\"type\":\"histogram2d\",\"colorbar\":{\"outlinewidth\":0,\"ticks\":\"\"},\"colorscale\":[[0.0,\"#0d0887\"],[0.1111111111111111,\"#46039f\"],[0.2222222222222222,\"#7201a8\"],[0.3333333333333333,\"#9c179e\"],[0.4444444444444444,\"#bd3786\"],[0.5555555555555556,\"#d8576b\"],[0.6666666666666666,\"#ed7953\"],[0.7777777777777778,\"#fb9f3a\"],[0.8888888888888888,\"#fdca26\"],[1.0,\"#f0f921\"]]}],\"heatmap\":[{\"type\":\"heatmap\",\"colorbar\":{\"outlinewidth\":0,\"ticks\":\"\"},\"colorscale\":[[0.0,\"#0d0887\"],[0.1111111111111111,\"#46039f\"],[0.2222222222222222,\"#7201a8\"],[0.3333333333333333,\"#9c179e\"],[0.4444444444444444,\"#bd3786\"],[0.5555555555555556,\"#d8576b\"],[0.6666666666666666,\"#ed7953\"],[0.7777777777777778,\"#fb9f3a\"],[0.8888888888888888,\"#fdca26\"],[1.0,\"#f0f921\"]]}],\"heatmapgl\":[{\"type\":\"heatmapgl\",\"colorbar\":{\"outlinewidth\":0,\"ticks\":\"\"},\"colorscale\":[[0.0,\"#0d0887\"],[0.1111111111111111,\"#46039f\"],[0.2222222222222222,\"#7201a8\"],[0.3333333333333333,\"#9c179e\"],[0.4444444444444444,\"#bd3786\"],[0.5555555555555556,\"#d8576b\"],[0.6666666666666666,\"#ed7953\"],[0.7777777777777778,\"#fb9f3a\"],[0.8888888888888888,\"#fdca26\"],[1.0,\"#f0f921\"]]}],\"contourcarpet\":[{\"type\":\"contourcarpet\",\"colorbar\":{\"outlinewidth\":0,\"ticks\":\"\"}}],\"contour\":[{\"type\":\"contour\",\"colorbar\":{\"outlinewidth\":0,\"ticks\":\"\"},\"colorscale\":[[0.0,\"#0d0887\"],[0.1111111111111111,\"#46039f\"],[0.2222222222222222,\"#7201a8\"],[0.3333333333333333,\"#9c179e\"],[0.4444444444444444,\"#bd3786\"],[0.5555555555555556,\"#d8576b\"],[0.6666666666666666,\"#ed7953\"],[0.7777777777777778,\"#fb9f3a\"],[0.8888888888888888,\"#fdca26\"],[1.0,\"#f0f921\"]]}],\"surface\":[{\"type\":\"surface\",\"colorbar\":{\"outlinewidth\":0,\"ticks\":\"\"},\"colorscale\":[[0.0,\"#0d0887\"],[0.1111111111111111,\"#46039f\"],[0.2222222222222222,\"#7201a8\"],[0.3333333333333333,\"#9c179e\"],[0.4444444444444444,\"#bd3786\"],[0.5555555555555556,\"#d8576b\"],[0.6666666666666666,\"#ed7953\"],[0.7777777777777778,\"#fb9f3a\"],[0.8888888888888888,\"#fdca26\"],[1.0,\"#f0f921\"]]}],\"mesh3d\":[{\"type\":\"mesh3d\",\"colorbar\":{\"outlinewidth\":0,\"ticks\":\"\"}}],\"scatter\":[{\"fillpattern\":{\"fillmode\":\"overlay\",\"size\":10,\"solidity\":0.2},\"type\":\"scatter\"}],\"parcoords\":[{\"type\":\"parcoords\",\"line\":{\"colorbar\":{\"outlinewidth\":0,\"ticks\":\"\"}}}],\"scatterpolargl\":[{\"type\":\"scatterpolargl\",\"marker\":{\"colorbar\":{\"outlinewidth\":0,\"ticks\":\"\"}}}],\"bar\":[{\"error_x\":{\"color\":\"#2a3f5f\"},\"error_y\":{\"color\":\"#2a3f5f\"},\"marker\":{\"line\":{\"color\":\"#E5ECF6\",\"width\":0.5},\"pattern\":{\"fillmode\":\"overlay\",\"size\":10,\"solidity\":0.2}},\"type\":\"bar\"}],\"scattergeo\":[{\"type\":\"scattergeo\",\"marker\":{\"colorbar\":{\"outlinewidth\":0,\"ticks\":\"\"}}}],\"scatterpolar\":[{\"type\":\"scatterpolar\",\"marker\":{\"colorbar\":{\"outlinewidth\":0,\"ticks\":\"\"}}}],\"histogram\":[{\"marker\":{\"pattern\":{\"fillmode\":\"overlay\",\"size\":10,\"solidity\":0.2}},\"type\":\"histogram\"}],\"scattergl\":[{\"type\":\"scattergl\",\"marker\":{\"colorbar\":{\"outlinewidth\":0,\"ticks\":\"\"}}}],\"scatter3d\":[{\"type\":\"scatter3d\",\"line\":{\"colorbar\":{\"outlinewidth\":0,\"ticks\":\"\"}},\"marker\":{\"colorbar\":{\"outlinewidth\":0,\"ticks\":\"\"}}}],\"scattermapbox\":[{\"type\":\"scattermapbox\",\"marker\":{\"colorbar\":{\"outlinewidth\":0,\"ticks\":\"\"}}}],\"scatterternary\":[{\"type\":\"scatterternary\",\"marker\":{\"colorbar\":{\"outlinewidth\":0,\"ticks\":\"\"}}}],\"scattercarpet\":[{\"type\":\"scattercarpet\",\"marker\":{\"colorbar\":{\"outlinewidth\":0,\"ticks\":\"\"}}}],\"carpet\":[{\"aaxis\":{\"endlinecolor\":\"#2a3f5f\",\"gridcolor\":\"white\",\"linecolor\":\"white\",\"minorgridcolor\":\"white\",\"startlinecolor\":\"#2a3f5f\"},\"baxis\":{\"endlinecolor\":\"#2a3f5f\",\"gridcolor\":\"white\",\"linecolor\":\"white\",\"minorgridcolor\":\"white\",\"startlinecolor\":\"#2a3f5f\"},\"type\":\"carpet\"}],\"table\":[{\"cells\":{\"fill\":{\"color\":\"#EBF0F8\"},\"line\":{\"color\":\"white\"}},\"header\":{\"fill\":{\"color\":\"#C8D4E3\"},\"line\":{\"color\":\"white\"}},\"type\":\"table\"}],\"barpolar\":[{\"marker\":{\"line\":{\"color\":\"#E5ECF6\",\"width\":0.5},\"pattern\":{\"fillmode\":\"overlay\",\"size\":10,\"solidity\":0.2}},\"type\":\"barpolar\"}],\"pie\":[{\"automargin\":true,\"type\":\"pie\"}]},\"layout\":{\"autotypenumbers\":\"strict\",\"colorway\":[\"#636efa\",\"#EF553B\",\"#00cc96\",\"#ab63fa\",\"#FFA15A\",\"#19d3f3\",\"#FF6692\",\"#B6E880\",\"#FF97FF\",\"#FECB52\"],\"font\":{\"color\":\"#2a3f5f\"},\"hovermode\":\"closest\",\"hoverlabel\":{\"align\":\"left\"},\"paper_bgcolor\":\"white\",\"plot_bgcolor\":\"#E5ECF6\",\"polar\":{\"bgcolor\":\"#E5ECF6\",\"angularaxis\":{\"gridcolor\":\"white\",\"linecolor\":\"white\",\"ticks\":\"\"},\"radialaxis\":{\"gridcolor\":\"white\",\"linecolor\":\"white\",\"ticks\":\"\"}},\"ternary\":{\"bgcolor\":\"#E5ECF6\",\"aaxis\":{\"gridcolor\":\"white\",\"linecolor\":\"white\",\"ticks\":\"\"},\"baxis\":{\"gridcolor\":\"white\",\"linecolor\":\"white\",\"ticks\":\"\"},\"caxis\":{\"gridcolor\":\"white\",\"linecolor\":\"white\",\"ticks\":\"\"}},\"coloraxis\":{\"colorbar\":{\"outlinewidth\":0,\"ticks\":\"\"}},\"colorscale\":{\"sequential\":[[0.0,\"#0d0887\"],[0.1111111111111111,\"#46039f\"],[0.2222222222222222,\"#7201a8\"],[0.3333333333333333,\"#9c179e\"],[0.4444444444444444,\"#bd3786\"],[0.5555555555555556,\"#d8576b\"],[0.6666666666666666,\"#ed7953\"],[0.7777777777777778,\"#fb9f3a\"],[0.8888888888888888,\"#fdca26\"],[1.0,\"#f0f921\"]],\"sequentialminus\":[[0.0,\"#0d0887\"],[0.1111111111111111,\"#46039f\"],[0.2222222222222222,\"#7201a8\"],[0.3333333333333333,\"#9c179e\"],[0.4444444444444444,\"#bd3786\"],[0.5555555555555556,\"#d8576b\"],[0.6666666666666666,\"#ed7953\"],[0.7777777777777778,\"#fb9f3a\"],[0.8888888888888888,\"#fdca26\"],[1.0,\"#f0f921\"]],\"diverging\":[[0,\"#8e0152\"],[0.1,\"#c51b7d\"],[0.2,\"#de77ae\"],[0.3,\"#f1b6da\"],[0.4,\"#fde0ef\"],[0.5,\"#f7f7f7\"],[0.6,\"#e6f5d0\"],[0.7,\"#b8e186\"],[0.8,\"#7fbc41\"],[0.9,\"#4d9221\"],[1,\"#276419\"]]},\"xaxis\":{\"gridcolor\":\"white\",\"linecolor\":\"white\",\"ticks\":\"\",\"title\":{\"standoff\":15},\"zerolinecolor\":\"white\",\"automargin\":true,\"zerolinewidth\":2},\"yaxis\":{\"gridcolor\":\"white\",\"linecolor\":\"white\",\"ticks\":\"\",\"title\":{\"standoff\":15},\"zerolinecolor\":\"white\",\"automargin\":true,\"zerolinewidth\":2},\"scene\":{\"xaxis\":{\"backgroundcolor\":\"#E5ECF6\",\"gridcolor\":\"white\",\"linecolor\":\"white\",\"showbackground\":true,\"ticks\":\"\",\"zerolinecolor\":\"white\",\"gridwidth\":2},\"yaxis\":{\"backgroundcolor\":\"#E5ECF6\",\"gridcolor\":\"white\",\"linecolor\":\"white\",\"showbackground\":true,\"ticks\":\"\",\"zerolinecolor\":\"white\",\"gridwidth\":2},\"zaxis\":{\"backgroundcolor\":\"#E5ECF6\",\"gridcolor\":\"white\",\"linecolor\":\"white\",\"showbackground\":true,\"ticks\":\"\",\"zerolinecolor\":\"white\",\"gridwidth\":2}},\"shapedefaults\":{\"line\":{\"color\":\"#2a3f5f\"}},\"annotationdefaults\":{\"arrowcolor\":\"#2a3f5f\",\"arrowhead\":0,\"arrowwidth\":1},\"geo\":{\"bgcolor\":\"white\",\"landcolor\":\"#E5ECF6\",\"subunitcolor\":\"white\",\"showland\":true,\"showlakes\":true,\"lakecolor\":\"white\"},\"title\":{\"x\":0.05},\"mapbox\":{\"style\":\"light\"}}},\"xaxis\":{\"anchor\":\"y\",\"domain\":[0.0,1.0],\"title\":{\"text\":\"year\"}},\"yaxis\":{\"anchor\":\"x\",\"domain\":[0.0,1.0],\"title\":{\"text\":\"ValuePct\"}},\"legend\":{\"title\":{\"text\":\"Type\"},\"tracegroupgap\":0},\"title\":{\"text\":\"HPI Inflation VS CPI Inflation\"}},                        {\"responsive\": true}                    ).then(function(){\n",
       "                            \n",
       "var gd = document.getElementById('222398be-5027-4467-8095-069b7aa63baa');\n",
       "var x = new MutationObserver(function (mutations, observer) {{\n",
       "        var display = window.getComputedStyle(gd).display;\n",
       "        if (!display || display === 'none') {{\n",
       "            console.log([gd, 'removed!']);\n",
       "            Plotly.purge(gd);\n",
       "            observer.disconnect();\n",
       "        }}\n",
       "}});\n",
       "\n",
       "// Listen for the removal of the full notebook cells\n",
       "var notebookContainer = gd.closest('#notebook-container');\n",
       "if (notebookContainer) {{\n",
       "    x.observe(notebookContainer, {childList: true});\n",
       "}}\n",
       "\n",
       "// Listen for the clearing of the current output cell\n",
       "var outputEl = gd.closest('.output');\n",
       "if (outputEl) {{\n",
       "    x.observe(outputEl, {childList: true});\n",
       "}}\n",
       "\n",
       "                        })                };                });            </script>        </div>"
      ]
     },
     "metadata": {},
     "output_type": "display_data"
    }
   ],
=======
   "outputs": [],
>>>>>>> b227d596066be889d7dadaa2c6a21b049dd304ea
   "source": [
    "HPI_vs_CPI()"
   ]
  },
  {
   "cell_type": "code",
   "execution_count": null,
   "id": "4a51b4b7-75f4-4650-a75c-d0cfa8f5dd28",
   "metadata": {},
   "outputs": [],
   "source": [
    "# File to Load \n",
    "mortgage_rate_to_load=\"Resources/MORTgage_rate.csv\"\n",
    "\n",
    "# Read School and Student Data File and store into Pandas DataFrames\n",
    "mortgage_rate_df = pd.read_csv(mortgage_rate_to_load)\n",
    "yr_mortgage_rate_df =  mortgage_rate_df.groupby(['year'],as_index=False)['mortgage_rate'].mean()\n",
    "Combined_data_2 = yr_house_price_df_plot1.merge(yr_mortgage_rate_df, on='year', how='left')\n",
    "Combined_data_2\n",
    "#yr_mortgage_rate_df.head(22)\n",
    "#mortgage_rate_df.head()"
   ]
  },
  {
   "cell_type": "code",
   "execution_count": null,
   "id": "ca6c0ee3-46ce-4660-9dec-ee5aaad41f2b",
   "metadata": {},
   "outputs": [],
   "source": [
    "mortgage_plot = Combined_data_2[[\"year\",\"index_percentage_change\",\"mortgage_rate\"]]\n",
    "mortgage_plot=pd.merge(left=mortgage_plot, right=HPI_CPI_plot, how='left', on='year')\n",
    "mortgage_plot_f = mortgage_plot_f.rename(columns={\"mortgage_rate\": \"Home mortgage Interest rate\", \"mortgage_rate\": \"Mortgage Rate\"})\n",
    "\n",
    "mortgage_plot_f=mortgage_plot.drop(['index_percentage_change'],axis=1)\n",
    "\n",
    "def HPI_inflation_vs_MR_CPI():\n",
    "    mortgage_plot_piv = pd.melt(mortgage_plot_f, \n",
    "                id_vars='year', \n",
    "                value_vars=list(mortgage_plot_f.columns[1:]), \n",
    "                var_name='Type', \n",
    "                value_name='percentage_change')\n",
    "    mortgage_plot_piv\n",
    "    fig = px.line(mortgage_plot_piv, x=\"year\", y=\"ValuePct\", color='Type',title='HPI,CPI Inflation VS Mortgage Rate')\n",
    "    fig.show()\n",
    "    return"
   ]
  },
  {
   "cell_type": "code",
   "execution_count": null,
   "id": "2b2e2c2b-5ef3-4dd7-a528-23c6306cd610",
   "metadata": {},
   "outputs": [],
   "source": [
    "HPI_inflation_vs_MR_CPI()"
   ]
  },
  {
   "cell_type": "code",
   "execution_count": null,
   "id": "5ca0b1d5-f7e1-45f4-8f48-2c1a03bd1f05",
   "metadata": {},
   "outputs": [],
   "source": [
    "\n",
    "mortgage_plot_f=mortgage_plot_f.drop(mortgage_plot_f.loc[mortgage_plot_f['year'] == 2024].index)\n",
    "mortgage_plot_f\n",
    "def correlation_cpi_mortgage():\n",
    "    x_values = mortgage_plot_f['CPI']\n",
    "    y_values = mortgage_plot_f['mortgage_rate']\n",
    "    (slope, intercept, rvalue, pvalue, stderr) = linregress(x_values, y_values)\n",
    "    regress_values = x_values * slope + intercept\n",
    "    line_eq = \"y = \" + str(round(slope,2)) + \"x + \" + str(round(intercept,2))\n",
    "    plt.figure(figsize=(10, 6)) \n",
    "    correlation = st.pearsonr(x_values,y_values)\n",
    "    plt.scatter(x_values,y_values)\n",
    "    plt.plot(x_values,regress_values,\"r-\")\n",
    "    plt.annotate(line_eq,(5.8,0.8),fontsize=15,color=\"red\")\n",
    "    plt.title('The correlation between CPI Infation vs Mortgage Rate')\n",
    "    plt.xlabel('CPI Inflation')\n",
    "    plt.ylabel('Mortgage rate')\n",
    "    print(f\"The correlation between both factors is {round(correlation[0],2)}\")\n",
    "    plt.show()\n",
    "    return"
   ]
  },
  {
   "cell_type": "code",
   "execution_count": null,
   "id": "d6163c7c-fb22-456b-94f0-0dc86c481497",
   "metadata": {},
   "outputs": [],
   "source": [
    "correlation_cpi_mortgage()"
   ]
  },
  {
   "cell_type": "code",
   "execution_count": null,
   "id": "6455cad3-1c8c-45d2-9d1a-3d9c8ca1667e",
   "metadata": {},
   "outputs": [],
   "source": [
    "Combined_data_2=Combined_data_2.drop(Combined_data_2.loc[Combined_data_2['year'] == 2014].index)\n",
    "def  hpi_inflation_over_year(): \n",
    "  x_axis = Combined_data_2.year\n",
    "  #print(x_axis)\n",
    "  y_axis= Combined_data_2.index_percentage_change\n",
    "  #print(y_axis)\n",
    "  plt.figure(figsize=(10, 6)) \n",
    "\n",
    "  #plot_pyplot =plt.bar(x_axis,y_axis, color='orchid',alpha=0.6, align='center')\n",
    "  #Combined_data_2['index_percentage_change'] = df['index_percentage_change'].apply(lambda x: (x/df['index_percentage_change'].sum())*100)\n",
    "  labels = Combined_data_2['index_percentage_change'].round(1).astype('str') + '%'\n",
    "  ax = Combined_data_2.plot.bar(x='year', y='index_percentage_change', rot=0)\n",
    "  for container in ax.containers:\n",
    "      ax.bar_label(container, labels=labels)\n",
    "      ax.yaxis.set_major_formatter(mtick.PercentFormatter()) \n",
    "  return    \n",
    "\n",
    "# Display the plot\n",
    "#plt.show()"
   ]
  },
  {
   "cell_type": "code",
   "execution_count": null,
   "id": "c3ed4f4a-7fac-4ea6-bbd7-2fedbc0c5717",
   "metadata": {},
   "outputs": [],
   "source": [
    "hpi_inflation_over_year()"
   ]
  },
  {
   "cell_type": "code",
   "execution_count": null,
   "id": "798b4af5-ffb7-4860-9b44-6a21b58c702d",
   "metadata": {},
   "outputs": [],
   "source": []
  }
 ],
 "metadata": {
  "kernelspec": {
   "display_name": "Python 3 (ipykernel)",
   "language": "python",
   "name": "python3"
  },
  "language_info": {
   "codemirror_mode": {
    "name": "ipython",
    "version": 3
   },
   "file_extension": ".py",
   "mimetype": "text/x-python",
   "name": "python",
   "nbconvert_exporter": "python",
   "pygments_lexer": "ipython3",
   "version": "3.10.14"
  }
 },
 "nbformat": 4,
 "nbformat_minor": 5
}
